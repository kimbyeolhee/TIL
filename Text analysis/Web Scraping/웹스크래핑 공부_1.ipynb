{
 "cells": [
  {
   "cell_type": "markdown",
   "id": "c0784b1d",
   "metadata": {},
   "source": [
    "# Request"
   ]
  },
  {
   "cell_type": "code",
   "execution_count": 1,
   "id": "79c639b0",
   "metadata": {},
   "outputs": [],
   "source": [
    "import requests"
   ]
  },
  {
   "cell_type": "code",
   "execution_count": 2,
   "id": "eb59263d",
   "metadata": {},
   "outputs": [],
   "source": [
    "res = requests.get(\"http://naver.com\")"
   ]
  },
  {
   "cell_type": "code",
   "execution_count": 3,
   "id": "27be75a3",
   "metadata": {},
   "outputs": [
    {
     "name": "stdout",
     "output_type": "stream",
     "text": [
      "응답코드 : 200\n"
     ]
    }
   ],
   "source": [
    "print(\"응답코드 :\", res.status_code) # 200이면 정상"
   ]
  },
  {
   "cell_type": "markdown",
   "id": "e76699f9",
   "metadata": {},
   "source": [
    "### 정상적으로 작동할 경우"
   ]
  },
  {
   "cell_type": "code",
   "execution_count": 4,
   "id": "f2151f33",
   "metadata": {},
   "outputs": [
    {
     "name": "stdout",
     "output_type": "stream",
     "text": [
      "웹 스크래핑을 진행합니다.\n"
     ]
    }
   ],
   "source": [
    "res = requests.get(\"http://google.com\")\n",
    "res.raise_for_status()\n",
    "print(\"웹 스크래핑을 진행합니다.\")"
   ]
  },
  {
   "cell_type": "markdown",
   "id": "2436b449",
   "metadata": {},
   "source": [
    "응답코드가 200이 아니면 접근이 진행되지 않음"
   ]
  },
  {
   "cell_type": "code",
   "execution_count": 5,
   "id": "2ebc261d",
   "metadata": {},
   "outputs": [
    {
     "name": "stdout",
     "output_type": "stream",
     "text": [
      "15611\n"
     ]
    }
   ],
   "source": [
    "print(len(res.text))"
   ]
  },
  {
   "cell_type": "code",
   "execution_count": 6,
   "id": "10d05ced",
   "metadata": {},
   "outputs": [
    {
     "name": "stdout",
     "output_type": "stream",
     "text": [
      "<!doctype html><html itemscope=\"\" itemtype=\"http://schema.org/WebPage\" lang=\"ko\"><head><meta content=\"text/html; charset=UTF-8\" http-equiv=\"Content-Type\"><meta content=\"/images/branding/googleg/1x/googleg_standard_color_128dp.png\" itemprop=\"image\"><title>Google</title><script nonce=\"noFuQvzcyiw1SOTg+gkvXQ==\">(function(){window.google={kEI:'0og3Ye60FYmF-AazvorgAg',kEXPI:'0,772215,1,530320,56873,954,5104,207,2414,2390,2316,383,246,5,1354,5251,1122515,1197766,516,328985,51223,16112,28687,17572,1325,3533,1362,9291,3026,17582,4020,978,13228,3847,4192,6430,19045,2777,919,2370,2711,1593,1279,2213,529,149,1103,840,6305,4112,2023,1777,520,14670,3227,2845,7,5599,6755,5096,16320,908,2,941,2614,13142,3,346,230,6460,148,13975,4,1528,2304,1236,5227,576,4684,2011,18378,2658,6701,656,30,3877,9751,2305,638,1494,5586,3772,7428,651,5167,2539,4094,20,3118,6,614,294,3,3541,1,14262,448,1814,283,912,5992,15336,2,1390,1715,2,3035,22,10965,1999,1464,2379,1678,744,5852,2050,574,3,7836,544,2,614,1269,4921,2,216,292,2377,2721,4546,3,123,3923,685,742,360,4275,1213,2427,2,6,129,2,819,1953,4816,1932,2636,1595,982,1765,1916,2468,2417,482,49,1216,52,39,175,632,1660,49,590,669,2,535,1855,758,615,92,1162,5,689,1562,530,95,58,3,367,35,658,528,17,766,649,24,1716,584,12,148,85,1113,824,302,1723,110,256,70,5,416,343,685,149,84,141,1105,2,2561,564,8,557,5579657,2032,99,3,124,220,72,88,119,8,1802679,4193383,519,206,2800491,882,444,1,2,80,1,1796,1,9,2553,1,748,141,795,563,1,4265,1,1,2,1331,4142,2609,155,17,13,72,139,4,2,20,2,169,13,19,46,5,39,96,548,29,2,2,1,2,1,2,2,7,4,1,2,2,2,2,2,2,353,513,186,1,1,158,3,2,2,2,2,2,4,2,3,3,269,410,76,15,4,5,10,6,23654332,299864,2770168,1271184,338,3,2862,2,89,374,172,406,9,4775',kBL:'Wtym'};google.sn='webhp';google.kHL='ko';})();(function(){\n",
      "var f=this||self;var h,k=[];function l(a){for(var b;a&&(!a.getAttribute||!(b=a.getAttribute(\"eid\")));)a=a.parentNode;return b||h}function m(a){for(var b=null;a&&(!a.getAttribute||!(b=a.getAttribute(\"leid\")));)a=a.parentNode;return b}\n",
      "function n(a,b,c,d,g){var e=\"\";c||-1!==b.search(\"&ei=\")||(e=\"&ei=\"+l(d),-1===b.search(\"&lei=\")&&(d=m(d))&&(e+=\"&lei=\"+d));d=\"\";!c&&f._cshid&&-1===b.search(\"&cshid=\")&&\"slh\"!==a&&(d=\"&cshid=\"+f._cshid);c=c||\"/\"+(g||\"gen_204\")+\"?atyp=i&ct=\"+a+\"&cad=\"+b+e+\"&zx=\"+Date.now()+d;/^http:/i.test(c)&&\"https:\"===window.location.protocol&&(google.ml&&google.ml(Error(\"a\"),!1,{src:c,glmm:1}),c=\"\");return c};h=google.kEI;google.getEI=l;google.getLEI=m;google.ml=function(){return null};google.log=function(a,b,c,d,g){if(c=n(a,b,c,d,g)){a=new Image;var e=k.length;k[e]=a;a.onerror=a.onload=a.onabort=function(){delete k[e]};a.src=c}};google.logUrl=n;}).call(this);(function(){\n",
      "google.y={};google.sy=[];google.x=function(a,b){if(a)var c=a.id;else{do c=Math.random();while(google.y[c])}google.y[c]=[a,b];return!1};google.sx=function(a){google.sy.push(a)};google.lm=[];google.plm=function(a){google.lm.push.apply(google.lm,a)};google.lq=[];google.load=function(a,b,c){google.lq.push([[a],b,c])};google.loadAll=function(a,b){google.lq.push([a,b])};google.bx=!1;google.lx=function(){};}).call(this);google.f={};(function(){\n",
      "document.documentElement.addEventListener(\"submit\",function(b){var a;if(a=b.target){var c=a.getAttribute(\"data-submitfalse\");a=\"1\"==c||\"q\"==c&&!a.elements.q.value?!0:!1}else a=!1;a&&(b.preventDefault(),b.stopPropagation())},!0);document.documentElement.addEventListener(\"click\",function(b){var a;a:{for(a=b.target;a&&a!=document.documentElement;a=a.parentElement)if(\"A\"==a.tagName){a=\"1\"==a.getAttribute(\"data-nohref\");break a}a=!1}a&&b.preventDefault()},!0);}).call(this);</script><style>#gbar,#guser{font-size:13px;padding-top:1px !important;}#gbar{height:22px}#guser{padding-bottom:7px !important;text-align:right}.gbh,.gbd{border-top:1px solid #c9d7f1;font-size:1px}.gbh{height:0;position:absolute;top:24px;width:100%}@media all{.gb1{height:22px;margin-right:.5em;vertical-align:top}#gbar{float:left}}a.gb1,a.gb4{text-decoration:underline !important}a.gb1,a.gb4{color:#00c !important}.gbi .gb4{color:#dd8e27 !important}.gbf .gb4{color:#900 !important}\n",
      "</style><style>body,td,a,p,.h{font-family:&#44404;&#47548;,&#46027;&#50880;,arial,sans-serif}.ko{font-size:9pt}body{margin:0;overflow-y:scroll}#gog{padding:3px 8px 0}td{line-height:.8em}.gac_m td{line-height:17px}form{margin-bottom:20px}.h{color:#1558d6}em{font-weight:bold;font-style:normal}.lst{height:25px;width:496px}.gsfi,.lst{font:18px arial,sans-serif}.gsfs{font:17px arial,sans-serif}.ds{display:inline-box;display:inline-block;margin:3px 0 4px;margin-left:4px}input{font-family:inherit}body{background:#fff;color:#000}a{color:#4b11a8;text-decoration:none}a:hover,a:active{text-decoration:underline}.fl a{color:#1558d6}a:visited{color:#4b11a8}.sblc{padding-top:5px}.sblc a{display:block;margin:2px 0;margin-left:13px;font-size:11px}.lsbb{background:#f8f9fa;border:solid 1px;border-color:#dadce0 #70757a #70757a #dadce0;height:30px}.lsbb{display:block}#WqQANb a{display:inline-block;margin:0 12px}.lsb{background:url(/images/nav_logo229.png) 0 -261px repeat-x;border:none;color:#000;cursor:pointer;height:30px;margin:0;outline:0;font:15px arial,sans-serif;vertical-align:top}.lsb:active{background:#dadce0}.lst:focus{outline:none}.tiah{width:458px}</style><script nonce=\"noFuQvzcyiw1SOTg+gkvXQ==\"></script></head><body bgcolor=\"#fff\"><script nonce=\"noFuQvzcyiw1SOTg+gkvXQ==\">(function(){var src='/images/nav_logo229.png';var iesg=false;document.body.onload = function(){window.n && window.n();if (document.images){new Image().src=src;}\n",
      "if (!iesg){document.f&&document.f.q.focus();document.gbqf&&document.gbqf.q.focus();}\n",
      "}\n",
      "})();</script><div id=\"mngb\"><div id=gbar><nobr><b class=gb1>&#44160;&#49353;</b> <a class=gb1 href=\"http://www.google.co.kr/imghp?hl=ko&tab=wi\">&#51060;&#48120;&#51648;</a> <a class=gb1 href=\"http://maps.google.co.kr/maps?hl=ko&tab=wl\">&#51648;&#46020;</a> <a class=gb1 href=\"https://play.google.com/?hl=ko&tab=w8\">Play</a> <a class=gb1 href=\"http://www.youtube.com/?gl=KR&tab=w1\">YouTube</a> <a class=gb1 href=\"https://news.google.com/?tab=wn\">&#45684;&#49828;</a> <a class=gb1 href=\"https://mail.google.com/mail/?tab=wm\">Gmail</a> <a class=gb1 href=\"https://drive.google.com/?tab=wo\">&#46300;&#46972;&#51060;&#48652;</a> <a class=gb1 style=\"text-decoration:none\" href=\"https://www.google.co.kr/intl/ko/about/products?tab=wh\"><u>&#45908;&#48372;&#44592;</u> &raquo;</a></nobr></div><div id=guser width=100%><nobr><span id=gbn class=gbi></span><span id=gbf class=gbf></span><span id=gbe></span><a href=\"http://www.google.co.kr/history/optout?hl=ko\" class=gb4>&#50937; &#44592;&#47197;</a> | <a  href=\"/preferences?hl=ko\" class=gb4>&#49444;&#51221;</a> | <a target=_top id=gb_70 href=\"https://accounts.google.com/ServiceLogin?hl=ko&passive=true&continue=http://www.google.com/&ec=GAZAAQ\" class=gb4>&#47196;&#44536;&#51064;</a></nobr></div><div class=gbh style=left:0></div><div class=gbh style=right:0></div></div><center><br clear=\"all\" id=\"lgpd\"><div id=\"lga\"><img alt=\"Google\" height=\"92\" src=\"/images/branding/googlelogo/1x/googlelogo_white_background_color_272x92dp.png\" style=\"padding:28px 0 14px\" width=\"272\" id=\"hplogo\"><br><br></div><form action=\"/search\" name=\"f\"><table cellpadding=\"0\" cellspacing=\"0\"><tr valign=\"top\"><td width=\"25%\">&nbsp;</td><td align=\"center\" nowrap=\"\"><input name=\"ie\" value=\"ISO-8859-1\" type=\"hidden\"><input value=\"ko\" name=\"hl\" type=\"hidden\"><input name=\"source\" type=\"hidden\" value=\"hp\"><input name=\"biw\" type=\"hidden\"><input name=\"bih\" type=\"hidden\"><div class=\"ds\" style=\"height:32px;margin:4px 0\"><div style=\"position:relative;zoom:1\"><input class=\"lst tiah\" style=\"margin:0;padding:5px 8px 0 6px;vertical-align:top;color:#000;padding-right:38px\" autocomplete=\"off\" value=\"\" title=\"Google &#44160;&#49353;\" maxlength=\"2048\" name=\"q\" size=\"57\"><img src=\"/textinputassistant/tia.png\" style=\"position:absolute;cursor:pointer;right:5px;top:4px;z-index:300\" data-script-url=\"/textinputassistant/11/ko_tia.js\" id=\"tsuid1\" alt=\"\" height=\"23\" width=\"27\"><script nonce=\"noFuQvzcyiw1SOTg+gkvXQ==\">(function(){var id='tsuid1';document.getElementById(id).onclick = function(){var s = document.createElement('script');s.src = this.getAttribute('data-script-url');(document.getElementById('xjsc')||document.body).appendChild(s);};})();</script></div></div><br style=\"line-height:0\"><span class=\"ds\"><span class=\"lsbb\"><input class=\"lsb\" value=\"Google &#44160;&#49353;\" name=\"btnG\" type=\"submit\"></span></span><span class=\"ds\"><span class=\"lsbb\"><input class=\"lsb\" id=\"tsuid2\" value=\"I&#8217;m Feeling Lucky\" name=\"btnI\" type=\"submit\"><script nonce=\"noFuQvzcyiw1SOTg+gkvXQ==\">(function(){var id='tsuid2';document.getElementById(id).onclick = function(){if (this.form.q.value){this.checked = 1;if (this.form.iflsig)this.form.iflsig.disabled = false;}\n",
      "else top.location='/doodles/';};})();</script><input value=\"ALs-wAMAAAAAYTeW4kOZUjh8tQxwQBzJ3TnZjJNOuFTt\" name=\"iflsig\" type=\"hidden\"></span></span></td><td class=\"fl sblc\" align=\"left\" nowrap=\"\" width=\"25%\"><a href=\"/advanced_search?hl=ko&amp;authuser=0\">&#44256;&#44553;&#44160;&#49353;</a></td></tr></table><input id=\"gbv\" name=\"gbv\" type=\"hidden\" value=\"1\"><script nonce=\"noFuQvzcyiw1SOTg+gkvXQ==\">(function(){\n",
      "var a,b=\"1\";if(document&&document.getElementById)if(\"undefined\"!=typeof XMLHttpRequest)b=\"2\";else if(\"undefined\"!=typeof ActiveXObject){var c,d,e=[\"MSXML2.XMLHTTP.6.0\",\"MSXML2.XMLHTTP.3.0\",\"MSXML2.XMLHTTP\",\"Microsoft.XMLHTTP\"];for(c=0;d=e[c++];)try{new ActiveXObject(d),b=\"2\"}catch(h){}}a=b;if(\"2\"==a&&-1==location.search.indexOf(\"&gbv=2\")){var f=google.gbvu,g=document.getElementById(\"gbv\");g&&(g.value=a);f&&window.setTimeout(function(){location.href=f},0)};}).call(this);</script></form><div id=\"gac_scont\"></div><div style=\"font-size:83%;min-height:3.5em\"><br><div id=\"prm\"><style>.szppmdbYutt__middle-slot-promo{font-size:small;margin-bottom:32px}.szppmdbYutt__middle-slot-promo a.ZIeIlb{display:inline-block;text-decoration:none}.szppmdbYutt__middle-slot-promo img{border:none;margin-right:5px;vertical-align:middle}</style><div class=\"szppmdbYutt__middle-slot-promo\" data-ved=\"0ahUKEwju5e6bmu3yAhWJAt4KHTOfAiwQnIcBCAQ\"><span>&#53076;&#47196;&#45208;19 &#48177;&#49888;, &#47924;&#50631;&#51060; &#44417;&#44552;&#54616;&#49888;&#44032;&#50836;? </span><a class=\"NKcBbd\" href=\"https://www.google.com/url?q=https://www.google.com/search%3Fq%3D%25EC%25BD%2594%25EB%25A1%259C%25EB%2582%259819%2B%25EB%25B0%25B1%25EC%258B%25A0%26sxsrf%3DALeKk01D-mWZ2quyu_o2U7jWhBJJba9G7w%253A1629872641462%26ei%3DAeIlYcSFGqqvmAX0wIXIAg%26oq%3D%25EC%25BD%2594%25EB%25A1%259C%25EB%2582%259819%2B%25EB%25B0%25B1%25EC%258B%25A0%26gs_lcp%3DCgdnd3Mtd2l6EAMyBQgAEIAEMgUIABCABDIFCAAQgAQyBQgAEIAEMgUIABCABDIFCAAQgAQyBQgAEIAEMgUIABCABDIFCAAQgAQyBQgAEIAEOgcIABBHELADOgQIIxAnOgoIABCABBCHAhAUOgsIABCABBCxAxCDAToICAAQgAQQsQM6BwgAELEDEEM6EAgAEIAEEIcCELEDEIMBEBQ6BAgAEENKBAhBGABQmANY3CRgxyVoB3AFeASAAaIEiAHFGpIBCzEuNi4zLjIuMS4xmAEAoAEByAEIwAEB%26sclient%3Dgws-wiz%26ved%3D0ahUKEwiEisnexMvyAhWqF6YKHXRgASkQ4dUDCA4%26uact%3D5%26utm_source%3Dgoogle%26utm_medium%3DHPP%26utm_campaign%3Dcovid_facts_kr_kr_desktop%26utm_id%3Dcovid_facts_kr_kr_desktop&amp;source=hpp&amp;id=19025799&amp;ct=3&amp;usg=AFQjCNHywjGAaB3w3ivYb9N9Ake_7l9vXQ&amp;sa=X&amp;ved=0ahUKEwju5e6bmu3yAhWJAt4KHTOfAiwQ8IcBCAU\" rel=\"nofollow\">&#50732;&#48148;&#47480; &#51221;&#48372; &#54869;&#51064;&#54616;&#44592;</a></div></div></div><span id=\"footer\"><div style=\"font-size:10pt\"><div style=\"margin:19px auto;text-align:center\" id=\"WqQANb\"><a href=\"/intl/ko/ads/\">&#44305;&#44256; &#54532;&#47196;&#44536;&#47016;</a><a href=\"http://www.google.co.kr/intl/ko/services/\">&#48708;&#51592;&#45768;&#49828; &#49556;&#47336;&#49496;</a><a href=\"/intl/ko/about.html\">Google &#51221;&#48372;</a><a href=\"http://www.google.com/setprefdomain?prefdom=KR&amp;prev=http://www.google.co.kr/&amp;sig=K_cLwJZG4g-iYeH8fdwZxOs-EyhX8%3D\">Google.co.kr</a></div></div><p style=\"font-size:8pt;color:#70757a\">&copy; 2021 - <a href=\"/intl/ko/policies/privacy/\">&#44060;&#51064;&#51221;&#48372;&#52376;&#47532;&#48169;&#52840;</a> - <a href=\"/intl/ko/policies/terms/\">&#50557;&#44288;</a></p></span></center><script nonce=\"noFuQvzcyiw1SOTg+gkvXQ==\">(function(){window.google.cdo={height:757,width:1440};(function(){\n",
      "var a=window.innerWidth,b=window.innerHeight;if(!a||!b){var c=window.document,d=\"CSS1Compat\"==c.compatMode?c.documentElement:c.body;a=d.clientWidth;b=d.clientHeight}a&&b&&(a!=google.cdo.width||b!=google.cdo.height)&&google.log(\"\",\"\",\"/client_204?&atyp=i&biw=\"+a+\"&bih=\"+b+\"&ei=\"+google.kEI);}).call(this);})();</script> <script nonce=\"noFuQvzcyiw1SOTg+gkvXQ==\">(function(){google.xjs={ck:'',cs:'',excm:[]};})();</script>  <script nonce=\"noFuQvzcyiw1SOTg+gkvXQ==\">(function(){var u='/xjs/_/js/k\\x3dxjs.hp.en.uJVE4aH5PNY.O/am\\x3dAPgEWA/d\\x3d1/ed\\x3d1/rs\\x3dACT90oH46UR8q8EWogvmv18iTgG_1SJR5A/m\\x3dsb_he,d';\n",
      "var e=this||self,f=function(a){return a};var g;var l=function(a,b){this.g=b===h?a:\"\"};l.prototype.toString=function(){return this.g+\"\"};var h={};function m(){var a=u;google.lx=function(){n(a);google.lx=function(){}};google.bx||google.lx()}\n",
      "function n(a){google.timers&&google.timers.load&&google.tick&&google.tick(\"load\",\"xjsls\");var b=document;var c=\"SCRIPT\";\"application/xhtml+xml\"===b.contentType&&(c=c.toLowerCase());c=b.createElement(c);if(void 0===g){b=null;var k=e.trustedTypes;if(k&&k.createPolicy){try{b=k.createPolicy(\"goog#html\",{createHTML:f,createScript:f,createScriptURL:f})}catch(p){e.console&&e.console.error(p.message)}g=b}else g=b}a=(b=g)?b.createScriptURL(a):a;a=new l(a,h);c.src=a instanceof l&&a.constructor===l?a.g:\"type_error:TrustedResourceUrl\";var d;a=(c.ownerDocument&&c.ownerDocument.defaultView||window).document;(d=(b=null===(d=a.querySelector)||void 0===d?void 0:d.call(a,\"script[nonce]\"))?b.nonce||b.getAttribute(\"nonce\")||\"\":\"\")&&c.setAttribute(\"nonce\",d);document.body.appendChild(c);google.psa=!0};setTimeout(function(){m()},0);})();(function(){window.google.xjsu='/xjs/_/js/k\\x3dxjs.hp.en.uJVE4aH5PNY.O/am\\x3dAPgEWA/d\\x3d1/ed\\x3d1/rs\\x3dACT90oH46UR8q8EWogvmv18iTgG_1SJR5A/m\\x3dsb_he,d';})();function _DumpException(e){throw e;}\n",
      "function _F_installCss(c){}\n",
      "(function(){google.jl={attn:false,blt:'none',chnk:0,dw:false,emtn:0,end:0,ine:false,lls:'default',pdt:0,rep:0,sif:true,snet:true,strt:0,ubm:false,uwp:true};})();(function(){var pmc='{\\x22d\\x22:{},\\x22sb_he\\x22:{\\x22agen\\x22:true,\\x22cgen\\x22:true,\\x22client\\x22:\\x22heirloom-hp\\x22,\\x22dh\\x22:true,\\x22dhqt\\x22:true,\\x22ds\\x22:\\x22\\x22,\\x22ffql\\x22:\\x22ko\\x22,\\x22fl\\x22:true,\\x22host\\x22:\\x22google.com\\x22,\\x22isbh\\x22:28,\\x22jsonp\\x22:true,\\x22msgs\\x22:{\\x22cibl\\x22:\\x22&#44160;&#49353;&#50612; &#51648;&#50864;&#44592;\\x22,\\x22dym\\x22:\\x22&#51060;&#44163;&#51012; &#52286;&#51004;&#49512;&#45208;&#50836;?\\x22,\\x22lcky\\x22:\\x22I&#8217;m Feeling Lucky\\x22,\\x22lml\\x22:\\x22&#51088;&#49464;&#55176; &#50508;&#50500;&#48372;&#44592;\\x22,\\x22oskt\\x22:\\x22&#51077;&#47141; &#46020;&#44396;\\x22,\\x22psrc\\x22:\\x22&#44160;&#49353;&#50612;&#44032; \\\\u003Ca href\\x3d\\\\\\x22/history\\\\\\x22\\\\u003E&#50937; &#44592;&#47197;\\\\u003C/a\\\\u003E&#50640;&#49436; &#49325;&#51228;&#46104;&#50632;&#49845;&#45768;&#45796;.\\x22,\\x22psrl\\x22:\\x22&#49325;&#51228;\\x22,\\x22sbit\\x22:\\x22&#51060;&#48120;&#51648;&#47196; &#44160;&#49353;\\x22,\\x22srch\\x22:\\x22Google &#44160;&#49353;\\x22},\\x22ovr\\x22:{},\\x22pq\\x22:\\x22\\x22,\\x22refpd\\x22:true,\\x22refspre\\x22:true,\\x22rfs\\x22:[],\\x22sbas\\x22:\\x220 3px 8px 0 rgba(0,0,0,0.2),0 0 0 1px rgba(0,0,0,0.08)\\x22,\\x22sbpl\\x22:16,\\x22sbpr\\x22:16,\\x22scd\\x22:10,\\x22stok\\x22:\\x227qqVh3xW5vDZ-OK8h2WBREHtXes\\x22,\\x22uhde\\x22:false}}';google.pmc=JSON.parse(pmc);})();</script>        </body></html>\n"
     ]
    }
   ],
   "source": [
    "print(res.text)"
   ]
  },
  {
   "cell_type": "code",
   "execution_count": 7,
   "id": "ff828e9d",
   "metadata": {},
   "outputs": [],
   "source": [
    "with open(\"mygoogle.html\", 'w', encoding='utf-8') as f:\n",
    "    f.write(res.text)"
   ]
  },
  {
   "cell_type": "markdown",
   "id": "c25bb2b2",
   "metadata": {},
   "source": [
    "# 정규식"
   ]
  },
  {
   "cell_type": "markdown",
   "id": "13d767b5",
   "metadata": {},
   "source": [
    "### match()"
   ]
  },
  {
   "cell_type": "code",
   "execution_count": 8,
   "id": "a9b02e26",
   "metadata": {},
   "outputs": [],
   "source": [
    "import re"
   ]
  },
  {
   "cell_type": "code",
   "execution_count": 9,
   "id": "90ac7bc1",
   "metadata": {},
   "outputs": [],
   "source": [
    "# . [ca.e]: 하나의 문자를 의미 > care, cafe, case\n",
    "# ^ [^de]: 문자열의 시작 > desk, destination  \n",
    "# $ [se$]: 문자열의 끝 > case, base"
   ]
  },
  {
   "cell_type": "code",
   "execution_count": 10,
   "id": "6bbaa40b",
   "metadata": {},
   "outputs": [
    {
     "name": "stdout",
     "output_type": "stream",
     "text": [
      "case\n"
     ]
    }
   ],
   "source": [
    "# ca?e\n",
    "\n",
    "p = re.compile(\"ca.e\")  \n",
    "\n",
    "m = p.match(\"case\")\n",
    "print(m.group())  # 매치되지 않으면 에러 발생"
   ]
  },
  {
   "cell_type": "code",
   "execution_count": 11,
   "id": "eb12cd47",
   "metadata": {},
   "outputs": [
    {
     "ename": "AttributeError",
     "evalue": "'NoneType' object has no attribute 'group'",
     "output_type": "error",
     "traceback": [
      "\u001b[1;31m---------------------------------------------------------------------------\u001b[0m",
      "\u001b[1;31mAttributeError\u001b[0m                            Traceback (most recent call last)",
      "\u001b[1;32m<ipython-input-11-e7c07bd1aecf>\u001b[0m in \u001b[0;36m<module>\u001b[1;34m\u001b[0m\n\u001b[0;32m      1\u001b[0m \u001b[0mm\u001b[0m \u001b[1;33m=\u001b[0m \u001b[0mp\u001b[0m\u001b[1;33m.\u001b[0m\u001b[0mmatch\u001b[0m\u001b[1;33m(\u001b[0m\u001b[1;34m\"caffe\"\u001b[0m\u001b[1;33m)\u001b[0m\u001b[1;33m\u001b[0m\u001b[1;33m\u001b[0m\u001b[0m\n\u001b[1;32m----> 2\u001b[1;33m \u001b[0mprint\u001b[0m\u001b[1;33m(\u001b[0m\u001b[0mm\u001b[0m\u001b[1;33m.\u001b[0m\u001b[0mgroup\u001b[0m\u001b[1;33m(\u001b[0m\u001b[1;33m)\u001b[0m\u001b[1;33m)\u001b[0m\u001b[1;33m\u001b[0m\u001b[1;33m\u001b[0m\u001b[0m\n\u001b[0m",
      "\u001b[1;31mAttributeError\u001b[0m: 'NoneType' object has no attribute 'group'"
     ]
    }
   ],
   "source": [
    "m = p.match(\"caffe\")\n",
    "print(m.group())  "
   ]
  },
  {
   "cell_type": "code",
   "execution_count": 12,
   "id": "df27829a",
   "metadata": {},
   "outputs": [
    {
     "name": "stdout",
     "output_type": "stream",
     "text": [
      "매칭되지 않음\n"
     ]
    }
   ],
   "source": [
    "if m:\n",
    "    print(m.group())\n",
    "else:\n",
    "    print(\"매칭되지 않음\")"
   ]
  },
  {
   "cell_type": "code",
   "execution_count": 13,
   "id": "62502983",
   "metadata": {},
   "outputs": [
    {
     "name": "stdout",
     "output_type": "stream",
     "text": [
      "care\n"
     ]
    }
   ],
   "source": [
    "# 함수화\n",
    "\n",
    "def print_match(m):\n",
    "    if m:\n",
    "        print(m.group())\n",
    "    else:\n",
    "        print(\"매칭되지 않음\")\n",
    "        \n",
    "m = p.match(\"care\")\n",
    "print_match(m)"
   ]
  },
  {
   "cell_type": "code",
   "execution_count": 14,
   "id": "2e5cfa5f",
   "metadata": {},
   "outputs": [
    {
     "name": "stdout",
     "output_type": "stream",
     "text": [
      "care\n"
     ]
    }
   ],
   "source": [
    "m = p.match(\"careless\")  # 주어진 문자열의 처음부터 일치하는지 확인\n",
    "print_match(m)"
   ]
  },
  {
   "cell_type": "markdown",
   "id": "820b5230",
   "metadata": {},
   "source": [
    "### search()\n",
    "주어진 문자열 중에 일치하는게 있는지 확인"
   ]
  },
  {
   "cell_type": "code",
   "execution_count": 15,
   "id": "b5f0ffbf",
   "metadata": {},
   "outputs": [],
   "source": [
    "def print_match(m):\n",
    "    if m:\n",
    "        print(\"m.group():\", m.group()) # 일치하는 문자열 반환\n",
    "        print(\"m.string:\", m.string) # 입력받은 문자열\n",
    "        print(\"m.start():\", m.start()) # 일치하는 문자열의 시작 index\n",
    "        print(\"m.end():\", m.end()) # 일치하는 문자열의 끝 index\n",
    "        print(\"m.span():\", m.span()) # 일치하는 문자열의 시작 / 끝 index\n",
    "    else:\n",
    "        print(\"매칭되지 않음\")"
   ]
  },
  {
   "cell_type": "code",
   "execution_count": 16,
   "id": "66f9098c",
   "metadata": {},
   "outputs": [
    {
     "name": "stdout",
     "output_type": "stream",
     "text": [
      "m.group(): care\n",
      "m.string: good care\n",
      "m.start(): 5\n",
      "m.end(): 9\n",
      "m.span(): (5, 9)\n"
     ]
    }
   ],
   "source": [
    "m = p.search(\"good care\")\n",
    "print_match(m)"
   ]
  },
  {
   "cell_type": "markdown",
   "id": "858f25d6",
   "metadata": {},
   "source": [
    "### findall()\n",
    "\n",
    "일치하는 모든 것을 리스트 형태로 반환"
   ]
  },
  {
   "cell_type": "code",
   "execution_count": 17,
   "id": "80890900",
   "metadata": {},
   "outputs": [
    {
     "name": "stdout",
     "output_type": "stream",
     "text": [
      "['care']\n"
     ]
    }
   ],
   "source": [
    "lst = p.findall('careless')\n",
    "print(lst)"
   ]
  },
  {
   "cell_type": "code",
   "execution_count": 18,
   "id": "cf39cbb7",
   "metadata": {},
   "outputs": [
    {
     "name": "stdout",
     "output_type": "stream",
     "text": [
      "['care']\n"
     ]
    }
   ],
   "source": [
    "lst = p.findall('good care')\n",
    "print(lst)"
   ]
  },
  {
   "cell_type": "code",
   "execution_count": 19,
   "id": "15f5e60d",
   "metadata": {},
   "outputs": [
    {
     "name": "stdout",
     "output_type": "stream",
     "text": [
      "['care', 'cafe']\n"
     ]
    }
   ],
   "source": [
    "lst = p.findall('good care cafe')\n",
    "print(lst)"
   ]
  },
  {
   "cell_type": "markdown",
   "id": "bc2a29e6",
   "metadata": {},
   "source": [
    "1. p = re.compile(\"원하는 형태\")<br/>\n",
    "2. m = p.match(\"비교할 문자열\") : 주어진 문자열의 처음부터 일치하는지 확인 <br/>\n",
    "3. m = p.search(\"비교할 문자열\") : 주어진 문자열 중 일치하는게 있는지 확인 <br/>\n",
    "4. lst = p.findall(\"비교할 문자열\") : 일치하는 모든 것을 '리스트 '형태로 반환\n",
    "    "
   ]
  },
  {
   "cell_type": "markdown",
   "id": "53a66902",
   "metadata": {},
   "source": [
    "# User Agent"
   ]
  },
  {
   "cell_type": "code",
   "execution_count": 20,
   "id": "2307ead0",
   "metadata": {},
   "outputs": [],
   "source": [
    "import requests\n",
    "url = \"http://nadocoding.tistory.com\"\n",
    "headers = {\"User-Agent\":\"Mozilla/5.0 (Windows NT 10.0; Win64; x64) AppleWebKit/537.36 (KHTML, like Gecko) Chrome/92.0.4515.159 Safari/537.36\"}\n",
    "\n",
    "res = requests.get(url, headers=headers)\n",
    "res.raise_for_status()\n",
    "with open(\"nadocoding.html\", \"w\", encoding='utf-8') as f:\n",
    "    f.write(res.text)"
   ]
  },
  {
   "cell_type": "markdown",
   "id": "f21c0cd6",
   "metadata": {},
   "source": [
    "# BeaurifulSuop4_네이버 웹툰"
   ]
  },
  {
   "cell_type": "code",
   "execution_count": 21,
   "id": "f3340eaf",
   "metadata": {},
   "outputs": [
    {
     "name": "stdout",
     "output_type": "stream",
     "text": [
      "Requirement already satisfied: lxml in c:\\users\\user\\anaconda3\\lib\\site-packages (4.6.3)\n",
      "Note: you may need to restart the kernel to use updated packages.\n"
     ]
    }
   ],
   "source": [
    "pip install lxml"
   ]
  },
  {
   "cell_type": "code",
   "execution_count": 22,
   "id": "7cd32623",
   "metadata": {},
   "outputs": [
    {
     "name": "stdout",
     "output_type": "stream",
     "text": [
      "<title>네이버 만화 &gt; 요일별  웹툰 &gt; 전체웹툰</title>\n"
     ]
    }
   ],
   "source": [
    "import requests\n",
    "from bs4 import BeautifulSoup\n",
    "\n",
    "url = \"https://comic.naver.com/webtoon/weekday\"\n",
    "res = requests.get(url)\n",
    "res.raise_for_status()\n",
    "\n",
    "soup = BeautifulSoup(res.text, \"lxml\")  # 가져온 text를 lxml parser로 나눈다.\n",
    "\n",
    "print(soup.title)"
   ]
  },
  {
   "cell_type": "code",
   "execution_count": 23,
   "id": "e0071db6",
   "metadata": {},
   "outputs": [
    {
     "name": "stdout",
     "output_type": "stream",
     "text": [
      "네이버 만화 > 요일별  웹툰 > 전체웹툰\n"
     ]
    }
   ],
   "source": [
    "print(soup.title.get_text())"
   ]
  },
  {
   "cell_type": "code",
   "execution_count": 24,
   "id": "f879c5db",
   "metadata": {},
   "outputs": [
    {
     "name": "stdout",
     "output_type": "stream",
     "text": [
      "<a href=\"#menu\" onclick=\"document.getElementById('menu').tabIndex=-1;document.getElementById('menu').focus();return false;\"><span>메인 메뉴로 바로가기</span></a>\n"
     ]
    }
   ],
   "source": [
    "print(soup.a)  # 첫번째로 발견된 a element"
   ]
  },
  {
   "cell_type": "code",
   "execution_count": 25,
   "id": "d9d9fe6a",
   "metadata": {},
   "outputs": [
    {
     "name": "stdout",
     "output_type": "stream",
     "text": [
      "{'href': '#menu', 'onclick': \"document.getElementById('menu').tabIndex=-1;document.getElementById('menu').focus();return false;\"}\n"
     ]
    }
   ],
   "source": [
    "print(soup.a.attrs)"
   ]
  },
  {
   "cell_type": "code",
   "execution_count": 26,
   "id": "1d20c361",
   "metadata": {},
   "outputs": [
    {
     "name": "stdout",
     "output_type": "stream",
     "text": [
      "#menu\n"
     ]
    }
   ],
   "source": [
    "print(soup.a[\"href\"])"
   ]
  },
  {
   "cell_type": "markdown",
   "id": "c07b3339",
   "metadata": {},
   "source": [
    "* print(soup.a) > soup 객체에서 처음 발견되는 a element 반환<br/>\n",
    "* print(soup.a.attrs) > a element의 속성 정보 출력\n",
    "* print(soup.a[\"href\"]) > a element의 href 속성 '값' 정보 출력"
   ]
  },
  {
   "cell_type": "markdown",
   "id": "a1ffb264",
   "metadata": {},
   "source": [
    "### soup.find"
   ]
  },
  {
   "cell_type": "markdown",
   "id": "9716bb7b",
   "metadata": {},
   "source": [
    "class = \"Nbtn_upload\"인 a element를 찾아줘"
   ]
  },
  {
   "cell_type": "code",
   "execution_count": 27,
   "id": "d6dcc04d",
   "metadata": {},
   "outputs": [
    {
     "name": "stdout",
     "output_type": "stream",
     "text": [
      "<a class=\"Nbtn_upload\" href=\"/mypage/myActivity\" onclick=\"nclk_v2(event,'olk.upload');\">웹툰 올리기</a>\n"
     ]
    }
   ],
   "source": [
    "print(soup.find(\"a\", attrs={\"class\":\"Nbtn_upload\"}))"
   ]
  },
  {
   "cell_type": "markdown",
   "id": "23cf6d2f",
   "metadata": {},
   "source": [
    "class = \"Nbtn_upload\"인 어떤 element를 찾아줘"
   ]
  },
  {
   "cell_type": "code",
   "execution_count": 28,
   "id": "3b6de08f",
   "metadata": {},
   "outputs": [
    {
     "name": "stdout",
     "output_type": "stream",
     "text": [
      "<a class=\"Nbtn_upload\" href=\"/mypage/myActivity\" onclick=\"nclk_v2(event,'olk.upload');\">웹툰 올리기</a>\n"
     ]
    }
   ],
   "source": [
    "print(soup.find(attrs={'class':\"Nbtn_upload\"}))"
   ]
  },
  {
   "cell_type": "code",
   "execution_count": 29,
   "id": "6d2f3c44",
   "metadata": {},
   "outputs": [
    {
     "name": "stdout",
     "output_type": "stream",
     "text": [
      "<li class=\"rank01\">\n",
      "<a href=\"/webtoon/detail?titleId=774862&amp;no=16\" onclick=\"nclk_v2(event,'rnk*p.cont','774862','1')\" title=\"조조코믹스-킹스앱스 7화\">조조코믹스-킹스앱스 7화</a>\n",
      "<span class=\"rankBox\">\n",
      "<img alt=\"변동없음\" height=\"10\" src=\"https://ssl.pstatic.net/static/comic/images/migration/common/arrow_no.gif\" title=\"변동없음\" width=\"7\"/> 0\n",
      "\t\t\t\t\t\t\n",
      "\t\t\t\t\t\n",
      "\t\t\t\t</span>\n",
      "</li>\n"
     ]
    }
   ],
   "source": [
    "print(soup.find(\"li\", attrs={\"class\":\"rank01\"}))"
   ]
  },
  {
   "cell_type": "code",
   "execution_count": 30,
   "id": "20fcaf4c",
   "metadata": {},
   "outputs": [
    {
     "name": "stdout",
     "output_type": "stream",
     "text": [
      "<a href=\"/webtoon/detail?titleId=774862&amp;no=16\" onclick=\"nclk_v2(event,'rnk*p.cont','774862','1')\" title=\"조조코믹스-킹스앱스 7화\">조조코믹스-킹스앱스 7화</a>\n"
     ]
    }
   ],
   "source": [
    "rank1 = soup.find(\"li\", attrs={\"class\":\"rank01\"})\n",
    "print(rank1.a)"
   ]
  },
  {
   "cell_type": "code",
   "execution_count": 31,
   "id": "988453a9",
   "metadata": {},
   "outputs": [
    {
     "name": "stdout",
     "output_type": "stream",
     "text": [
      "조조코믹스-킹스앱스 7화\n"
     ]
    }
   ],
   "source": [
    "print(rank1.a.get_text())"
   ]
  },
  {
   "cell_type": "code",
   "execution_count": 32,
   "id": "1b1c1623",
   "metadata": {},
   "outputs": [
    {
     "name": "stdout",
     "output_type": "stream",
     "text": [
      "\n",
      "\n"
     ]
    }
   ],
   "source": [
    "# 다음 tag로 넘어가기\n",
    "print(rank1.next_sibling)"
   ]
  },
  {
   "cell_type": "code",
   "execution_count": 33,
   "id": "5133ea03",
   "metadata": {},
   "outputs": [],
   "source": [
    "rank2 = rank1.next_sibling.next_sibling"
   ]
  },
  {
   "cell_type": "code",
   "execution_count": 34,
   "id": "78a514cf",
   "metadata": {},
   "outputs": [
    {
     "name": "stdout",
     "output_type": "stream",
     "text": [
      "급식아빠-34화 영등포 피 가위 사건\n"
     ]
    }
   ],
   "source": [
    "rank3 = rank2.next_sibling.next_sibling\n",
    "print(rank3.a.get_text())"
   ]
  },
  {
   "cell_type": "code",
   "execution_count": 35,
   "id": "691adcc3",
   "metadata": {},
   "outputs": [
    {
     "name": "stdout",
     "output_type": "stream",
     "text": [
      "전지적 독자 시점-067. Ep.15 왕이 없는 세계 (3)\n"
     ]
    }
   ],
   "source": [
    "rank2 = rank3.previous_sibling.previous_sibling\n",
    "print(rank2.a.get_text())"
   ]
  },
  {
   "cell_type": "code",
   "execution_count": 36,
   "id": "1fd316e3",
   "metadata": {},
   "outputs": [
    {
     "name": "stdout",
     "output_type": "stream",
     "text": [
      "<ol class=\"asideBoxRank\" id=\"realTimeRankFavorite\">\n",
      "<li class=\"rank01\">\n",
      "<a href=\"/webtoon/detail?titleId=774862&amp;no=16\" onclick=\"nclk_v2(event,'rnk*p.cont','774862','1')\" title=\"조조코믹스-킹스앱스 7화\">조조코믹스-킹스앱스 7화</a>\n",
      "<span class=\"rankBox\">\n",
      "<img alt=\"변동없음\" height=\"10\" src=\"https://ssl.pstatic.net/static/comic/images/migration/common/arrow_no.gif\" title=\"변동없음\" width=\"7\"/> 0\n",
      "\t\t\t\t\t\t\n",
      "\t\t\t\t\t\n",
      "\t\t\t\t</span>\n",
      "</li>\n",
      "<li class=\"rank02\">\n",
      "<a href=\"/webtoon/detail?titleId=747269&amp;no=68\" onclick=\"nclk_v2(event,'rnk*p.cont','747269','2')\" title=\"전지적 독자 시점-067. Ep.15 왕이 없는 세계 (3)\">전지적 독자 시점-067. Ep.15 왕이 없는 세계 (3)</a>\n",
      "<span class=\"rankBox\">\n",
      "<img alt=\"변동없음\" height=\"10\" src=\"https://ssl.pstatic.net/static/comic/images/migration/common/arrow_no.gif\" title=\"변동없음\" width=\"7\"/> 0\n",
      "\t\t\t\t\t\t\n",
      "\t\t\t\t\t\n",
      "\t\t\t\t</span>\n",
      "</li>\n",
      "<li class=\"rank03\">\n",
      "<a href=\"/webtoon/detail?titleId=758662&amp;no=34\" onclick=\"nclk_v2(event,'rnk*p.cont','758662','3')\" title=\"급식아빠-34화 영등포 피 가위 사건\">급식아빠-34화 영등포 피 가위 사건</a>\n",
      "<span class=\"rankBox\">\n",
      "<img alt=\"변동없음\" height=\"10\" src=\"https://ssl.pstatic.net/static/comic/images/migration/common/arrow_no.gif\" title=\"변동없음\" width=\"7\"/> 0\n",
      "\t\t\t\t\t\t\n",
      "\t\t\t\t\t\n",
      "\t\t\t\t</span>\n",
      "</li>\n",
      "<li class=\"rank04\">\n",
      "<a href=\"/webtoon/detail?titleId=749639&amp;no=60\" onclick=\"nclk_v2(event,'rnk*p.cont','749639','4')\" title=\"남주의 첫날밤을 가져버렸다-60화\">남주의 첫날밤을 가져버렸다-60화</a>\n",
      "<span class=\"rankBox\">\n",
      "<img alt=\"변동없음\" height=\"10\" src=\"https://ssl.pstatic.net/static/comic/images/migration/common/arrow_no.gif\" title=\"변동없음\" width=\"7\"/> 0\n",
      "\t\t\t\t\t\t\n",
      "\t\t\t\t\t\n",
      "\t\t\t\t</span>\n",
      "</li>\n",
      "<li class=\"rank05\">\n",
      "<a href=\"/webtoon/detail?titleId=738143&amp;no=88\" onclick=\"nclk_v2(event,'rnk*p.cont','738143','5')\" title=\"여주실격!-85화 종방연 (2)\">여주실격!-85화 종방연 (2)</a>\n",
      "<span class=\"rankBox\">\n",
      "<img alt=\"변동없음\" height=\"10\" src=\"https://ssl.pstatic.net/static/comic/images/migration/common/arrow_no.gif\" title=\"변동없음\" width=\"7\"/> 0\n",
      "\t\t\t\t\t\t\n",
      "\t\t\t\t\t\n",
      "\t\t\t\t</span>\n",
      "</li>\n",
      "<li class=\"rank06\">\n",
      "<a href=\"/webtoon/detail?titleId=738694&amp;no=72\" onclick=\"nclk_v2(event,'rnk*p.cont','738694','6')\" title=\"튜토리얼 탑의 고인물-72화\">튜토리얼 탑의 고인물-72화</a>\n",
      "<span class=\"rankBox\">\n",
      "<img alt=\"변동없음\" height=\"10\" src=\"https://ssl.pstatic.net/static/comic/images/migration/common/arrow_no.gif\" title=\"변동없음\" width=\"7\"/> 0\n",
      "\t\t\t\t\t\t\n",
      "\t\t\t\t\t\n",
      "\t\t\t\t</span>\n",
      "</li>\n",
      "<li class=\"rank07\">\n",
      "<a href=\"/webtoon/detail?titleId=750184&amp;no=58\" onclick=\"nclk_v2(event,'rnk*p.cont','750184','7')\" title=\"나쁜사람-58화\">나쁜사람-58화</a>\n",
      "<span class=\"rankBox\">\n",
      "<img alt=\"순위상승\" height=\"10\" src=\"https://ssl.pstatic.net/static/comic/images/migration/common/arrow_up.gif\" title=\"순위상승\" width=\"7\"/>2\n",
      "\t\t\t\t\t\t\n",
      "\t\t\t\t\t\t\n",
      "\t\t\t\t\t\n",
      "\t\t\t\t</span>\n",
      "</li>\n",
      "<li class=\"rank08\">\n",
      "<a href=\"/webtoon/detail?titleId=778322&amp;no=5\" onclick=\"nclk_v2(event,'rnk*p.cont','778322','8')\" title=\"무서운게 딱좋아!-5화. 꿈속의 도망 (1)\">무서운게 딱좋아!-5화. 꿈속의 도망 (1)</a>\n",
      "<span class=\"rankBox\">\n",
      "<img alt=\"순위하락\" height=\"10\" src=\"https://ssl.pstatic.net/static/comic/images/migration/common/arrow_down.gif\" title=\"순위하락\" width=\"7\"/>1\n",
      "\t\t\t\t\t\t\n",
      "\t\t\t\t\t\t\n",
      "\t\t\t\t\t\t\n",
      "\t\t\t\t\t\n",
      "\t\t\t\t</span>\n",
      "</li>\n",
      "<li class=\"rank09\">\n",
      "<a href=\"/webtoon/detail?titleId=736744&amp;no=94\" onclick=\"nclk_v2(event,'rnk*p.cont','736744','9')\" title=\"캐슬-93화\">캐슬-93화</a>\n",
      "<span class=\"rankBox\">\n",
      "<img alt=\"순위하락\" height=\"10\" src=\"https://ssl.pstatic.net/static/comic/images/migration/common/arrow_down.gif\" title=\"순위하락\" width=\"7\"/>1\n",
      "\t\t\t\t\t\t\n",
      "\t\t\t\t\t\t\n",
      "\t\t\t\t\t\t\n",
      "\t\t\t\t\t\n",
      "\t\t\t\t</span>\n",
      "</li>\n",
      "<li class=\"rank10\">\n",
      "<a href=\"/webtoon/detail?titleId=670143&amp;no=268\" onclick=\"nclk_v2(event,'rnk*p.cont','670143','10')\" title=\"헬퍼 2 : 킬베로스-267화. ■\">헬퍼 2 : 킬베로스-267화. ■</a>\n",
      "<span class=\"rankBox\">\n",
      "<img alt=\"변동없음\" height=\"10\" src=\"https://ssl.pstatic.net/static/comic/images/migration/common/arrow_no.gif\" title=\"변동없음\" width=\"7\"/> 0\n",
      "\t\t\t\t\t\t\n",
      "\t\t\t\t\t\n",
      "\t\t\t\t</span>\n",
      "</li>\n",
      "</ol>\n"
     ]
    }
   ],
   "source": [
    "print(rank1.parent)"
   ]
  },
  {
   "cell_type": "code",
   "execution_count": 37,
   "id": "a95b1a32",
   "metadata": {},
   "outputs": [
    {
     "name": "stdout",
     "output_type": "stream",
     "text": [
      "전지적 독자 시점-067. Ep.15 왕이 없는 세계 (3)\n"
     ]
    }
   ],
   "source": [
    "rank2 = rank1.find_next_sibling(\"li\")\n",
    "print(rank2.a.get_text())"
   ]
  },
  {
   "cell_type": "markdown",
   "id": "a20fee8b",
   "metadata": {},
   "source": [
    "중간에 개행이 있건 없건 상관없이 수월하게 찾을 수 있다"
   ]
  },
  {
   "cell_type": "code",
   "execution_count": 38,
   "id": "bebfc01d",
   "metadata": {},
   "outputs": [
    {
     "name": "stdout",
     "output_type": "stream",
     "text": [
      "급식아빠-34화 영등포 피 가위 사건\n"
     ]
    }
   ],
   "source": [
    "rank3 = rank2.find_next_sibling(\"li\")\n",
    "print(rank3.a.get_text())"
   ]
  },
  {
   "cell_type": "code",
   "execution_count": 39,
   "id": "bae05a79",
   "metadata": {},
   "outputs": [
    {
     "name": "stdout",
     "output_type": "stream",
     "text": [
      "전지적 독자 시점-067. Ep.15 왕이 없는 세계 (3)\n"
     ]
    }
   ],
   "source": [
    "rank2 = rank3.find_previous_sibling(\"li\")\n",
    "print(rank2.a.get_text())"
   ]
  },
  {
   "cell_type": "code",
   "execution_count": 40,
   "id": "ebf53780",
   "metadata": {},
   "outputs": [
    {
     "name": "stdout",
     "output_type": "stream",
     "text": [
      "[<li class=\"rank02\">\n",
      "<a href=\"/webtoon/detail?titleId=747269&amp;no=68\" onclick=\"nclk_v2(event,'rnk*p.cont','747269','2')\" title=\"전지적 독자 시점-067. Ep.15 왕이 없는 세계 (3)\">전지적 독자 시점-067. Ep.15 왕이 없는 세계 (3)</a>\n",
      "<span class=\"rankBox\">\n",
      "<img alt=\"변동없음\" height=\"10\" src=\"https://ssl.pstatic.net/static/comic/images/migration/common/arrow_no.gif\" title=\"변동없음\" width=\"7\"/> 0\n",
      "\t\t\t\t\t\t\n",
      "\t\t\t\t\t\n",
      "\t\t\t\t</span>\n",
      "</li>, <li class=\"rank03\">\n",
      "<a href=\"/webtoon/detail?titleId=758662&amp;no=34\" onclick=\"nclk_v2(event,'rnk*p.cont','758662','3')\" title=\"급식아빠-34화 영등포 피 가위 사건\">급식아빠-34화 영등포 피 가위 사건</a>\n",
      "<span class=\"rankBox\">\n",
      "<img alt=\"변동없음\" height=\"10\" src=\"https://ssl.pstatic.net/static/comic/images/migration/common/arrow_no.gif\" title=\"변동없음\" width=\"7\"/> 0\n",
      "\t\t\t\t\t\t\n",
      "\t\t\t\t\t\n",
      "\t\t\t\t</span>\n",
      "</li>, <li class=\"rank04\">\n",
      "<a href=\"/webtoon/detail?titleId=749639&amp;no=60\" onclick=\"nclk_v2(event,'rnk*p.cont','749639','4')\" title=\"남주의 첫날밤을 가져버렸다-60화\">남주의 첫날밤을 가져버렸다-60화</a>\n",
      "<span class=\"rankBox\">\n",
      "<img alt=\"변동없음\" height=\"10\" src=\"https://ssl.pstatic.net/static/comic/images/migration/common/arrow_no.gif\" title=\"변동없음\" width=\"7\"/> 0\n",
      "\t\t\t\t\t\t\n",
      "\t\t\t\t\t\n",
      "\t\t\t\t</span>\n",
      "</li>, <li class=\"rank05\">\n",
      "<a href=\"/webtoon/detail?titleId=738143&amp;no=88\" onclick=\"nclk_v2(event,'rnk*p.cont','738143','5')\" title=\"여주실격!-85화 종방연 (2)\">여주실격!-85화 종방연 (2)</a>\n",
      "<span class=\"rankBox\">\n",
      "<img alt=\"변동없음\" height=\"10\" src=\"https://ssl.pstatic.net/static/comic/images/migration/common/arrow_no.gif\" title=\"변동없음\" width=\"7\"/> 0\n",
      "\t\t\t\t\t\t\n",
      "\t\t\t\t\t\n",
      "\t\t\t\t</span>\n",
      "</li>, <li class=\"rank06\">\n",
      "<a href=\"/webtoon/detail?titleId=738694&amp;no=72\" onclick=\"nclk_v2(event,'rnk*p.cont','738694','6')\" title=\"튜토리얼 탑의 고인물-72화\">튜토리얼 탑의 고인물-72화</a>\n",
      "<span class=\"rankBox\">\n",
      "<img alt=\"변동없음\" height=\"10\" src=\"https://ssl.pstatic.net/static/comic/images/migration/common/arrow_no.gif\" title=\"변동없음\" width=\"7\"/> 0\n",
      "\t\t\t\t\t\t\n",
      "\t\t\t\t\t\n",
      "\t\t\t\t</span>\n",
      "</li>, <li class=\"rank07\">\n",
      "<a href=\"/webtoon/detail?titleId=750184&amp;no=58\" onclick=\"nclk_v2(event,'rnk*p.cont','750184','7')\" title=\"나쁜사람-58화\">나쁜사람-58화</a>\n",
      "<span class=\"rankBox\">\n",
      "<img alt=\"순위상승\" height=\"10\" src=\"https://ssl.pstatic.net/static/comic/images/migration/common/arrow_up.gif\" title=\"순위상승\" width=\"7\"/>2\n",
      "\t\t\t\t\t\t\n",
      "\t\t\t\t\t\t\n",
      "\t\t\t\t\t\n",
      "\t\t\t\t</span>\n",
      "</li>, <li class=\"rank08\">\n",
      "<a href=\"/webtoon/detail?titleId=778322&amp;no=5\" onclick=\"nclk_v2(event,'rnk*p.cont','778322','8')\" title=\"무서운게 딱좋아!-5화. 꿈속의 도망 (1)\">무서운게 딱좋아!-5화. 꿈속의 도망 (1)</a>\n",
      "<span class=\"rankBox\">\n",
      "<img alt=\"순위하락\" height=\"10\" src=\"https://ssl.pstatic.net/static/comic/images/migration/common/arrow_down.gif\" title=\"순위하락\" width=\"7\"/>1\n",
      "\t\t\t\t\t\t\n",
      "\t\t\t\t\t\t\n",
      "\t\t\t\t\t\t\n",
      "\t\t\t\t\t\n",
      "\t\t\t\t</span>\n",
      "</li>, <li class=\"rank09\">\n",
      "<a href=\"/webtoon/detail?titleId=736744&amp;no=94\" onclick=\"nclk_v2(event,'rnk*p.cont','736744','9')\" title=\"캐슬-93화\">캐슬-93화</a>\n",
      "<span class=\"rankBox\">\n",
      "<img alt=\"순위하락\" height=\"10\" src=\"https://ssl.pstatic.net/static/comic/images/migration/common/arrow_down.gif\" title=\"순위하락\" width=\"7\"/>1\n",
      "\t\t\t\t\t\t\n",
      "\t\t\t\t\t\t\n",
      "\t\t\t\t\t\t\n",
      "\t\t\t\t\t\n",
      "\t\t\t\t</span>\n",
      "</li>, <li class=\"rank10\">\n",
      "<a href=\"/webtoon/detail?titleId=670143&amp;no=268\" onclick=\"nclk_v2(event,'rnk*p.cont','670143','10')\" title=\"헬퍼 2 : 킬베로스-267화. ■\">헬퍼 2 : 킬베로스-267화. ■</a>\n",
      "<span class=\"rankBox\">\n",
      "<img alt=\"변동없음\" height=\"10\" src=\"https://ssl.pstatic.net/static/comic/images/migration/common/arrow_no.gif\" title=\"변동없음\" width=\"7\"/> 0\n",
      "\t\t\t\t\t\t\n",
      "\t\t\t\t\t\n",
      "\t\t\t\t</span>\n",
      "</li>]\n"
     ]
    }
   ],
   "source": [
    "print(rank1.find_next_siblings(\"li\"))"
   ]
  },
  {
   "cell_type": "code",
   "execution_count": 41,
   "id": "4d77dcca",
   "metadata": {},
   "outputs": [
    {
     "ename": "SyntaxError",
     "evalue": "invalid syntax (<ipython-input-41-542a9f6ffb86>, line 1)",
     "output_type": "error",
     "traceback": [
      "\u001b[1;36m  File \u001b[1;32m\"<ipython-input-41-542a9f6ffb86>\"\u001b[1;36m, line \u001b[1;32m1\u001b[0m\n\u001b[1;33m    <a\u001b[0m\n\u001b[1;37m    ^\u001b[0m\n\u001b[1;31mSyntaxError\u001b[0m\u001b[1;31m:\u001b[0m invalid syntax\n"
     ]
    }
   ],
   "source": [
    "<a \n",
    "onclick=\"nclk_v2(event,'rnk*p.cont','747269','1')\"\n",
    "href=\"/webtoon/detail?titleId=747269&amp;no=68\" \n",
    "title=\"전지적 독자 시점-067. Ep.15 왕이 없는 세계 (3)\">전지적 독자 시점-067. Ep.15 왕이 없는 세계 (3)</a>"
   ]
  },
  {
   "cell_type": "code",
   "execution_count": 42,
   "id": "b6a5f6e1",
   "metadata": {},
   "outputs": [
    {
     "name": "stdout",
     "output_type": "stream",
     "text": [
      "<a href=\"/webtoon/detail?titleId=747269&amp;no=68\" onclick=\"nclk_v2(event,'rnk*p.cont','747269','2')\" title=\"전지적 독자 시점-067. Ep.15 왕이 없는 세계 (3)\">전지적 독자 시점-067. Ep.15 왕이 없는 세계 (3)</a>\n"
     ]
    }
   ],
   "source": [
    "webtoon = soup.find(\"a\", text=\"전지적 독자 시점-067. Ep.15 왕이 없는 세계 (3)\")\n",
    "print(webtoon)"
   ]
  },
  {
   "cell_type": "markdown",
   "id": "0d294b72",
   "metadata": {},
   "source": [
    "# Webtoon_네이버 웹툰 전체 목록 "
   ]
  },
  {
   "cell_type": "code",
   "execution_count": 43,
   "id": "657aad3a",
   "metadata": {},
   "outputs": [
    {
     "name": "stdout",
     "output_type": "stream",
     "text": [
      "참교육\n",
      "신의 탑\n",
      "뷰티풀 군바리\n",
      "윈드브레이커\n",
      "팔이피플\n",
      "소녀의 세계\n",
      "장씨세가 호위무사\n",
      "백수세끼\n",
      "파이게임\n",
      "앵무살수\n",
      "만렙돌파\n",
      "삼매경\n",
      "더블클릭\n",
      "잔불의 기사\n",
      "요리GO\n",
      "약초마을 연쇄살초사건\n",
      "유일무이 로맨스\n",
      "바퀴\n",
      "홍천기\n",
      "히어로메이커\n",
      "칼가는 소녀\n",
      "결혼생활 그림일기\n",
      "똑 닮은 딸\n",
      "물어보는 사이\n",
      "오늘의 순정망화\n",
      "ㅋㄷㅋㄷ만화\n",
      "꼬리잡기\n",
      "영앤리치가 아니야!\n",
      "평범한 8반\n",
      "아는 여자애\n",
      "아, 쫌 참으세요 영주님!\n",
      "수영만화일기\n",
      "황제와의 하룻밤\n",
      "장난감\n",
      "꿈의 기업\n",
      "리턴 투 플레이어\n",
      "순정말고 순종\n",
      "말박왕\n",
      "최후의 금빛아이\n",
      "하루의 하루\n",
      "와이키키 뱀파이어\n",
      "야생천사 보호구역\n",
      "모스크바의 여명\n",
      "사랑의 헌옷수거함\n",
      "착한건 돈이된다\n",
      "선배, 그 립스틱 바르지 마요\n",
      "왕따협상\n",
      "백호랑\n",
      "원하는 건 너 하나\n",
      "또다시, 계약 부부\n",
      "이중첩자\n",
      "라서드\n",
      "마지막 지수\n",
      "드로잉 레시피\n",
      "사막에 핀 달\n",
      "살아간다\n",
      "이탄국의 자청비\n",
      "중독연구소\n",
      "그림자 신부\n",
      "모락모락 왕세자님\n",
      "바로 보지 않는\n",
      "개밥 먹는 남자\n",
      "트리거\n",
      "헬로맨스\n",
      "보살님이 캐리해!\n",
      "기사님을 지켜줘\n",
      "오로지 오로라\n",
      "여신강림\n",
      "덴큐\n",
      "용사가 돌아왔다\n",
      "한림체육관\n",
      "엽총소년\n",
      "하루만 네가 되고 싶어\n",
      "사신소년\n",
      "중증외상센터 : 골든 아워\n",
      "랜덤채팅의 그녀!\n",
      "신도림\n",
      "니나의 마법서랍\n",
      "달콤살벌한 부부\n",
      "헬58\n",
      "호랑이 들어와요\n",
      "집이 없어\n",
      "오피스 누나 이야기\n",
      "원주민 공포만화\n",
      "천마는 평범하게 살 수 없다\n",
      "몬스터\n",
      "윌유메리미\n",
      "블랙 위도우\n",
      "위아더좀비\n",
      "아이레\n",
      "하우스키퍼\n",
      "빌런투킬\n",
      "오늘의 순정망화\n",
      "삼국지톡\n",
      "견우와 선녀\n",
      "이상형은 아닙니다\n",
      "플레이, 플리\n",
      "용왕님의 셰프가 되었습니다\n",
      "교환학생\n",
      "아이즈\n",
      "제로게임\n",
      "3cm 헌터\n",
      "정년이\n",
      "올가미\n",
      "성인초딩\n",
      "기계증식증\n",
      "은주의 방 2~3부\n",
      "빅맨\n",
      "나타나주세요!\n",
      "악인\n",
      "연우의 순정\n",
      "열녀박씨 계약결혼뎐\n",
      "나는 어디에나 있다\n",
      "나의 플랏메이트\n",
      "숲속의 담\n",
      "오파츠\n",
      "태시트\n",
      "조선홍보대행사 조대박\n",
      "그녀석 정복기\n",
      "다꾸남\n",
      "안식의 밤\n",
      "자판귀\n",
      "대신 심부름을 해다오\n",
      "급식러너\n",
      "완벽한 가족\n",
      "연애는 전쟁!\n",
      "언메이크\n",
      "풋내기들\n",
      "고등매직\n",
      "프린스 메이커\n",
      "지원이들\n",
      "NG불가\n",
      "피로만땅\n",
      "하나in세인\n",
      "찐:종합게임동아리\n",
      "인문학적 감수성\n",
      "기밀입니다\n",
      "무서운게 딱좋아!\n",
      "헬퍼 2 : 킬베로스\n",
      "전지적 독자 시점\n",
      "조조코믹스\n",
      "모죠의 일지\n",
      "캐슬\n",
      "튜토리얼 탑의 고인물\n",
      "화산귀환\n",
      "급식아빠\n",
      "남주의 첫날밤을 가져버렸다\n",
      "여주실격!\n",
      "노곤하개\n",
      "세상은 돈과 권력\n",
      "일렉시드\n",
      "66666년 만에 환생한 흑마법사\n",
      "연놈\n",
      "닥터앤닥터 육아일기\n",
      "나쁜사람\n",
      "고삼무쌍\n",
      "블랙홀과 3만원\n",
      "샹치\n",
      "밤낚시\n",
      "마른 가지에 바람처럼\n",
      "엔딩 후 서브남을 주웠다\n",
      "빌드업\n",
      "원수를 사랑하라\n",
      "탈영일지\n",
      "괴물공작의 딸\n",
      "하렘의 남자들\n",
      "관종교장\n",
      "판타지 여동생!\n",
      "귀곡의 문\n",
      "사상최강\n",
      "언덕 위의 제임스\n",
      "방탈출\n",
      "마녀와 용의 신혼일기\n",
      "아도나이\n",
      "새벽 두 시의 신데렐라\n",
      "오징어도 사랑이 되나요?\n",
      "얼굴천재\n",
      "로어 올림푸스\n",
      "칼부림\n",
      "반귀\n",
      "여우담:스윗싱가포르\n",
      "범이올시다!\n",
      "속보입니다\n",
      "수요웹툰의 나강림\n",
      "화가 살리에르\n",
      "사랑과 평강의 온달!\n",
      "반짝반짝 작은 눈\n",
      "무용과 남학생\n",
      "뱀은 꽃을 먹는가\n",
      "웰컴 온보드\n",
      "스캔들\n",
      "기억흔적\n",
      "신선비\n",
      "해귀\n",
      "저승사자 출입금지\n",
      "구주\n",
      "수상한 비밀상담부\n",
      "천도\n",
      "내 룸메이트는 마네킹\n",
      "시효완성\n",
      "나의 계절\n",
      "더 복서\n",
      "연애혁명\n",
      "기기괴괴\n",
      "나노마신\n",
      "독립일기\n",
      "이두나!\n",
      "묵시의 인플루언서\n",
      "화이트 블러드\n",
      "포식동물\n",
      "노답소녀\n",
      "정글쥬스\n",
      "오빠세끼\n",
      "겟백\n",
      "무사만리행\n",
      "하드캐리\n",
      "마왕까지 한 걸음\n",
      "던전 씹어먹는 아티팩트\n",
      "트롤트랩\n",
      "신비\n",
      "흑막 여주가 날 새엄마로 만들려고 해\n",
      "쿠베라\n",
      "최강전설 강해효\n",
      "별을 삼킨 너에게\n",
      "뜨거운 양철지붕 위의 고양이\n",
      "오늘의 순정망화\n",
      "선의의 경쟁\n",
      "시에라\n",
      "꽃만 키우는데 너무강함\n",
      "아빠같은 남자\n",
      "완벽한 결혼의 정석\n",
      "불편한 관계\n",
      "만물의 영장\n",
      "THE 런웨이\n",
      "안개무덤\n",
      "수영만화일기\n",
      "마법사랑해\n",
      "길티액스\n",
      "네가 죽기를 바랄 때가 있었다\n",
      "시월드 판타지\n",
      "마계인섬\n",
      "롤랑롤랑\n",
      "어느날 네가 떠올라!\n",
      "폭탄주먹 변대장\n",
      "로그아웃\n",
      "그 개, 만두\n",
      "성스러운 아이돌\n",
      "달의 요람\n",
      "그 황제가 시곗바늘을 되돌린 사연\n",
      "루커피쳐\n",
      "야만의 시대\n",
      "겟라이프\n",
      "어차피 남편은!\n",
      "소년의 기록\n",
      "집사레인저\n",
      "유리와 유리와 유리\n",
      "돌아온 여기사\n",
      "온실 속 화초\n",
      "온새미로\n",
      "평범한 낙원\n",
      "카루나\n",
      "혼모노트\n",
      "밤하늘에 구름운\n",
      "멸망X초이스\n",
      "모어 라이프\n",
      "보물과 괴물의 도시\n",
      "헬프미\n",
      "바른탕진 프로젝트\n",
      "외모지상주의\n",
      "나 혼자 만렙 뉴비\n",
      "유미의 세포들 외전 : 프로 직장인\n",
      "데드퀸\n",
      "갓 오브 하이스쿨\n",
      "1초\n",
      "개를 낳았다\n",
      "죽지 않으려면\n",
      "광마회귀\n",
      "식인귀\n",
      "서울역 드루이드\n",
      "말년용사\n",
      "세기말 풋사과 보습학원\n",
      "더 게이머\n",
      "여성전용헬스장 진달래짐\n",
      "구남친이 내게 반했다\n",
      "그들이 사귀는 세상\n",
      "상남자\n",
      "플레이어\n",
      "걸어서 30분\n",
      "쌈빡\n",
      "블랙 위도우\n",
      "삼국지톡\n",
      "히어로 킬러\n",
      "미친 후작을 길들이고 말았다\n",
      "환상의 용\n",
      "A.I. 닥터\n",
      "여우놀이\n",
      "역대급 영지 설계사\n",
      "그 기사가 레이디로 사는 법\n",
      "가슴털 로망스\n",
      "감자마을\n",
      "엽사:요괴사냥꾼\n",
      "버그: 스티그마\n",
      "네버엔딩달링\n",
      "빨간맛 로맨스\n",
      "피와 나비\n",
      "닥터 프로스트 시즌 3~4\n",
      "후덜덜덜 남극전자\n",
      "로판 빙의 만화\n",
      "인피니티\n",
      "다름이 아니라\n",
      "주님, 악마가 되게 해주세요!\n",
      "악몽일기\n",
      "너의 미소가 함정\n",
      "사람의 조각\n",
      "도무지 그애는\n",
      "몽홀\n",
      "태권보이\n",
      "방과후 선녀\n",
      "아찔한 전남편\n",
      "거래\n",
      "트럼프\n",
      "빨리감기\n",
      "썸내일\n",
      "킬러방 : 퍼스트 킬\n",
      "구주의 시간\n",
      "팬시X팬시\n",
      "나쁜 쪽으로\n",
      "꽃 피우는 남자\n",
      "백년게임\n",
      "찬란하지 않아도 괜찮아, 새벽\n",
      "진짜 정말 맹세코 좋아해\n",
      "합법해적 파르페\n",
      "강림전기 개정기\n",
      "행운을 빌어요, 용사님!\n",
      "매지컬 메디컬\n",
      "도깨비 고개\n",
      "조조코믹스\n",
      "호랑이형님\n",
      "프리드로우\n",
      "스퍼맨 : 전하지 못한 이야기\n",
      "모죠의 일지\n",
      "취사병 전설이 되다\n",
      "광장\n",
      "망나니 소교주로 환생했다\n",
      "니나의 마법서랍\n",
      "최면학교\n",
      "노곤하개\n",
      "욕망일기\n",
      "힙한남자\n",
      "스터디그룹\n",
      "윌유메리미\n",
      "은둔코인\n",
      "나이트런\n",
      "나를 바꿔줘\n",
      "반드시 해피엔딩\n",
      "어글리후드\n",
      "피라미드 게임\n",
      "탑코너\n",
      "지구식 구원자 전형\n",
      "좀비 파이트\n",
      "태백 : 튜토리얼 맨\n",
      "지옥급식\n",
      "나태 공자, 노력 천재 되다\n",
      "청춘 블라썸\n",
      "메트로헌터\n",
      "공유몽\n",
      "왕년엔 용사님\n",
      "웰캄투실버라이프\n",
      "감 비서가 고장났다\n",
      "단편.zip\n",
      "남자주인공의 여자사람친구입니다\n",
      "남편을 만렙으로 키우려 합니다\n",
      "왕세자 입학도\n",
      "군주\n",
      "중매쟁이 아가 황녀님\n",
      "같은 학교 친구\n",
      "저무는 해, 시린 눈\n",
      "동네몬스터\n",
      "율리\n",
      "팔려 온 신부\n",
      "압락사스\n",
      "내게 필요한 NO맨스\n",
      "키스 식스 센스\n",
      "모두 너였다\n",
      "오늘부터 천생연분\n",
      "더 나우\n",
      "좋은데 어떡해\n",
      "나를 길들여 봐, 차비서\n",
      "도사 가온\n",
      "주욱 같은 하루\n",
      "안녕, 이바다씨\n",
      "후아유!\n",
      "2-3승강장\n",
      "아가사\n",
      "인간졸업\n",
      "아침을 지나 밤으로\n",
      "손 잡아 볼래?\n",
      "광해의 연인\n",
      "먹지마세요\n",
      "무서운게 딱좋아!\n",
      "싸움독학\n",
      "수희0(tngmlek0)\n",
      "독립일기\n",
      "이번 생도 잘 부탁해\n",
      "열렙전사\n",
      "약한영웅\n",
      "입학용병\n",
      "투신전생기\n",
      "어느날 갑자기 서울은\n",
      "닥터앤닥터 육아일기\n",
      "곱게 키웠더니, 짐승\n",
      "샹치\n",
      "소녀재판\n",
      "천하제일인\n",
      "경자 전성시대\n",
      "오로지 너를 이기고 싶어\n",
      "테러대부활\n",
      "나만 보여!\n",
      "살아남은 로맨스\n",
      "사실 마법이었던 거임\n",
      "내일\n",
      "마법스크롤 상인 지오\n",
      "별이삼샵\n",
      "천치전능\n",
      "합격시켜주세용\n",
      "구름이 피워낸 꽃\n",
      "판사 이한영\n",
      "벚꽃이 흩날릴 무렵\n",
      "로어 올림푸스\n",
      "AI가 세상을 지배한다면\n",
      "몸이 바뀌는 사정\n",
      "강남도깨비\n",
      "학교정벌\n",
      "예쁜 사나이\n",
      "동생친구\n",
      "평행도시\n",
      "생존로그\n",
      "아르세니아의 마법사\n",
      "취향 소개소\n",
      "혀로 만난 사이\n",
      "결혼까지 망상했어!\n",
      "다시 또 봄\n",
      "불순물\n",
      "잉여특공대\n",
      "전설의 화석\n",
      "거래하실래요?\n",
      "데빌샷\n",
      "보통아이\n",
      "사람은 고쳐 쓰는 게 아니야!\n",
      "가비지타임\n",
      "패션쇼\n",
      "짝사랑의 유서\n",
      "황제에게 하트를 심어주세요\n",
      "굿 리스너\n",
      "조선여우스캔들\n",
      "가짜인간\n",
      "소녀 해미\n",
      "위험한 신입사원\n",
      "오늘 밤만 재워줘\n",
      "라커, 오프너\n",
      "독신마법사 기숙아파트\n",
      "제타\n",
      "호수의 인어\n",
      "데이즈\n",
      "푸른불꽃\n",
      "샤인 스타\n",
      "호시탐탐\n"
     ]
    }
   ],
   "source": [
    "import requests\n",
    "from bs4 import BeautifulSoup\n",
    "\n",
    "url = \"https://comic.naver.com/webtoon/weekday\"\n",
    "res = requests.get(url)\n",
    "res.raise_for_status()\n",
    "\n",
    "soup = BeautifulSoup(res.text, 'lxml')\n",
    "\n",
    "cartoons = soup.find_all(\"a\", attrs={'class':'title'}) # class 속성이 title인 모든 a element를 반환\n",
    "for cartoon in cartoons:\n",
    "    print(cartoon.get_text())"
   ]
  },
  {
   "cell_type": "markdown",
   "id": "03cd8892",
   "metadata": {},
   "source": [
    "### 모죠의 일지"
   ]
  },
  {
   "cell_type": "code",
   "execution_count": 44,
   "id": "ef0a3620",
   "metadata": {},
   "outputs": [
    {
     "name": "stdout",
     "output_type": "stream",
     "text": [
      "246화. 스마트폰 연대기\n"
     ]
    }
   ],
   "source": [
    "url = \"https://comic.naver.com/webtoon/list?titleId=728015\"\n",
    "res = requests.get(url)\n",
    "res.raise_for_status()\n",
    "\n",
    "soup = BeautifulSoup(res.text, 'lxml')\n",
    "\n",
    "cartoons = soup.find_all(\"td\", attrs={'class':'title'})\n",
    "title = cartoons[0].a.get_text()\n",
    "print(title)"
   ]
  },
  {
   "cell_type": "code",
   "execution_count": 45,
   "id": "7be3a861",
   "metadata": {},
   "outputs": [
    {
     "name": "stdout",
     "output_type": "stream",
     "text": [
      "https://comic.naver.com/webtoon/detail?titleId=728015&no=246&weekday=wed\n"
     ]
    }
   ],
   "source": [
    "link = cartoons[0].a[\"href\"]\n",
    "print(\"https://comic.naver.com\" + link)"
   ]
  },
  {
   "cell_type": "code",
   "execution_count": 46,
   "id": "6c60ad42",
   "metadata": {},
   "outputs": [
    {
     "name": "stdout",
     "output_type": "stream",
     "text": [
      "246화. 스마트폰 연대기 https://comic.naver.com/webtoon/detail?titleId=728015&no=246&weekday=wed\n",
      "245화. 독립의 꿈 https://comic.naver.com/webtoon/detail?titleId=728015&no=245&weekday=wed\n",
      "244화. 수영 배우는 만화 https://comic.naver.com/webtoon/detail?titleId=728015&no=244&weekday=wed\n",
      "243화. 뉴스레터 읽는 만화 https://comic.naver.com/webtoon/detail?titleId=728015&no=243&weekday=wed\n",
      "242화. 매미 https://comic.naver.com/webtoon/detail?titleId=728015&no=242&weekday=wed\n",
      "241화. VR게임하는 만화 (2) https://comic.naver.com/webtoon/detail?titleId=728015&no=241&weekday=wed\n",
      "240화. VR게임하는 만화 (1) https://comic.naver.com/webtoon/detail?titleId=728015&no=240&weekday=wed\n",
      "239화. 식단 하는 만화 https://comic.naver.com/webtoon/detail?titleId=728015&no=239&weekday=wed\n",
      "238화. 어금니 박살 https://comic.naver.com/webtoon/detail?titleId=728015&no=238&weekday=wed\n",
      "237화. 힐링 모임 https://comic.naver.com/webtoon/detail?titleId=728015&no=237&weekday=wed\n"
     ]
    }
   ],
   "source": [
    "for cartoon in cartoons:\n",
    "    title = cartoon.a.get_text()\n",
    "    link = \"https://comic.naver.com\" + cartoon.a[\"href\"]\n",
    "    print(title , link)"
   ]
  },
  {
   "cell_type": "markdown",
   "id": "ab9b6c41",
   "metadata": {},
   "source": [
    "##### 평점 계산"
   ]
  },
  {
   "cell_type": "code",
   "execution_count": 47,
   "id": "25d72a67",
   "metadata": {},
   "outputs": [
    {
     "name": "stdout",
     "output_type": "stream",
     "text": [
      "9.96\n",
      "9.98\n",
      "9.98\n",
      "9.98\n",
      "9.98\n",
      "9.99\n",
      "9.99\n",
      "9.98\n",
      "9.97\n",
      "9.98\n",
      "전체점수: 99.79000000000002\n",
      "평균점수: 9.979000000000003\n"
     ]
    }
   ],
   "source": [
    "total_rates = 0\n",
    "\n",
    "cartoons = soup.find_all(\"div\", attrs={'class':'rating_type'})\n",
    "for cartoon in cartoons:\n",
    "    rate = cartoon.find(\"strong\").get_text()\n",
    "    print(rate)\n",
    "    total_rates += float(rate)\n",
    "\n",
    "print(\"전체점수:\", total_rates)\n",
    "print(\"평균점수:\", total_rates/len(cartoons))"
   ]
  }
 ],
 "metadata": {
  "kernelspec": {
   "display_name": "Python 3",
   "language": "python",
   "name": "python3"
  },
  "language_info": {
   "codemirror_mode": {
    "name": "ipython",
    "version": 3
   },
   "file_extension": ".py",
   "mimetype": "text/x-python",
   "name": "python",
   "nbconvert_exporter": "python",
   "pygments_lexer": "ipython3",
   "version": "3.8.8"
  }
 },
 "nbformat": 4,
 "nbformat_minor": 5
}
