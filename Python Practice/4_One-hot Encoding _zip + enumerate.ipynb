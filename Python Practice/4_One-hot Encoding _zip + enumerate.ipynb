{
 "cells": [
  {
   "cell_type": "markdown",
   "metadata": {},
   "source": [
    "# One-hot Encoding / zip + enumerate"
   ]
  },
  {
   "cell_type": "markdown",
   "metadata": {},
   "source": [
    "## One-hot Encoding\n",
    "string으로 주어진 data를 ont-hot encoding하는 방법 <br>\n",
    "초기 data type의 상관없이 vector로 바꿔주는 one-hot encoding의 특징"
   ]
  },
  {
   "cell_type": "code",
   "execution_count": 8,
   "metadata": {},
   "outputs": [
    {
     "name": "stdout",
     "output_type": "stream",
     "text": [
      "Before one-hot encoding\n",
      "['dog', 'cat', 'dolphin', 'tiger']\n",
      "[1, 0, 0, 0]\n",
      "[0, 1, 0, 0]\n",
      "[0, 0, 1, 0]\n",
      "[0, 0, 0, 1]\n"
     ]
    }
   ],
   "source": [
    "# labels are given by string data type\n",
    "labels = ['dog', 'cat', 'dolphin', 'tiger']\n",
    "print(\"Before one-hot encoding\")\n",
    "print(labels)\n",
    "\n",
    "n_label = len(labels)\n",
    "n_class = 4\n",
    "\n",
    "one_hot_mat = list()\n",
    "for _ in range(n_label):\n",
    "    one_hot_vec = list()\n",
    "    for _ in range(n_class):\n",
    "        one_hot_vec.append(0)\n",
    "    one_hot_mat.append(one_hot_vec)\n",
    "\n",
    "\n",
    "for label_idx, label in enumerate(labels):\n",
    "    \n",
    "    one_hot_vec = one_hot_mat[label_idx]\n",
    "    \n",
    "    if label == \"dog\" : one_hot_vec[0] = 1\n",
    "    elif label == \"cat\" : one_hot_vec[1] = 1\n",
    "    elif label == \"dolphin\" : one_hot_vec[2] = 1\n",
    "    elif label == \"tiger\" : one_hot_vec[3] = 1\n",
    "    else: print(\"ERROR\")\n",
    "    \n",
    "for one_hot_vec in one_hot_mat:\n",
    "    print(one_hot_vec)"
   ]
  },
  {
   "cell_type": "markdown",
   "metadata": {},
   "source": [
    "## zip + enumerate"
   ]
  },
  {
   "cell_type": "code",
   "execution_count": 11,
   "metadata": {},
   "outputs": [
    {
     "name": "stdout",
     "output_type": "stream",
     "text": [
      "0 (40, 20)\n",
      "1 (20, 60)\n",
      "2 (50, 30)\n",
      "3 (80, 40)\n",
      "====================\n",
      "0 40 20\n",
      "1 20 60\n",
      "2 50 30\n",
      "3 80 40\n"
     ]
    }
   ],
   "source": [
    "e_scores = [40, 20, 50, 80]\n",
    "m_scores = [20, 60, 30, 40]\n",
    "\n",
    "for score_idx, scores in enumerate(zip(e_scores, m_scores)):\n",
    "    print(score_idx, scores)\n",
    "    \n",
    "print(\"====================\")\n",
    "    \n",
    "for score_idx, (e_score, m_score) in enumerate(zip(e_scores, m_scores)):\n",
    "    print(score_idx, e_score, m_score)"
   ]
  },
  {
   "cell_type": "markdown",
   "metadata": {},
   "source": [
    "## 두 과목의 최댓값, 최댓값의 index\n",
    "zip과 enumerate을 함께 사용하여 2개의 vector에 대한 연산"
   ]
  },
  {
   "cell_type": "code",
   "execution_count": 16,
   "metadata": {},
   "outputs": [
    {
     "name": "stdout",
     "output_type": "stream",
     "text": [
      "Maxima:  [80, 60]\n",
      "Maximum Indices:  [3, 1]\n"
     ]
    }
   ],
   "source": [
    "e_scores = [40, 20, 50, 80]\n",
    "m_scores = [20, 60, 30, 40]\n",
    "\n",
    "Max = [None, None]\n",
    "m_indices = [0,0]\n",
    "\n",
    "for score_idx, (e_score, m_score) in enumerate(zip(e_scores, m_scores)):\n",
    "    if Max[0] == None or Max[0] < e_score :\n",
    "        Max[0] = e_score\n",
    "        m_indices[0] = score_idx\n",
    "    if Max[1] == None or Max[1] < m_score :\n",
    "        Max[1] = m_score\n",
    "        m_indices[1] = score_idx\n",
    "    \n",
    "print(\"Maxima: \", Max)\n",
    "print(\"Maximum Indices: \", m_indices)"
   ]
  }
 ],
 "metadata": {
  "kernelspec": {
   "display_name": "Python 3",
   "language": "python",
   "name": "python3"
  },
  "language_info": {
   "codemirror_mode": {
    "name": "ipython",
    "version": 3
   },
   "file_extension": ".py",
   "mimetype": "text/x-python",
   "name": "python",
   "nbconvert_exporter": "python",
   "pygments_lexer": "ipython3",
   "version": "3.8.3"
  },
  "toc": {
   "base_numbering": 1,
   "nav_menu": {},
   "number_sections": true,
   "sideBar": true,
   "skip_h1_title": false,
   "title_cell": "Table of Contents",
   "title_sidebar": "Contents",
   "toc_cell": false,
   "toc_position": {},
   "toc_section_display": true,
   "toc_window_display": false
  }
 },
 "nbformat": 4,
 "nbformat_minor": 4
}
