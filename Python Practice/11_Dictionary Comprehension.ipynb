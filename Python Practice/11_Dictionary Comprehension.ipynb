{
 "cells": [
  {
   "cell_type": "markdown",
   "metadata": {},
   "source": [
    "<br>\n",
    "<font color='black', size=\"6\">\n",
    "    <center>\n",
    "        <b> Dictionary Comprehension </b>\n",
    "    </center>\n",
    "</font>\n",
    "</br>"
   ]
  },
  {
   "cell_type": "markdown",
   "metadata": {},
   "source": [
    "# Dictionary Comprehension"
   ]
  },
  {
   "cell_type": "code",
   "execution_count": 4,
   "metadata": {},
   "outputs": [
    {
     "name": "stdout",
     "output_type": "stream",
     "text": [
      "{'A': 50, 'B': 20, 'C': 30, 'D': 40, 'E': 50}\n",
      "======\n",
      "{'A': 50, 'B': 20, 'C': 30, 'D': 40, 'E': 50}\n"
     ]
    }
   ],
   "source": [
    "names = ['A', 'B', 'C', 'D', 'E']\n",
    "scores = [50, 20, 30, 40, 50]\n",
    "\n",
    "name_score_dict = dict()\n",
    "for name, score in zip(names, scores):\n",
    "    name_score_dict[name] = score\n",
    "print(name_score_dict)\n",
    "\n",
    "print('======')\n",
    "\n",
    "name_score_dict = {name : score for name, score in zip(names,scores)}\n",
    "print(name_score_dict)"
   ]
  },
  {
   "cell_type": "markdown",
   "metadata": {},
   "source": [
    "# Dictionary to List(keys, values)\n",
    "dict.keys, dict.values를 이용해서 key, value에 대한 list를 생성\n",
    "dict에서 value만을 뽑아 list comprehension을 통해 새로운 list를 생성 "
   ]
  },
  {
   "cell_type": "code",
   "execution_count": 11,
   "metadata": {},
   "outputs": [
    {
     "name": "stdout",
     "output_type": "stream",
     "text": [
      "['A', 'B', 'C', 'D', 'E'] [50, 20, 30, 40, 50]\n",
      "['A', 'B', 'C', 'D', 'E']\n",
      "[100, 40, 60, 80, 100]\n",
      "['student:A', 'student:B', 'student:C', 'student:D', 'student:E']\n"
     ]
    }
   ],
   "source": [
    "name_score_dict = {'A': 50, 'B': 20, 'C': 30, 'D': 40, 'E': 50}\n",
    "\n",
    "student_name = list(name_score_dict.keys())\n",
    "student_score = list(name_score_dict.values())\n",
    "print(student_name, student_score)\n",
    "\n",
    "# using comprehension\n",
    "student_name = [name for name in name_score_dict.keys()]\n",
    "print(student_name)\n",
    "\n",
    "double_score = [2*score for score in name_score_dict.values()]\n",
    "print(double_score)\n",
    "\n",
    "student_name = ['student:' + name for name in name_score_dict.keys()]\n",
    "print(student_name)"
   ]
  },
  {
   "cell_type": "markdown",
   "metadata": {},
   "source": [
    "# Dictionary to Dictionary Comprehension\n",
    "dict.items는 차례차례 key, value를 돌려주는 역할 <br/>\n",
    "이 dict.items를 이용하여 새로운 dict를 만드는 방법"
   ]
  },
  {
   "cell_type": "code",
   "execution_count": 13,
   "metadata": {},
   "outputs": [
    {
     "name": "stdout",
     "output_type": "stream",
     "text": [
      "{'student:A': 100, 'student:B': 40, 'student:C': 60, 'student:D': 80, 'student:E': 100}\n"
     ]
    }
   ],
   "source": [
    "name_score_dict = {'A': 50, 'B': 20, 'C': 30, 'D': 40, 'E': 50}\n",
    "\n",
    "name_double_score_dict = {'student:'+ name : 2*score\n",
    "                          for name, score in name_score_dict.items()}\n",
    "print(name_double_score_dict)"
   ]
  },
  {
   "cell_type": "markdown",
   "metadata": {},
   "source": [
    "# Key, Value 바꾸기\n",
    "dict.items와 dictionary comprehension을 통해 key와 value를 바꾸는 방법"
   ]
  },
  {
   "cell_type": "code",
   "execution_count": 23,
   "metadata": {},
   "outputs": [
    {
     "name": "stdout",
     "output_type": "stream",
     "text": [
      "{50: 'E', 20: 'B', 30: 'C', 40: 'D'}\n"
     ]
    }
   ],
   "source": [
    "name_score_dict = {'A': 50, 'B': 20, 'C': 30, 'D': 40, 'E': 50}\n",
    "\n",
    "score_name_dict = { v : k  for k, v in name_score_dict.items()}\n",
    "print(score_name_dict)"
   ]
  }
 ],
 "metadata": {
  "kernelspec": {
   "display_name": "Python 3",
   "language": "python",
   "name": "python3"
  },
  "language_info": {
   "codemirror_mode": {
    "name": "ipython",
    "version": 3
   },
   "file_extension": ".py",
   "mimetype": "text/x-python",
   "name": "python",
   "nbconvert_exporter": "python",
   "pygments_lexer": "ipython3",
   "version": "3.8.3"
  },
  "toc": {
   "base_numbering": 1,
   "nav_menu": {},
   "number_sections": true,
   "sideBar": true,
   "skip_h1_title": false,
   "title_cell": "Table of Contents",
   "title_sidebar": "Contents",
   "toc_cell": false,
   "toc_position": {},
   "toc_section_display": true,
   "toc_window_display": false
  }
 },
 "nbformat": 4,
 "nbformat_minor": 4
}
