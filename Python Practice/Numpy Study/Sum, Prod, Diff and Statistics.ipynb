{
 "cells": [
  {
   "cell_type": "markdown",
   "metadata": {},
   "source": [
    "# **Sum, Prod, and Diff**"
   ]
  },
  {
   "cell_type": "markdown",
   "metadata": {},
   "source": [
    "## Summation"
   ]
  },
  {
   "cell_type": "markdown",
   "metadata": {},
   "source": [
    "**cumsum**"
   ]
  },
  {
   "cell_type": "markdown",
   "metadata": {},
   "source": [
    "1차원"
   ]
  },
  {
   "cell_type": "code",
   "execution_count": 1,
   "metadata": {},
   "outputs": [
    {
     "name": "stdout",
     "output_type": "stream",
     "text": [
      "ndarray:  [0 1 2 3 4]\n",
      "cumsum:  [ 0  1  3  6 10]\n"
     ]
    }
   ],
   "source": [
    "import numpy as np\n",
    "\n",
    "a = np.arange(5)\n",
    "print(\"ndarray: \",a)\n",
    "\n",
    "# 누적 합\n",
    "cumsum = np.cumsum(a)\n",
    "print(\"cumsum: \", cumsum)"
   ]
  },
  {
   "cell_type": "markdown",
   "metadata": {},
   "source": [
    "2차원"
   ]
  },
  {
   "cell_type": "code",
   "execution_count": 3,
   "metadata": {},
   "outputs": [
    {
     "name": "stdout",
     "output_type": "stream",
     "text": [
      "ndarray: (3, 3)\n",
      "[[0 1 2]\n",
      " [3 4 5]\n",
      " [6 7 8]]\n",
      "cumsum: (9,)\n",
      "[ 0  1  3  6 10 15 21 28 36]\n"
     ]
    }
   ],
   "source": [
    "import numpy as np\n",
    "\n",
    "a = np.arange(3*3).reshape((3,3))\n",
    "print(\"ndarray: {}\\n{}\".format(a.shape, a))\n",
    "\n",
    "cumsum = np.cumsum(a)\n",
    "print(\"cumsum: {}\\n{}\".format(cumsum.shape, cumsum))"
   ]
  },
  {
   "cell_type": "code",
   "execution_count": 4,
   "metadata": {},
   "outputs": [
    {
     "name": "stdout",
     "output_type": "stream",
     "text": [
      "cumsum: (3, 3)\n",
      "[[ 0  1  3]\n",
      " [ 6 10 15]\n",
      " [21 28 36]]\n"
     ]
    }
   ],
   "source": [
    "cumsum = np.cumsum(a).reshape((a.shape))\n",
    "print(\"cumsum: {}\\n{}\".format(cumsum.shape, cumsum))"
   ]
  },
  {
   "cell_type": "markdown",
   "metadata": {},
   "source": [
    "3차원"
   ]
  },
  {
   "cell_type": "code",
   "execution_count": 6,
   "metadata": {},
   "outputs": [
    {
     "name": "stdout",
     "output_type": "stream",
     "text": [
      "ndarray: (2, 3, 4)\n",
      "[[[ 0  1  2  3]\n",
      "  [ 4  5  6  7]\n",
      "  [ 8  9 10 11]]\n",
      "\n",
      " [[12 13 14 15]\n",
      "  [16 17 18 19]\n",
      "  [20 21 22 23]]]\n",
      "cumsum: (24,)\n",
      "[  0   1   3   6  10  15  21  28  36  45  55  66  78  91 105 120 136 153\n",
      " 171 190 210 231 253 276]\n"
     ]
    }
   ],
   "source": [
    "import numpy as np\n",
    "\n",
    "a = np.arange(2*3*4).reshape((2,3,4))\n",
    "print(\"ndarray: {}\\n{}\".format(a.shape, a))\n",
    "\n",
    "cumsum = np.cumsum(a)\n",
    "print(\"cumsum: {}\\n{}\".format(cumsum.shape, cumsum))"
   ]
  },
  {
   "cell_type": "code",
   "execution_count": 7,
   "metadata": {},
   "outputs": [
    {
     "name": "stdout",
     "output_type": "stream",
     "text": [
      "cumsum: (2, 3, 4)\n",
      "[[[  0   1   3   6]\n",
      "  [ 10  15  21  28]\n",
      "  [ 36  45  55  66]]\n",
      "\n",
      " [[ 78  91 105 120]\n",
      "  [136 153 171 190]\n",
      "  [210 231 253 276]]]\n"
     ]
    }
   ],
   "source": [
    "cumsum = np.cumsum(a).reshape((a.shape))\n",
    "print(\"cumsum: {}\\n{}\".format(cumsum.shape, cumsum))"
   ]
  },
  {
   "cell_type": "markdown",
   "metadata": {},
   "source": [
    "cumsum(axis=0/1) axis argument 추가"
   ]
  },
  {
   "cell_type": "code",
   "execution_count": 8,
   "metadata": {},
   "outputs": [
    {
     "name": "stdout",
     "output_type": "stream",
     "text": [
      "ndarray: (3, 4)\n",
      "[[ 0  1  2  3]\n",
      " [ 4  5  6  7]\n",
      " [ 8  9 10 11]]\n",
      "cumsum: (3, 4)\n",
      "[[ 0  1  2  3]\n",
      " [ 4  6  8 10]\n",
      " [12 15 18 21]]\n"
     ]
    }
   ],
   "source": [
    "import numpy as np\n",
    "\n",
    "a = np.arange(3*4).reshape((3,4))\n",
    "print(\"ndarray: {}\\n{}\".format(a.shape, a))\n",
    "\n",
    "cumsum = np.cumsum(a, axis=0)\n",
    "print(\"cumsum: {}\\n{}\".format(cumsum.shape, cumsum))"
   ]
  },
  {
   "cell_type": "code",
   "execution_count": 9,
   "metadata": {},
   "outputs": [
    {
     "name": "stdout",
     "output_type": "stream",
     "text": [
      "cumsum: (3, 4)\n",
      "[[ 0  1  3  6]\n",
      " [ 4  9 15 22]\n",
      " [ 8 17 27 38]]\n"
     ]
    }
   ],
   "source": [
    "cumsum = np.cumsum(a, axis=1)\n",
    "print(\"cumsum: {}\\n{}\".format(cumsum.shape, cumsum))"
   ]
  },
  {
   "cell_type": "markdown",
   "metadata": {},
   "source": [
    "## Product"
   ]
  },
  {
   "cell_type": "code",
   "execution_count": 13,
   "metadata": {},
   "outputs": [
    {
     "name": "stdout",
     "output_type": "stream",
     "text": [
      "ndarray:  [1 2 3 4]\n",
      "prod: ()\n",
      "24\n",
      "cumprod: (4,)\n",
      "[ 1  2  6 24]\n"
     ]
    }
   ],
   "source": [
    "import numpy as np\n",
    "\n",
    "a = np.arange(1,5)\n",
    "print(\"ndarray: \",a)\n",
    "\n",
    "prod = np.prod(a)\n",
    "cumprod = np.cumprod(a)\n",
    "\n",
    "print(\"prod: {}\\n{}\".format(prod.shape, prod))\n",
    "print(\"cumprod: {}\\n{}\".format(cumprod.shape, cumprod))"
   ]
  },
  {
   "cell_type": "code",
   "execution_count": 14,
   "metadata": {},
   "outputs": [
    {
     "name": "stdout",
     "output_type": "stream",
     "text": [
      "cumprod: (4,)\n",
      "[24  6  2  1]\n"
     ]
    }
   ],
   "source": [
    "# [::-1]\n",
    "cumprod = np.cumprod(a)[::-1]\n",
    "\n",
    "print(\"cumprod: {}\\n{}\".format(cumprod.shape, cumprod))"
   ]
  },
  {
   "cell_type": "code",
   "execution_count": 16,
   "metadata": {},
   "outputs": [
    {
     "name": "stdout",
     "output_type": "stream",
     "text": [
      "ndarray: (3, 4)\n",
      "[[ 1  2  3  4]\n",
      " [ 5  6  7  8]\n",
      " [ 9 10 11 12]]\n",
      "prod: (4,)\n",
      "[ 45 120 231 384]\n",
      "cumprod: (3, 4)\n",
      "[[  1   2   3   4]\n",
      " [  5  12  21  32]\n",
      " [ 45 120 231 384]]\n"
     ]
    }
   ],
   "source": [
    "import numpy as np\n",
    "\n",
    "a = np.arange(1, 1+12).reshape((3,-1))\n",
    "print(\"ndarray: {}\\n{}\".format(a.shape, a))\n",
    "\n",
    "prod = np.prod(a, axis=0)\n",
    "cumprod = np.cumprod(a, axis=0)\n",
    "\n",
    "print(\"prod: {}\\n{}\".format(prod.shape, prod))\n",
    "print(\"cumprod: {}\\n{}\".format(cumprod.shape, cumprod))"
   ]
  },
  {
   "cell_type": "markdown",
   "metadata": {},
   "source": [
    "## Difference"
   ]
  },
  {
   "cell_type": "code",
   "execution_count": 17,
   "metadata": {},
   "outputs": [
    {
     "name": "stdout",
     "output_type": "stream",
     "text": [
      "ndarray: (5,)\n",
      "[9 2 8 0 4]\n",
      "diff: (4,)\n",
      "[-7  6 -8  4]\n"
     ]
    }
   ],
   "source": [
    "import numpy as np\n",
    "\n",
    "a = np.random.randint(0, 10, (5, ))\n",
    "print(\"ndarray: {}\\n{}\".format(a.shape, a))\n",
    "\n",
    "diff = np.diff(a)\n",
    "print(\"diff: {}\\n{}\".format(diff.shape, diff))"
   ]
  },
  {
   "cell_type": "markdown",
   "metadata": {},
   "source": [
    "## Differentiation of Discrete-time Signal"
   ]
  },
  {
   "cell_type": "code",
   "execution_count": 18,
   "metadata": {},
   "outputs": [
    {
     "name": "stdout",
     "output_type": "stream",
     "text": [
      "ndarray: (4, 4)\n",
      "[[5 0 3 3]\n",
      " [7 9 3 5]\n",
      " [2 4 7 6]\n",
      " [8 8 1 6]]\n",
      "diff: (3, 4)\n",
      "[[ 2  9  0  2]\n",
      " [-5 -5  4  1]\n",
      " [ 6  4 -6  0]]\n"
     ]
    }
   ],
   "source": [
    "import numpy as np\n",
    "np.random.seed(0)\n",
    "\n",
    "a = np.random.randint(0, 10, (4, 4))\n",
    "print(\"ndarray: {}\\n{}\".format(a.shape, a))\n",
    "\n",
    "diff = np.diff(a, axis=0)\n",
    "print(\"diff: {}\\n{}\".format(diff.shape, diff))"
   ]
  },
  {
   "cell_type": "code",
   "execution_count": 19,
   "metadata": {},
   "outputs": [
    {
     "name": "stdout",
     "output_type": "stream",
     "text": [
      "diff: (4, 3)\n",
      "[[-5  3  0]\n",
      " [ 2 -6  2]\n",
      " [ 2  3 -1]\n",
      " [ 0 -7  5]]\n"
     ]
    }
   ],
   "source": [
    "diff = np.diff(a, axis=1)\n",
    "print(\"diff: {}\\n{}\".format(diff.shape, diff))"
   ]
  },
  {
   "cell_type": "markdown",
   "metadata": {},
   "source": [
    "# **Statistics**"
   ]
  },
  {
   "cell_type": "markdown",
   "metadata": {},
   "source": [
    "## Mean and Median"
   ]
  },
  {
   "cell_type": "markdown",
   "metadata": {},
   "source": [
    "mean 은 weight를 동일하게 설정한 1/n 이라고 생각"
   ]
  },
  {
   "cell_type": "code",
   "execution_count": 21,
   "metadata": {},
   "outputs": [
    {
     "name": "stdout",
     "output_type": "stream",
     "text": [
      "5.066666666666666\n",
      "5.066666666666666\n"
     ]
    }
   ],
   "source": [
    "import numpy as np\n",
    "np.random.seed(0)\n",
    "\n",
    "x = np.random.randint(1, 10, (5,))\n",
    "w = np.array([1, 2, 3, 4, 5])\n",
    "\n",
    "print(np.average(x, weights=w))\n",
    "\n",
    "print(np.sum(w*x)/np.sum(w))"
   ]
  },
  {
   "cell_type": "markdown",
   "metadata": {},
   "source": [
    "홀수"
   ]
  },
  {
   "cell_type": "code",
   "execution_count": 22,
   "metadata": {},
   "outputs": [
    {
     "name": "stdout",
     "output_type": "stream",
     "text": [
      "[0 1 2 3 4 5 6 7 8]\n",
      "4.0\n"
     ]
    }
   ],
   "source": [
    "import numpy as np\n",
    "\n",
    "x = np.arange(9)\n",
    "median = np.median(x)\n",
    "\n",
    "print(x)\n",
    "print(median)"
   ]
  },
  {
   "cell_type": "markdown",
   "metadata": {},
   "source": [
    "짝수"
   ]
  },
  {
   "cell_type": "code",
   "execution_count": 23,
   "metadata": {},
   "outputs": [
    {
     "name": "stdout",
     "output_type": "stream",
     "text": [
      "[0 1 2 3 4 5 6 7 8 9]\n",
      "4.5\n"
     ]
    }
   ],
   "source": [
    "import numpy as np\n",
    "\n",
    "x = np.arange(10)\n",
    "median = np.median(x)\n",
    "\n",
    "print(x)\n",
    "print(median)"
   ]
  },
  {
   "cell_type": "code",
   "execution_count": 24,
   "metadata": {},
   "outputs": [
    {
     "name": "stdout",
     "output_type": "stream",
     "text": [
      "mean/median: 4.66 / 4.0\n"
     ]
    }
   ],
   "source": [
    "import numpy as np\n",
    "\n",
    "x = np.random.randint(1, 10, (100,))\n",
    "\n",
    "mean = np.mean(x)\n",
    "median = np.median(x)\n",
    "\n",
    "print(\"mean/median: {} / {}\".format(mean, median))"
   ]
  },
  {
   "cell_type": "code",
   "execution_count": 25,
   "metadata": {},
   "outputs": [
    {
     "name": "stdout",
     "output_type": "stream",
     "text": [
      "mean/median: 14.514851485148515 / 4.0\n"
     ]
    }
   ],
   "source": [
    "# 왜곡 \n",
    "x = np.append(x, 1000)\n",
    "\n",
    "mean = np.mean(x)\n",
    "median = np.median(x)\n",
    "\n",
    "print(\"mean/median: {} / {}\".format(mean, median))"
   ]
  },
  {
   "cell_type": "markdown",
   "metadata": {},
   "source": [
    "## Variance and Standard Deviation"
   ]
  },
  {
   "cell_type": "code",
   "execution_count": 26,
   "metadata": {},
   "outputs": [
    {
     "name": "stdout",
     "output_type": "stream",
     "text": [
      "variance:  24.165158618655738\n",
      "standard deviation:  4.915807016010264\n"
     ]
    }
   ],
   "source": [
    "import numpy as np\n",
    "\n",
    "scores = np.random.normal(loc=10, scale=5, size=(100,))\n",
    "\n",
    "var = scores.var()\n",
    "std = scores.std()\n",
    "\n",
    "print(\"variance: \", var)\n",
    "print(\"standard deviation: \", std)"
   ]
  },
  {
   "cell_type": "code",
   "execution_count": 28,
   "metadata": {},
   "outputs": [
    {
     "name": "stdout",
     "output_type": "stream",
     "text": [
      "square of std:  24.165158618655738\n",
      "square of var:   4.915807016010264\n"
     ]
    }
   ],
   "source": [
    "print(\"square of std: \", std**2)\n",
    "print(\"square of var:  \", var**0.5)"
   ]
  },
  {
   "cell_type": "markdown",
   "metadata": {},
   "source": [
    "## Standardization"
   ]
  },
  {
   "cell_type": "code",
   "execution_count": 29,
   "metadata": {},
   "outputs": [
    {
     "name": "stdout",
     "output_type": "stream",
     "text": [
      "shape of scores:  (100, 3)\n",
      "dtype of scores:  float64\n"
     ]
    }
   ],
   "source": [
    "import numpy as np\n",
    "\n",
    "means = [50,60,70] # 첫번째 컬럼 평균 50\n",
    "stds = [3, 5, 10] # 첫번째 컬럼 표준편차 3\n",
    "n_student, n_class = 100, 3\n",
    "\n",
    "scores = np.random.normal(loc=means,\n",
    "                          scale=stds,\n",
    "                          size=(n_student, n_class))\n",
    "\n",
    "print(\"shape of scores: \", scores.shape)\n",
    "print(\"dtype of scores: \", scores.dtype)"
   ]
  },
  {
   "cell_type": "code",
   "execution_count": 31,
   "metadata": {},
   "outputs": [
    {
     "name": "stdout",
     "output_type": "stream",
     "text": [
      "means befpre stds: \n",
      " [49.84058606 60.19720968 70.57557423]\n",
      "stds before stdz: \n",
      " [ 3.08462727  4.92430961 11.31108828]\n"
     ]
    }
   ],
   "source": [
    "means = scores.mean(axis=0) # (100, 3)-> ( , 3) 이 되므로 과목별 평균이 구햐짐\n",
    "stds = scores.std(axis=0)\n",
    "\n",
    "print(\"means before stds: \\n\", means)\n",
    "print(\"stds before stdz: \\n\", stds)"
   ]
  },
  {
   "cell_type": "code",
   "execution_count": 32,
   "metadata": {},
   "outputs": [
    {
     "name": "stdout",
     "output_type": "stream",
     "text": [
      "means after stds: \n",
      " [-2.66453526e-15 -2.79165580e-15  7.10542736e-16]\n",
      "stds after stdz: \n",
      " [1. 1. 1.]\n"
     ]
    }
   ],
   "source": [
    "# standardization\n",
    "score_stdz = (scores - means)/stds #(100,3) - (3,) / (3,) (3,)가 브로드캐스팅됨\n",
    "\n",
    "means_stdz = score_stdz.mean(axis=0)\n",
    "stds_stdz = score_stdz.std(axis=0)\n",
    "\n",
    "print(\"means after stds: \\n\", means_stdz)\n",
    "print(\"stds after stdz: \\n\", stds_stdz)"
   ]
  },
  {
   "cell_type": "markdown",
   "metadata": {},
   "source": [
    "## Max Values and Indices"
   ]
  },
  {
   "cell_type": "code",
   "execution_count": 34,
   "metadata": {},
   "outputs": [
    {
     "name": "stdout",
     "output_type": "stream",
     "text": [
      "ndarray:  [22 98 30 80 27 47 11 87 78 30]\n",
      "M / M_idx: 98 / 1\n"
     ]
    }
   ],
   "source": [
    "import numpy as np\n",
    "\n",
    "a = np.random.randint(0, 100, (10, ))\n",
    "\n",
    "M = np.max(a)\n",
    "M_idx = np.argmax(a) # 최댓값의 인덱스\n",
    "\n",
    "print(\"ndarray: \", a)\n",
    "print(\"M / M_idx: {} / {}\".format(M, M_idx))"
   ]
  },
  {
   "cell_type": "code",
   "execution_count": 37,
   "metadata": {},
   "outputs": [
    {
     "name": "stdout",
     "output_type": "stream",
     "text": [
      "Max scores:  [ 56.448723  70.11736  101.70975 ]\n",
      "Max indices:  [14 70  0]\n"
     ]
    }
   ],
   "source": [
    "import numpy as np\n",
    "\n",
    "means = [50,60,70] # 첫번째 컬럼 평균 50\n",
    "stds = [3, 5, 10] # 첫번째 컬럼 표준편차 3\n",
    "n_student, n_class = 100, 3\n",
    "\n",
    "scores = np.random.normal(loc=means,\n",
    "                          scale=stds,\n",
    "                          size=(n_student, n_class))\n",
    "scores = scores.astype(np.float32)\n",
    "\n",
    "scores_max = np.max(scores, axis=0)\n",
    "scores_max_idx = np.argmax(scores, axis=0)\n",
    "\n",
    "print(\"Max scores: \", scores_max)\n",
    "print(\"Max indices: \", scores_max_idx)"
   ]
  },
  {
   "cell_type": "code",
   "execution_count": 38,
   "metadata": {},
   "outputs": [
    {
     "name": "stdout",
     "output_type": "stream",
     "text": [
      "Max indices:  [2 2 2 2 2 2 2 2 2 2 2 2 2 2 2 2 2 2 2 2 2 2 2 2 2 1 2 2 2 2 2 2 2 2 2 1 2\n",
      " 2 2 1 2 2 2 2 2 2 2 2 1 1 1 1 2 2 2 2 2 2 2 2 1 2 2 2 2 1 2 1 1 1 2 2 1 1\n",
      " 1 2 2 2 2 1 2 2 2 2 2 2 2 2 2 2 2 2 2 2 1 2 2 2 2 2]\n"
     ]
    }
   ],
   "source": [
    "scores_max_idx = np.argmax(scores, axis=1) # 각 학생마다 최고점 과목\n",
    "print(\"Max indices: \", scores_max_idx)"
   ]
  },
  {
   "cell_type": "markdown",
   "metadata": {},
   "source": [
    "## Min - max Normalization"
   ]
  },
  {
   "cell_type": "code",
   "execution_count": 40,
   "metadata": {},
   "outputs": [
    {
     "name": "stdout",
     "output_type": "stream",
     "text": [
      "Max scores:  [1. 1. 1.]\n",
      "Min scores:  [0. 0. 0.]\n"
     ]
    }
   ],
   "source": [
    "import numpy as np\n",
    "\n",
    "means = [50,60,70] # 첫번째 컬럼 평균 50\n",
    "stds = [3, 5, 10] # 첫번째 컬럼 표준편차 3\n",
    "n_student, n_class = 100, 3\n",
    "\n",
    "scores = np.random.normal(loc=means,\n",
    "                          scale=stds,\n",
    "                          size=(n_student, n_class))\n",
    "scores = scores.astype(np.float32)\n",
    "\n",
    "scores_max = np.max(scores, axis=0)\n",
    "scores_min = np.min(scores, axis=0)\n",
    "\n",
    "scores_mM_norm = (scores - scores_min) / (scores_max - scores_min)\n",
    "\n",
    "scores_max = np.max(scores_mM_norm, axis=0)\n",
    "scores_min = np.min(scores_mM_norm, axis=0)\n",
    "\n",
    "print(\"Max scores: \", scores_max)\n",
    "print(\"Min scores: \", scores_min)"
   ]
  },
  {
   "cell_type": "markdown",
   "metadata": {},
   "source": [
    "## Maximum and Minimum"
   ]
  },
  {
   "cell_type": "markdown",
   "metadata": {},
   "source": [
    "두 개의 array에 대해 최대 최소 "
   ]
  },
  {
   "cell_type": "code",
   "execution_count": 42,
   "metadata": {
    "scrolled": true
   },
   "outputs": [
    {
     "name": "stdout",
     "output_type": "stream",
     "text": [
      "u: (10,)\n",
      "[8 3 9 9 9 6 4 9 3 4]\n",
      "v: (10,)\n",
      "[1 0 9 1 1 7 2 7 0 1]\n",
      "maximum: (10,)\n",
      "[8 3 9 9 9 7 4 9 3 4]\n",
      "minimum: (10,)\n",
      "[1 0 9 1 1 6 2 7 0 1]\n"
     ]
    }
   ],
   "source": [
    "import numpy as np\n",
    "\n",
    "u = np.random.randint(0, 10, (10, ))\n",
    "v = np.random.randint(0, 10, (10, ))\n",
    "print(f\"u: {u.shape}\\n{u}\")\n",
    "print(f\"v: {v.shape}\\n{v}\")\n",
    "\n",
    "maximum = np.maximum(u, v)\n",
    "minimum = np.minimum(u, v)\n",
    "\n",
    "print(f\"maximum: {maximum.shape}\\n{maximum}\")\n",
    "print(f\"minimum: {minimum.shape}\\n{minimum}\")"
   ]
  },
  {
   "cell_type": "code",
   "execution_count": 43,
   "metadata": {},
   "outputs": [
    {
     "name": "stdout",
     "output_type": "stream",
     "text": [
      "u: (3, 4)\n",
      "[[8 0 3 5]\n",
      " [1 2 1 4]\n",
      " [7 9 8 4]]\n",
      "v: (3, 4)\n",
      "[[4 6 5 1]\n",
      " [0 1 0 3]\n",
      " [5 5 6 9]]\n",
      "maximum: (3, 4)\n",
      "[[8 6 5 5]\n",
      " [1 2 1 4]\n",
      " [7 9 8 9]]\n",
      "minimum: (3, 4)\n",
      "[[4 0 3 1]\n",
      " [0 1 0 3]\n",
      " [5 5 6 4]]\n"
     ]
    }
   ],
   "source": [
    "import numpy as np\n",
    "\n",
    "u = np.random.randint(0, 10, (3, 4))\n",
    "v = np.random.randint(0, 10, (3, 4))\n",
    "print(f\"u: {u.shape}\\n{u}\")\n",
    "print(f\"v: {v.shape}\\n{v}\")\n",
    "\n",
    "maximum = np.maximum(u, v)\n",
    "minimum = np.minimum(u, v)\n",
    "\n",
    "print(f\"maximum: {maximum.shape}\\n{maximum}\")\n",
    "print(f\"minimum: {minimum.shape}\\n{minimum}\")"
   ]
  },
  {
   "cell_type": "markdown",
   "metadata": {},
   "source": [
    "## maximum, minimum api 직접 만들기"
   ]
  },
  {
   "cell_type": "code",
   "execution_count": 47,
   "metadata": {},
   "outputs": [
    {
     "name": "stdout",
     "output_type": "stream",
     "text": [
      "u: (10,)\n",
      "[1 2 8 5 1 7 3 1 6 8]\n",
      "v: (10,)\n",
      "[2 7 8 9 6 9 8 5 0 0]\n",
      "\n",
      "np.maximum: [2 7 8 9 6 9 8 5 6 8]\n",
      "maximum: [2 7 8 9 6 9 8 5 6 8]\n"
     ]
    }
   ],
   "source": [
    "import numpy as np\n",
    "\n",
    "u = np.random.randint(0, 10, (10, ))\n",
    "v = np.random.randint(0, 10, (10, ))\n",
    "print(f\"u: {u.shape}\\n{u}\")\n",
    "print(f\"v: {v.shape}\\n{v}\\n\")\n",
    "\n",
    "maximum = np.zeros_like(u)\n",
    "maximum[u >= v] = u[u >=v] \n",
    "maximum[u < v] = v[u < v]\n",
    "\n",
    "print(f\"np.maximum: {np.maximum(u,v)}\")\n",
    "print(f\"maximum: {maximum}\")"
   ]
  },
  {
   "cell_type": "code",
   "execution_count": 48,
   "metadata": {},
   "outputs": [
    {
     "name": "stdout",
     "output_type": "stream",
     "text": [
      "u: (10,)\n",
      "[9 4 6 0 9 4 2 2 4 7]\n",
      "v: (10,)\n",
      "[1 9 6 4 6 8 6 9 2 7]\n",
      "\n",
      "[ 100 -100 -100 -100  100 -100 -100 -100  100 -100]\n"
     ]
    }
   ],
   "source": [
    "import numpy as np\n",
    "\n",
    "u = np.random.randint(0, 10, (10, ))\n",
    "v = np.random.randint(0, 10, (10, ))\n",
    "print(f\"u: {u.shape}\\n{u}\")\n",
    "print(f\"v: {v.shape}\\n{v}\\n\")\n",
    "\n",
    "# u가 더 큰 부분은 100으로 v가 더 큰 부분은 -100으로\n",
    "up_vals = np.full_like(u, fill_value=100)\n",
    "down_vals = np.full_like(u, fill_value=-100)\n",
    "\n",
    "print(np.where(u > v, up_vals, down_vals))"
   ]
  },
  {
   "cell_type": "code",
   "execution_count": 53,
   "metadata": {},
   "outputs": [
    {
     "name": "stdout",
     "output_type": "stream",
     "text": [
      "maximum: (10,)\n",
      "[9 9 6 4 9 8 6 9 4 7]\n",
      "maximum(where): (10,)\n",
      "[9 9 6 4 9 8 6 9 4 7]\n"
     ]
    }
   ],
   "source": [
    "maximum = np.maximum(u, v)\n",
    "maximum_where = np.where(u > v, u, v)\n",
    "\n",
    "print(f\"maximum: {maximum.shape}\\n{maximum}\")\n",
    "print(f\"maximum(where): {maximum_where.shape}\\n{maximum_where}\")"
   ]
  },
  {
   "cell_type": "code",
   "execution_count": 55,
   "metadata": {},
   "outputs": [
    {
     "name": "stdout",
     "output_type": "stream",
     "text": [
      "minimum: (10,)\n",
      "[1 4 6 0 6 4 2 2 2 7]\n",
      "minimum(where): (10,)\n",
      "[1 4 6 0 6 4 2 2 2 7]\n"
     ]
    }
   ],
   "source": [
    "minimum = np.minimum(u, v)\n",
    "minimum_where = np.where(u > v, v, u)\n",
    "\n",
    "print(f\"minimum: {minimum.shape}\\n{minimum}\")\n",
    "print(f\"minimum(where): {minimum_where.shape}\\n{minimum_where}\")"
   ]
  }
 ],
 "metadata": {
  "kernelspec": {
   "display_name": "Python 3",
   "language": "python",
   "name": "python3"
  },
  "language_info": {
   "codemirror_mode": {
    "name": "ipython",
    "version": 3
   },
   "file_extension": ".py",
   "mimetype": "text/x-python",
   "name": "python",
   "nbconvert_exporter": "python",
   "pygments_lexer": "ipython3",
   "version": "3.8.3"
  },
  "toc": {
   "base_numbering": 1,
   "nav_menu": {},
   "number_sections": true,
   "sideBar": true,
   "skip_h1_title": false,
   "title_cell": "Table of Contents",
   "title_sidebar": "Contents",
   "toc_cell": false,
   "toc_position": {},
   "toc_section_display": true,
   "toc_window_display": false
  }
 },
 "nbformat": 4,
 "nbformat_minor": 4
}
