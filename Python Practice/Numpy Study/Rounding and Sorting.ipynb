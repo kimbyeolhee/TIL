{
 "cells": [
  {
   "cell_type": "markdown",
   "metadata": {},
   "source": [
    "# **Rounding Functions**"
   ]
  },
  {
   "cell_type": "markdown",
   "metadata": {},
   "source": [
    "## Rounding Functions"
   ]
  },
  {
   "cell_type": "code",
   "execution_count": 2,
   "metadata": {},
   "outputs": [
    {
     "name": "stdout",
     "output_type": "stream",
     "text": [
      "x: \n",
      "[-4.35131287 -1.63911151 -0.25040073  3.03450672  4.99364981]\n",
      "\n",
      "np_around: \n",
      "[-4.35 -1.64 -0.25  3.03  4.99]\n",
      "np_round_: \n",
      "[-4.35 -1.64 -0.25  3.03  4.99]\n",
      "x_round: \n",
      "[-4.35 -1.64 -0.25  3.03  4.99]\n"
     ]
    }
   ],
   "source": [
    "import numpy as np\n",
    "\n",
    "x = np.random.uniform(-5, 5, (5, ))\n",
    "\n",
    "np_around = np.around(x, decimals=2)\n",
    "np_round_ = np.round_(x, decimals=2)\n",
    "x_round = x.round(decimals=2)\n",
    "\n",
    "print(f\"x: \\n{x}\\n\")\n",
    "\n",
    "print(f\"np_around: \\n{np_around}\")\n",
    "print(f\"np_round_: \\n{np_round_}\")\n",
    "print(f\"x_round: \\n{x_round}\")"
   ]
  },
  {
   "cell_type": "markdown",
   "metadata": {},
   "source": [
    "## Ceiling and Flooring Functions"
   ]
  },
  {
   "cell_type": "code",
   "execution_count": 3,
   "metadata": {},
   "outputs": [
    {
     "name": "stdout",
     "output_type": "stream",
     "text": [
      "x: \n",
      "[ 1.51563593 -4.7885415  -4.12017195  1.81689459 -3.34616301]\n",
      "\n",
      "ceil: \n",
      "[ 2. -4. -4.  2. -3.]\n",
      "floor: \n",
      "[ 1. -5. -5.  1. -4.]\n"
     ]
    }
   ],
   "source": [
    "import numpy as np\n",
    "\n",
    "x = np.random.uniform(-5, 5, (5, ))\n",
    "\n",
    "ceil = np.ceil(x)\n",
    "floor = np.floor(x)\n",
    "\n",
    "print(f\"x: \\n{x}\\n\")\n",
    "\n",
    "print(f\"ceil: \\n{ceil}\")\n",
    "print(f\"floor: \\n{floor}\")"
   ]
  },
  {
   "cell_type": "markdown",
   "metadata": {},
   "source": [
    "## Truncation Functions"
   ]
  },
  {
   "cell_type": "code",
   "execution_count": 4,
   "metadata": {},
   "outputs": [
    {
     "name": "stdout",
     "output_type": "stream",
     "text": [
      "x: \n",
      "[ 1.86112722 -3.86253639  2.05010698  2.92102588  0.47103088]\n",
      "\n",
      "trunc: \n",
      "[ 1. -3.  2.  2.  0.]\n"
     ]
    }
   ],
   "source": [
    "import numpy as np\n",
    "\n",
    "x = np.random.uniform(-5, 5, (5, ))\n",
    "\n",
    "trunc = np.trunc(x)\n",
    "\n",
    "print(f\"x: \\n{x}\\n\")\n",
    "\n",
    "print(f\"trunc: \\n{trunc}\")"
   ]
  },
  {
   "cell_type": "markdown",
   "metadata": {},
   "source": [
    "where을 통한 trunc 구현"
   ]
  },
  {
   "cell_type": "code",
   "execution_count": 5,
   "metadata": {},
   "outputs": [
    {
     "name": "stdout",
     "output_type": "stream",
     "text": [
      "x: \n",
      "[ 1.86112722 -3.86253639  2.05010698  2.92102588  0.47103088]\n",
      "\n",
      "trunc_where: \n",
      "[ 1. -3.  2.  2.  0.]\n"
     ]
    }
   ],
   "source": [
    "trunc_where = np.where(x >=0, np.floor(x), np.ceil(x))\n",
    "\n",
    "print(f\"x: \\n{x}\\n\")\n",
    "\n",
    "print(f\"trunc_where: \\n{trunc_where}\")"
   ]
  },
  {
   "cell_type": "code",
   "execution_count": 6,
   "metadata": {},
   "outputs": [
    {
     "name": "stdout",
     "output_type": "stream",
     "text": [
      "x: \n",
      "[-3.32427886 -4.80593577  3.61955421 -2.20850847 -2.902842  ]\n",
      "\n",
      "trunc: \n",
      "[-3.3 -4.8  3.6 -2.2 -2.9]\n"
     ]
    }
   ],
   "source": [
    "import numpy as np\n",
    "\n",
    "x = np.random.uniform(-5, 5, (5, ))\n",
    "\n",
    "trunc = 0.1*np.trunc(10*x) # 소수점 첫째자리까지\n",
    "# 3.723 -> 37.23 에서 flooring되면 37이 되고 0.1이 곱해져서 3.7이 됨\n",
    "\n",
    "print(f\"x: \\n{x}\\n\")\n",
    "\n",
    "print(f\"trunc: \\n{trunc}\")"
   ]
  },
  {
   "cell_type": "code",
   "execution_count": 8,
   "metadata": {},
   "outputs": [
    {
     "name": "stdout",
     "output_type": "stream",
     "text": [
      "x: \n",
      "[ 0.5518718  -2.66242365 -4.50283348 -3.00638915  3.5353966 ]\n",
      "\n",
      "int_part: \n",
      "[ 0. -2. -4. -3.  3.]\n",
      "frac_part: \n",
      "[ 0.5518718  -0.66242365 -0.50283348 -0.00638915  0.5353966 ]\n"
     ]
    }
   ],
   "source": [
    "import numpy as np\n",
    "\n",
    "x = np.random.uniform(-5, 5, (5, ))\n",
    "\n",
    "int_part = np.trunc(x)\n",
    "frac_part = x - int_part\n",
    "\n",
    "print(f\"x: \\n{x}\\n\")\n",
    "\n",
    "print(f\"int_part: \\n{int_part}\")\n",
    "print(f\"frac_part: \\n{frac_part}\")"
   ]
  },
  {
   "cell_type": "markdown",
   "metadata": {},
   "source": [
    "# **Sorting Functions**"
   ]
  },
  {
   "cell_type": "markdown",
   "metadata": {},
   "source": [
    "## Sorting Vectors"
   ]
  },
  {
   "cell_type": "code",
   "execution_count": 9,
   "metadata": {},
   "outputs": [
    {
     "name": "stdout",
     "output_type": "stream",
     "text": [
      "x: \n",
      "[43 18 85 62 21 59 90 13 36 63]\n",
      "\n",
      "sort: \n",
      "[13 18 21 36 43 59 62 63 85 90]\n",
      "argsort: \n",
      "[7 1 4 8 0 5 3 9 2 6]\n"
     ]
    }
   ],
   "source": [
    "import numpy as np\n",
    "\n",
    "x = np.random.randint(0, 100 ,(10, ))\n",
    "\n",
    "sort = np.sort(x)\n",
    "argsort = np.argsort(x)\n",
    "\n",
    "print(f\"x: \\n{x}\\n\")\n",
    "\n",
    "print(f\"sort: \\n{sort}\")\n",
    "print(f\"argsort: \\n{argsort}\")"
   ]
  },
  {
   "cell_type": "code",
   "execution_count": 10,
   "metadata": {},
   "outputs": [
    {
     "name": "stdout",
     "output_type": "stream",
     "text": [
      "x: \n",
      "[16 28 16 31 44 44  2 84 19 49]\n",
      "\n",
      "sort: \n",
      "[84 49 44 44 31 28 19 16 16  2]\n",
      "argsort: \n",
      "[7 9 5 4 3 1 8 2 0 6]\n"
     ]
    }
   ],
   "source": [
    "import numpy as np\n",
    "\n",
    "x = np.random.randint(0, 100 ,(10, ))\n",
    "\n",
    "sort = np.sort(x)[::-1]\n",
    "argsort = np.argsort(x)[::-1]\n",
    "\n",
    "print(f\"x: \\n{x}\\n\")\n",
    "\n",
    "print(f\"sort: \\n{sort}\")\n",
    "print(f\"argsort: \\n{argsort}\")"
   ]
  },
  {
   "cell_type": "code",
   "execution_count": 11,
   "metadata": {},
   "outputs": [
    {
     "name": "stdout",
     "output_type": "stream",
     "text": [
      "pred: \n",
      "[0.20318344 0.27416003 0.23968269 0.28189296 0.00108089]\n",
      "\n",
      "top3_pred: \n",
      "[0.28189296 0.27416003 0.23968269]\n",
      "top3_indices: \n",
      "[3 1 2]\n"
     ]
    }
   ],
   "source": [
    "import numpy as np\n",
    "\n",
    "pred = np.random.uniform(0, 100, (5, ))\n",
    "pred /= pred.sum()\n",
    "\n",
    "top3_pred = np.sort(pred)[::-1][:3]\n",
    "top3_indices = np.argsort(pred)[::-1][:3]\n",
    "\n",
    "print(f\"pred: \\n{pred}\\n\")\n",
    "\n",
    "print(f\"top3_pred: \\n{top3_pred}\")\n",
    "print(f\"top3_indices: \\n{top3_indices}\")"
   ]
  },
  {
   "cell_type": "markdown",
   "metadata": {},
   "source": [
    "## Sorting Matrices"
   ]
  },
  {
   "cell_type": "code",
   "execution_count": 13,
   "metadata": {},
   "outputs": [
    {
     "name": "stdout",
     "output_type": "stream",
     "text": [
      "x: \n",
      "[[46 29 69 80 44]\n",
      " [72 42 17 71 85]\n",
      " [27 53 29 84 56]\n",
      " [97 17  6 30 76]]\n",
      "\n",
      "sort: \n",
      "[[27 17  6 30 44]\n",
      " [46 29 17 71 56]\n",
      " [72 42 29 80 76]\n",
      " [97 53 69 84 85]]\n",
      "argsort: \n",
      "[[2 3 3 3 0]\n",
      " [0 0 1 1 2]\n",
      " [1 1 2 0 3]\n",
      " [3 2 0 2 1]]\n"
     ]
    }
   ],
   "source": [
    "import numpy as np\n",
    "\n",
    "x = np.random.randint(0, 100 ,(4, 5))\n",
    "\n",
    "sort = np.sort(x, axis=0)\n",
    "argsort = np.argsort(x, axis=0)\n",
    "\n",
    "print(f\"x: \\n{x}\\n\")\n",
    "\n",
    "print(f\"sort: \\n{sort}\")\n",
    "print(f\"argsort: \\n{argsort}\")"
   ]
  },
  {
   "cell_type": "code",
   "execution_count": 16,
   "metadata": {},
   "outputs": [
    {
     "name": "stdout",
     "output_type": "stream",
     "text": [
      "x: \n",
      "[[13 30 40 43 66]\n",
      " [ 2 37 87 70 56]\n",
      " [11 12 72 21 64]\n",
      " [93 52 52  5  2]]\n",
      "\n",
      "sort: \n",
      "[[93 52 87 70 66]\n",
      " [13 37 72 43 64]\n",
      " [11 30 52 21 56]\n",
      " [ 2 12 40  5  2]]\n",
      "argsort: \n",
      "[[3 3 1 1 0]\n",
      " [0 1 2 0 2]\n",
      " [2 0 3 2 1]\n",
      " [1 2 0 3 3]]\n"
     ]
    }
   ],
   "source": [
    "import numpy as np\n",
    "\n",
    "x = np.random.randint(0, 100 ,(4,5))\n",
    "\n",
    "sort = np.sort(x, axis=0)[::-1, :]\n",
    "argsort = np.argsort(x, axis=0)[::-1, :]\n",
    "\n",
    "print(f\"x: \\n{x}\\n\")\n",
    "\n",
    "print(f\"sort: \\n{sort}\")\n",
    "print(f\"argsort: \\n{argsort}\")"
   ]
  },
  {
   "cell_type": "code",
   "execution_count": 18,
   "metadata": {},
   "outputs": [
    {
     "name": "stdout",
     "output_type": "stream",
     "text": [
      "scores: \n",
      "[[93 24 80 14 55]\n",
      " [53 13 95 47 85]\n",
      " [ 3 91 12 71  6]\n",
      " [86 26 75  6 18]]\n",
      "\n",
      "top2_scores: \n",
      "[[93 91 95 71 85]\n",
      " [86 26 80 47 55]]\n",
      "top2_students: \n",
      "[[0 2 1 2 1]\n",
      " [3 3 0 1 0]]\n"
     ]
    }
   ],
   "source": [
    "import numpy as np\n",
    "\n",
    "scores = np.random.randint(0, 100 ,(4,5))\n",
    "\n",
    "sort = np.sort(scores, axis=0)[::-1, :]\n",
    "argsort = np.argsort(scores, axis=0)[::-1, :]\n",
    "\n",
    "top2_scores = sort[:2, :]\n",
    "top2_students = argsort[:2, :]\n",
    "\n",
    "print(f\"scores: \\n{scores}\\n\")\n",
    "\n",
    "print(f\"top2_scores: \\n{top2_scores}\")\n",
    "print(f\"top2_students: \\n{top2_students}\")"
   ]
  },
  {
   "cell_type": "code",
   "execution_count": 20,
   "metadata": {},
   "outputs": [
    {
     "name": "stdout",
     "output_type": "stream",
     "text": [
      "x: \n",
      "[[31 32 48 81 44]\n",
      " [76  9 26 48 69]\n",
      " [68 60 90 77 17]\n",
      " [ 4  0 52 26 67]]\n",
      "\n",
      "sort_ascending: \n",
      "[[31 32 44 48 81]\n",
      " [ 9 26 48 69 76]\n",
      " [17 60 68 77 90]\n",
      " [ 0  4 26 52 67]]\n",
      "argsort_ascending: \n",
      "[[0 1 4 2 3]\n",
      " [1 2 3 4 0]\n",
      " [4 1 0 3 2]\n",
      " [1 0 3 2 4]]\n",
      "\n",
      "sort_descending: \n",
      "[[81 48 44 32 31]\n",
      " [76 69 48 26  9]\n",
      " [90 77 68 60 17]\n",
      " [67 52 26  4  0]]\n",
      "argsort_descending: \n",
      "[[3 2 4 1 0]\n",
      " [0 4 3 2 1]\n",
      " [2 3 0 1 4]\n",
      " [4 2 3 0 1]]\n"
     ]
    }
   ],
   "source": [
    "import numpy as np\n",
    "\n",
    "x = np.random.randint(0, 100, (4,5))\n",
    "\n",
    "sort_ascending = np.sort(x, axis=1)\n",
    "argsort_ascending = np.argsort(x, axis=1)\n",
    "\n",
    "sort_descending = np.sort(x, axis=1)[: , ::-1]\n",
    "argsort_descending = np.argsort(x, axis=1)[:, ::-1]\n",
    "\n",
    "print(f\"x: \\n{x}\\n\")\n",
    "\n",
    "print(f\"sort_ascending: \\n{sort_ascending}\")\n",
    "print(f\"argsort_ascending: \\n{argsort_ascending}\\n\")\n",
    "\n",
    "print(f\"sort_descending: \\n{sort_descending}\")\n",
    "print(f\"argsort_descending: \\n{argsort_descending}\")"
   ]
  },
  {
   "cell_type": "code",
   "execution_count": 21,
   "metadata": {},
   "outputs": [
    {
     "name": "stdout",
     "output_type": "stream",
     "text": [
      "scores: \n",
      "[[28 91 50]\n",
      " [44 95 53]\n",
      " [87 91  8]\n",
      " [50 36 23]\n",
      " [40 65 68]]\n",
      "\n",
      "bottom2_scores: \n",
      "[[28 50]\n",
      " [44 53]\n",
      " [ 8 87]\n",
      " [23 36]\n",
      " [40 65]]\n",
      "bottom2_subjects: \n",
      "[[0 2]\n",
      " [0 2]\n",
      " [2 0]\n",
      " [2 1]\n",
      " [0 1]]\n"
     ]
    }
   ],
   "source": [
    "import numpy as np\n",
    "\n",
    "scores = np.random.randint(0, 100, (5, 3))\n",
    "\n",
    "sort = np.sort(scores, axis=1)\n",
    "argsort = np.argsort(scores, axis=1)\n",
    "\n",
    "bottom2_scores = sort[: , :2]\n",
    "bottom2_subjects = argsort[:, :2]\n",
    "\n",
    "print(f\"scores: \\n{scores}\\n\")\n",
    "\n",
    "print(f\"bottom2_scores: \\n{bottom2_scores}\")\n",
    "print(f\"bottom2_subjects: \\n{bottom2_subjects}\")"
   ]
  }
 ],
 "metadata": {
  "kernelspec": {
   "display_name": "Python 3",
   "language": "python",
   "name": "python3"
  },
  "language_info": {
   "codemirror_mode": {
    "name": "ipython",
    "version": 3
   },
   "file_extension": ".py",
   "mimetype": "text/x-python",
   "name": "python",
   "nbconvert_exporter": "python",
   "pygments_lexer": "ipython3",
   "version": "3.8.3"
  },
  "toc": {
   "base_numbering": 1,
   "nav_menu": {},
   "number_sections": true,
   "sideBar": true,
   "skip_h1_title": false,
   "title_cell": "Table of Contents",
   "title_sidebar": "Contents",
   "toc_cell": false,
   "toc_position": {},
   "toc_section_display": true,
   "toc_window_display": false
  }
 },
 "nbformat": 4,
 "nbformat_minor": 4
}
