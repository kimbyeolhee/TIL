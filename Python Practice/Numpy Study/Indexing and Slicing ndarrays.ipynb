{
 "cells": [
  {
   "cell_type": "markdown",
   "metadata": {},
   "source": [
    "# **Basic Indexing and Slicing**"
   ]
  },
  {
   "cell_type": "markdown",
   "metadata": {},
   "source": [
    "## Indexing and Slicing Vector ndarrays"
   ]
  },
  {
   "cell_type": "markdown",
   "metadata": {},
   "source": [
    "**indexing**"
   ]
  },
  {
   "cell_type": "code",
   "execution_count": 1,
   "metadata": {},
   "outputs": [
    {
     "name": "stdout",
     "output_type": "stream",
     "text": [
      "ndarray: \n",
      "[0 1 2 3 4 5 6 7 8 9]\n",
      "\n",
      "a[0]:  0\n",
      "a[2]:  2\n",
      "a[-1]:  9\n",
      "a[-2]:  8\n"
     ]
    }
   ],
   "source": [
    "import numpy as np\n",
    "\n",
    "a = np.arange(10)\n",
    "print(f\"ndarray: \\n{a}\\n\")\n",
    "\n",
    "print(\"a[0]: \", a[0])\n",
    "print(\"a[2]: \", a[2])\n",
    "\n",
    "print(\"a[-1]: \", a[-1])\n",
    "print(\"a[-2]: \", a[-2])"
   ]
  },
  {
   "cell_type": "code",
   "execution_count": 2,
   "metadata": {},
   "outputs": [
    {
     "name": "stdout",
     "output_type": "stream",
     "text": [
      "ndarray: \n",
      "[0 1 2 3 4]\n",
      "\n",
      "0\n",
      "1\n",
      "2\n",
      "3\n",
      "4\n"
     ]
    }
   ],
   "source": [
    "import numpy as np\n",
    "\n",
    "a = np.arange(5)\n",
    "print(f\"ndarray: \\n{a}\\n\")\n",
    "\n",
    "for data in a:\n",
    "    print(data)"
   ]
  },
  {
   "cell_type": "markdown",
   "metadata": {},
   "source": [
    "**slicing**"
   ]
  },
  {
   "cell_type": "code",
   "execution_count": 4,
   "metadata": {},
   "outputs": [
    {
     "name": "stdout",
     "output_type": "stream",
     "text": [
      "ndarray: \n",
      "[0 1 2 3 4 5 6 7 8 9]\n",
      "\n",
      "a[0:3]:  [0 1 2]\n",
      "a[3:-1]:  [3 4 5 6 7 8]\n"
     ]
    }
   ],
   "source": [
    "import numpy as np\n",
    "\n",
    "a = np.arange(10)\n",
    "print(f\"ndarray: \\n{a}\\n\")\n",
    "\n",
    "print(\"a[0:3]: \", a[0:3])\n",
    "print(\"a[3:-1]: \", a[3:-1])"
   ]
  },
  {
   "cell_type": "code",
   "execution_count": 9,
   "metadata": {},
   "outputs": [
    {
     "name": "stdout",
     "output_type": "stream",
     "text": [
      "ndarray: \n",
      "[0 1 2 3 4 5 6 7 8 9]\n",
      "\n",
      "a[:4]:  [0 1 2 3]\n",
      "a[-2:]:  [8 9]\n"
     ]
    }
   ],
   "source": [
    "print(f\"ndarray: \\n{a}\\n\")\n",
    "\n",
    "print(\"a[:4]: \", a[:4])\n",
    "print(\"a[-2:]: \", a[-2:])"
   ]
  },
  {
   "cell_type": "code",
   "execution_count": 8,
   "metadata": {},
   "outputs": [
    {
     "name": "stdout",
     "output_type": "stream",
     "text": [
      "ndarray: \n",
      "[0 1 2 3 4 5 6 7 8 9]\n",
      "\n",
      "a[2:7:2]:  [2 4 6]\n",
      "a[7:2:-1]:  [7 6 5 4 3]\n"
     ]
    }
   ],
   "source": [
    "print(f\"ndarray: \\n{a}\\n\")\n",
    "\n",
    "print(\"a[2:7:2]: \", a[2:7:2])\n",
    "print(\"a[7:2:-1]: \", a[7:2:-1]) # 반대방향"
   ]
  },
  {
   "cell_type": "code",
   "execution_count": 10,
   "metadata": {},
   "outputs": [
    {
     "name": "stdout",
     "output_type": "stream",
     "text": [
      "ndarray: \n",
      "[0 1 2 3 4 5 6 7 8 9]\n",
      "\n",
      "[0 3 6 9]\n",
      "[0 3 6 9]\n",
      "[0 3 6 9]\n"
     ]
    }
   ],
   "source": [
    "import numpy as np\n",
    "\n",
    "a = np.arange(10)\n",
    "indices = np.array([0, 3, 6, -1])\n",
    "print(f\"ndarray: \\n{a}\\n\")\n",
    "\n",
    "print(a[[0, 3, 6, -1]])\n",
    "print(a[indices])\n",
    "print(a[a%3==0])"
   ]
  },
  {
   "cell_type": "markdown",
   "metadata": {},
   "source": [
    "## Element Assignment with Slicing"
   ]
  },
  {
   "cell_type": "code",
   "execution_count": 11,
   "metadata": {},
   "outputs": [
    {
     "name": "stdout",
     "output_type": "stream",
     "text": [
      "[1, 2, 3, 4, 5, 6, 7, 8, 9, 10]\n",
      "[0, 0, 0, 0, 0, 6, 7, 8, 9, 10]\n"
     ]
    }
   ],
   "source": [
    "a = list(range(1,11))\n",
    "print(a)\n",
    "\n",
    "for data_idx in range(5):\n",
    "    a[data_idx] = 0\n",
    "print(a)"
   ]
  },
  {
   "cell_type": "code",
   "execution_count": 12,
   "metadata": {},
   "outputs": [
    {
     "name": "stdout",
     "output_type": "stream",
     "text": [
      "[ 1  2  3  4  5  6  7  8  9 10]\n",
      "[ 0  0  0  0  0  6  7  8  9 10]\n"
     ]
    }
   ],
   "source": [
    "# using numpy without for\n",
    "a = np.arange(1,11)\n",
    "print(a)\n",
    "\n",
    "a[:5] = 0\n",
    "print(a)"
   ]
  },
  {
   "cell_type": "code",
   "execution_count": 14,
   "metadata": {},
   "outputs": [
    {
     "name": "stdout",
     "output_type": "stream",
     "text": [
      "[ 1  2  3  4  5  6  7  8  9 10]\n",
      "[200   2 200   4 200   6 200   8 200  10]\n",
      "[200   2 200   4 200 300 200   8 300  10]\n"
     ]
    }
   ],
   "source": [
    "a = np.arange(1,11)\n",
    "print(a)\n",
    "\n",
    "a[::2] = 200\n",
    "print(a)\n",
    "\n",
    "a[5:-1:3] = 300\n",
    "print(a)"
   ]
  },
  {
   "cell_type": "markdown",
   "metadata": {},
   "source": [
    "## Indexing and Slicing Matrix ndarrays"
   ]
  },
  {
   "cell_type": "code",
   "execution_count": 15,
   "metadata": {},
   "outputs": [
    {
     "name": "stdout",
     "output_type": "stream",
     "text": [
      "[0, 1, 2]\n",
      "[3, 4, 5]\n",
      "[6, 7, 8]\n"
     ]
    }
   ],
   "source": [
    "a = [[0,1,2],[3,4,5],[6,7,8]]\n",
    "print(a[0])\n",
    "print(a[1])\n",
    "print(a[2])"
   ]
  },
  {
   "cell_type": "code",
   "execution_count": 16,
   "metadata": {},
   "outputs": [
    {
     "name": "stdout",
     "output_type": "stream",
     "text": [
      "0 1 2\n",
      "3 4 5\n",
      "6 7 8\n"
     ]
    }
   ],
   "source": [
    "print(a[0][0], a[0][1], a[0][2])\n",
    "print(a[1][0], a[1][1], a[1][2])\n",
    "print(a[2][0], a[2][1], a[2][2])"
   ]
  },
  {
   "cell_type": "code",
   "execution_count": 18,
   "metadata": {},
   "outputs": [
    {
     "name": "stdout",
     "output_type": "stream",
     "text": [
      "ndarray: \n",
      "[[ 0  1  2  3]\n",
      " [ 4  5  6  7]\n",
      " [ 8  9 10 11]]\n",
      "\n",
      "a[0]:  [0 1 2 3]\n",
      "a[1]:  [4 5 6 7]\n",
      "a[2]:  [ 8  9 10 11]\n"
     ]
    }
   ],
   "source": [
    "# using numpy\n",
    "import numpy as np\n",
    "\n",
    "a = np.arange(12).reshape((3,4))\n",
    "print(f\"ndarray: \\n{a}\\n\")\n",
    "\n",
    "print(\"a[0]: \",a[0])\n",
    "print(\"a[1]: \",a[1])\n",
    "print(\"a[2]: \",a[2])"
   ]
  },
  {
   "cell_type": "code",
   "execution_count": 20,
   "metadata": {},
   "outputs": [
    {
     "name": "stdout",
     "output_type": "stream",
     "text": [
      "ndarray: \n",
      "[[ 0  1  2  3]\n",
      " [ 4  5  6  7]\n",
      " [ 8  9 10 11]]\n",
      "\n",
      "[0 1 2 3]\n",
      "[4 5 6 7]\n",
      "[ 8  9 10 11]\n"
     ]
    }
   ],
   "source": [
    "# for 문에서 작동할 경우\n",
    "a = np.arange(12).reshape((3,4))\n",
    "print(f\"ndarray: \\n{a}\\n\")\n",
    "\n",
    "for data in a:\n",
    "    print(data)"
   ]
  },
  {
   "cell_type": "code",
   "execution_count": 21,
   "metadata": {},
   "outputs": [
    {
     "name": "stdout",
     "output_type": "stream",
     "text": [
      "ndarray: \n",
      "[[0 1 2]\n",
      " [3 4 5]\n",
      " [6 7 8]]\n",
      "\n",
      "0 1 2\n",
      "3 4 5\n",
      "6 7 8\n"
     ]
    }
   ],
   "source": [
    "import numpy as np\n",
    "\n",
    "a = np.arange(9).reshape((3,3))\n",
    "print(f\"ndarray: \\n{a}\\n\")\n",
    "\n",
    "print(a[0,0], a[0,1], a[0,2])\n",
    "print(a[1,0], a[1,1], a[1,2])\n",
    "print(a[2,0], a[2,1], a[2,2])"
   ]
  },
  {
   "cell_type": "code",
   "execution_count": 24,
   "metadata": {},
   "outputs": [
    {
     "name": "stdout",
     "output_type": "stream",
     "text": [
      "ndarray: \n",
      "[[ 0  1  2  3]\n",
      " [ 4  5  6  7]\n",
      " [ 8  9 10 11]]\n",
      "\n",
      "a[0,1:] : [1 2 3]\n",
      "a[1,:3] : [0 1 2]\n",
      "a[2,1:3] : [ 9 10]\n"
     ]
    }
   ],
   "source": [
    "import numpy as np\n",
    "\n",
    "a = np.arange(12).reshape((3,-1))\n",
    "print(f\"ndarray: \\n{a}\\n\")\n",
    "\n",
    "print(\"a[0,1:] :\", a[0, 1:])\n",
    "print(\"a[1,:3] :\", a[0, :3])\n",
    "print(\"a[2,1:3] :\", a[2, 1:3])"
   ]
  },
  {
   "cell_type": "code",
   "execution_count": 25,
   "metadata": {},
   "outputs": [
    {
     "name": "stdout",
     "output_type": "stream",
     "text": [
      "ndarray: \n",
      "[[ 0  1  2]\n",
      " [ 3  4  5]\n",
      " [ 6  7  8]\n",
      " [ 9 10 11]]\n",
      "\n",
      "a[1:,0] : [3 6 9]\n",
      "a[:3,1] : [1 4 7]\n",
      "a[1:3,2] : [5 8]\n"
     ]
    }
   ],
   "source": [
    "import numpy as np\n",
    "\n",
    "a = np.arange(12).reshape((4,-1))\n",
    "print(f\"ndarray: \\n{a}\\n\")\n",
    "\n",
    "print(\"a[1:,0] :\", a[1:,0])\n",
    "print(\"a[:3,1] :\", a[:3,1])\n",
    "print(\"a[1:3,2] :\", a[1:3,2])"
   ]
  },
  {
   "cell_type": "code",
   "execution_count": 29,
   "metadata": {},
   "outputs": [
    {
     "name": "stdout",
     "output_type": "stream",
     "text": [
      "ndarray: \n",
      "[[ 0  1  2  3]\n",
      " [ 4  5  6  7]\n",
      " [ 8  9 10 11]\n",
      " [12 13 14 15]]\n",
      "\n",
      "a[1:3,1:3] :\n",
      " [[ 5  6]\n",
      " [ 9 10]]\n",
      "a[:2,:3] :\n",
      " [[0 1 2]\n",
      " [4 5 6]]\n",
      "a[1:,2:] :\n",
      " [[ 6  7]\n",
      " [10 11]\n",
      " [14 15]]\n",
      "a[2:,-2:] :\n",
      " [[10 11]\n",
      " [14 15]]\n"
     ]
    }
   ],
   "source": [
    "import numpy as np\n",
    "\n",
    "a = np.arange(16).reshape((4,-1))\n",
    "print(f\"ndarray: \\n{a}\\n\")\n",
    "\n",
    "print(\"a[1:3,1:3] :\\n\", a[1:3,1:3])\n",
    "print(\"a[:2,:3] :\\n\", a[:2,:3])\n",
    "print(\"a[1:,2:] :\\n\", a[1:,2:])\n",
    "print(\"a[2:,-2:] :\\n\", a[2:,-2:])    "
   ]
  },
  {
   "cell_type": "code",
   "execution_count": 33,
   "metadata": {},
   "outputs": [
    {
     "name": "stdout",
     "output_type": "stream",
     "text": [
      "ndarray: \n",
      "[[0 1 2]\n",
      " [3 4 5]\n",
      " [6 7 8]]\n",
      "\n",
      "horizontal_flip: \n",
      "[[2 1 0]\n",
      " [5 4 3]\n",
      " [8 7 6]]\n",
      "\n",
      "vertical_flip: \n",
      "[[2 1 0]\n",
      " [5 4 3]\n",
      " [8 7 6]]\n",
      "\n",
      "rotation: \n",
      "[[8 7 6]\n",
      " [5 4 3]\n",
      " [2 1 0]]\n",
      "\n"
     ]
    }
   ],
   "source": [
    "import numpy as np\n",
    "\n",
    "image = np.arange(9).reshape((3,3))\n",
    "print(f\"ndarray: \\n{image}\\n\")\n",
    "\n",
    "# row는 그대로, column은 반대방향\n",
    "horizontal_flip = image[:, ::-1]\n",
    "print(f\"horizontal_flip: \\n{horizontal_flip}\\n\")\n",
    "\n",
    "# row가 반대방향\n",
    "vertical_flip = image[:, ::-1]\n",
    "print(f\"vertical_flip: \\n{vertical_flip}\\n\")\n",
    "\n",
    "# 180도 회전\n",
    "rotation = image[::-1, ::-1]\n",
    "print(f\"rotation: \\n{rotation}\\n\")"
   ]
  },
  {
   "cell_type": "code",
   "execution_count": 34,
   "metadata": {},
   "outputs": [
    {
     "name": "stdout",
     "output_type": "stream",
     "text": [
      "ndarray: \n",
      "[[ 0  1  2  3]\n",
      " [ 4  5  6  7]\n",
      " [ 8  9 10 11]\n",
      " [12 13 14 15]]\n",
      "\n",
      "a[0, :] : \n",
      " [0 1 2 3]\n",
      "a[0, ...] : \n",
      " [0 1 2 3]\n"
     ]
    }
   ],
   "source": [
    "# '...' 전부 다 가져오기\n",
    "import numpy as np\n",
    "\n",
    "a = np.arange(16).reshape((4,4))\n",
    "print(f\"ndarray: \\n{a}\\n\")\n",
    "\n",
    "print(\"a[0, :] : \\n\", a[0, :] )\n",
    "\n",
    "print(\"a[0, ...] : \\n\", a[0, ...])"
   ]
  },
  {
   "cell_type": "markdown",
   "metadata": {},
   "source": [
    "## Indexing and Slicing 3rd Order Tensor ndarrays"
   ]
  },
  {
   "cell_type": "code",
   "execution_count": 35,
   "metadata": {},
   "outputs": [
    {
     "name": "stdout",
     "output_type": "stream",
     "text": [
      "ndarray: \n",
      "[[[ 0  1  2]\n",
      "  [ 3  4  5]\n",
      "  [ 6  7  8]]\n",
      "\n",
      " [[ 9 10 11]\n",
      "  [12 13 14]\n",
      "  [15 16 17]]\n",
      "\n",
      " [[18 19 20]\n",
      "  [21 22 23]\n",
      "  [24 25 26]]]\n",
      "\n",
      "a[0] : \n",
      " [[0 1 2]\n",
      " [3 4 5]\n",
      " [6 7 8]]\n"
     ]
    }
   ],
   "source": [
    "import numpy as np\n",
    "\n",
    "a = np.arange(3*3*3).reshape((3,3,3))\n",
    "print(f\"ndarray: \\n{a}\\n\")\n",
    "\n",
    "print(\"a[0] : \\n\", a[0])"
   ]
  },
  {
   "cell_type": "code",
   "execution_count": 36,
   "metadata": {},
   "outputs": [
    {
     "name": "stdout",
     "output_type": "stream",
     "text": [
      "ndarray: \n",
      "[[[ 0  1  2]\n",
      "  [ 3  4  5]\n",
      "  [ 6  7  8]]\n",
      "\n",
      " [[ 9 10 11]\n",
      "  [12 13 14]\n",
      "  [15 16 17]]\n",
      "\n",
      " [[18 19 20]\n",
      "  [21 22 23]\n",
      "  [24 25 26]]]\n",
      "\n",
      "a[0,0] : \n",
      " [0 1 2]\n"
     ]
    }
   ],
   "source": [
    "import numpy as np\n",
    "\n",
    "a = np.arange(3*3*3).reshape((3,3,3))\n",
    "print(f\"ndarray: \\n{a}\\n\")\n",
    "\n",
    "print(\"a[0,0] : \\n\", a[0,0])"
   ]
  },
  {
   "cell_type": "code",
   "execution_count": 43,
   "metadata": {},
   "outputs": [
    {
     "name": "stdout",
     "output_type": "stream",
     "text": [
      "ndarray: \n",
      "[[[ 0  1  2]\n",
      "  [ 3  4  5]\n",
      "  [ 6  7  8]]\n",
      "\n",
      " [[ 9 10 11]\n",
      "  [12 13 14]\n",
      "  [15 16 17]]\n",
      "\n",
      " [[18 19 20]\n",
      "  [21 22 23]\n",
      "  [24 25 26]]]\n",
      "\n",
      "a[0, :2, :2] : \n",
      " [[0 1]\n",
      " [3 4]] \n",
      "\n",
      "a[1, :2, :] : \n",
      " [[ 9 10 11]\n",
      " [12 13 14]] \n",
      "\n",
      "a[2, 1:, 1:] : \n",
      " [[22 23]\n",
      " [25 26]]\n"
     ]
    }
   ],
   "source": [
    "import numpy as np\n",
    "\n",
    "a = np.arange(3*3*3).reshape((3,3,3))\n",
    "print(f\"ndarray: \\n{a}\\n\")\n",
    "\n",
    "print(\"a[0, :2, :2] : \\n\", a[0, :2, :2], '\\n')\n",
    "print(\"a[1, :2, :] : \\n\", a[1, :2, :],'\\n')\n",
    "print(\"a[2, 1:, 1:] : \\n\", a[2, 1:, 1:])"
   ]
  },
  {
   "cell_type": "code",
   "execution_count": 47,
   "metadata": {},
   "outputs": [
    {
     "name": "stdout",
     "output_type": "stream",
     "text": [
      "image set:  (32, 100, 200)\n",
      "(100, 200)\n",
      "(100, 200)\n",
      "(32, 100)\n",
      "(32, 100)\n",
      "(100,)\n"
     ]
    }
   ],
   "source": [
    "import numpy as np\n",
    "\n",
    "images = np.random.normal(size=(32, 100, 200))\n",
    "print(\"image set: \", images.shape)\n",
    "\n",
    "image0 = images[0, : , :]\n",
    "print(image0.shape)\n",
    "\n",
    "image0 = images[0, ...]\n",
    "print(image0.shape)\n",
    "\n",
    "col0 = images[:, :, 0]\n",
    "print(col0.shape)\n",
    "\n",
    "col0 = images[..., 0]\n",
    "print(col0.shape)\n",
    "\n",
    "image0_col0 = images[0, ... , 0]\n",
    "print(image0_col0.shape)"
   ]
  },
  {
   "cell_type": "code",
   "execution_count": 55,
   "metadata": {},
   "outputs": [
    {
     "name": "stdout",
     "output_type": "stream",
     "text": [
      "ndarray: \n",
      "[[[ 0  1  2]\n",
      "  [ 3  4  5]\n",
      "  [ 6  7  8]]\n",
      "\n",
      " [[ 9 10 11]\n",
      "  [12 13 14]\n",
      "  [15 16 17]]\n",
      "\n",
      " [[18 19 20]\n",
      "  [21 22 23]\n",
      "  [24 25 26]]]\n",
      "\n",
      "a[:, :2, :] : \n",
      "[[[ 0  1  2]\n",
      "  [ 3  4  5]]\n",
      "\n",
      " [[ 9 10 11]\n",
      "  [12 13 14]]\n",
      "\n",
      " [[18 19 20]\n",
      "  [21 22 23]]]\n",
      "\n",
      "a[..., 0] : \n",
      "[[ 0  3  6]\n",
      " [ 9 12 15]\n",
      " [18 21 24]]\n",
      "\n",
      "a[1:, 1:, 1:] : \n",
      "[[[13 14]\n",
      "  [16 17]]\n",
      "\n",
      " [[22 23]\n",
      "  [25 26]]]\n",
      "\n"
     ]
    }
   ],
   "source": [
    "import numpy as np\n",
    "\n",
    "a = np.arange(27).reshape((3,3,3))\n",
    "print(f\"ndarray: \\n{a}\\n\")\n",
    "\n",
    "print(f\"a[:, :2, :] : \\n{a[:, :2, :]}\\n\")\n",
    "print(f\"a[..., 0] : \\n{a[..., 0]}\\n\")\n",
    "print(f\"a[1:, 1:, 1:] : \\n{a[1:, 1:, 1:]}\\n\")"
   ]
  },
  {
   "cell_type": "code",
   "execution_count": 56,
   "metadata": {},
   "outputs": [
    {
     "name": "stdout",
     "output_type": "stream",
     "text": [
      "(500, 300) (500, 300) (500, 300)\n"
     ]
    }
   ],
   "source": [
    "import numpy as np\n",
    "\n",
    "image = np.random.normal(size=(3, 500, 300))\n",
    "image_r = image[0]\n",
    "image_g = image[1]\n",
    "image_b = image[2]\n",
    "\n",
    "print(image_r.shape, image_g.shape, image_b.shape)"
   ]
  },
  {
   "cell_type": "code",
   "execution_count": 57,
   "metadata": {},
   "outputs": [
    {
     "name": "stdout",
     "output_type": "stream",
     "text": [
      "(500, 300) (500, 300) (500, 300)\n"
     ]
    }
   ],
   "source": [
    "# unpacking\n",
    "image_r, image_g, image_b = image\n",
    "print(image_r.shape, image_g.shape, image_b.shape)"
   ]
  },
  {
   "cell_type": "code",
   "execution_count": 58,
   "metadata": {},
   "outputs": [
    {
     "name": "stdout",
     "output_type": "stream",
     "text": [
      "(3, 100, 100) (3, 100, 100)\n",
      "(3, 100, 100) (3, 100, 100)\n"
     ]
    }
   ],
   "source": [
    "import numpy as np\n",
    "\n",
    "image = np.random.normal(size=(3, 500, 300))\n",
    "\n",
    "top_left = image[:, :100, :100]\n",
    "top_right = image[:, :100, -100:]\n",
    "bottom_left = image[:, -100:, :100]\n",
    "bottom_right = image[:, -100:, -100:]\n",
    "\n",
    "print(top_left.shape, top_right.shape)\n",
    "print(bottom_left.shape,bottom_right.shape )"
   ]
  },
  {
   "cell_type": "markdown",
   "metadata": {},
   "source": [
    "# **Indexing with int ndarrays**"
   ]
  },
  {
   "cell_type": "markdown",
   "metadata": {},
   "source": [
    "## Indexing and Slicing Vector ndarrays"
   ]
  },
  {
   "cell_type": "code",
   "execution_count": 59,
   "metadata": {},
   "outputs": [
    {
     "name": "stdout",
     "output_type": "stream",
     "text": [
      "ndarray: \n",
      "[0 1 2 3 4 5 6 7 8 9]\n",
      "\n",
      "[0 3 4]\n"
     ]
    }
   ],
   "source": [
    "import numpy as np\n",
    "\n",
    "a = np.arange(10)\n",
    "print(f\"ndarray: \\n{a}\\n\")\n",
    "\n",
    "indices = np.array([0, 3, 4])\n",
    "print(a[indices])"
   ]
  },
  {
   "cell_type": "markdown",
   "metadata": {},
   "source": [
    "중복된 index도 출력 가능"
   ]
  },
  {
   "cell_type": "code",
   "execution_count": 60,
   "metadata": {},
   "outputs": [
    {
     "name": "stdout",
     "output_type": "stream",
     "text": [
      "ndarray: \n",
      "[0 1 2 3 4 5 6 7 8 9]\n",
      "\n",
      "[0 0 5 5]\n"
     ]
    }
   ],
   "source": [
    "import numpy as np\n",
    "\n",
    "a = np.arange(10)\n",
    "print(f\"ndarray: \\n{a}\\n\")\n",
    "\n",
    "indices = np.array([0, 0, 5, 5])\n",
    "print(a[indices])"
   ]
  },
  {
   "attachments": {
    "aa.PNG": {
     "image/png": "[encoded data removed]"
    }
   },
   "cell_type": "markdown",
   "metadata": {},
   "source": [
    "![aa.PNG](attachment:aa.PNG)"
   ]
  },
  {
   "cell_type": "code",
   "execution_count": 61,
   "metadata": {},
   "outputs": [
    {
     "name": "stdout",
     "output_type": "stream",
     "text": [
      "ndarray: \n",
      "[0 1 2 3 4 5 6 7 8 9]\n",
      "\n",
      "[[1 2 3]\n",
      " [5 8 9]]\n"
     ]
    }
   ],
   "source": [
    "import numpy as np\n",
    "\n",
    "a = np.arange(10)\n",
    "print(f\"ndarray: \\n{a}\\n\")\n",
    "\n",
    "indices = np.array([[1, 2, 3], [5, 8, 9]])\n",
    "print(a[indices])"
   ]
  },
  {
   "cell_type": "code",
   "execution_count": 62,
   "metadata": {},
   "outputs": [
    {
     "name": "stdout",
     "output_type": "stream",
     "text": [
      "ndarray: \n",
      "[ 6  5  2 19  7  0 13 14  6  2]\n",
      "\n",
      "indices : \n",
      "[[[8 2 9 2]\n",
      "  [5 8 8 3]\n",
      "  [6 3 6 1]]\n",
      "\n",
      " [[5 4 9 4]\n",
      "  [5 3 3 6]\n",
      "  [9 6 0 7]]]\n",
      "\n",
      "a[indices]: \n",
      "[[[ 6  2  2  2]\n",
      "  [ 0  6  6 19]\n",
      "  [13 19 13  5]]\n",
      "\n",
      " [[ 0  7  2  7]\n",
      "  [ 0 19 19 13]\n",
      "  [ 2 13  6 14]]]\n"
     ]
    }
   ],
   "source": [
    "import numpy as np\n",
    "\n",
    "a = np.random.randint(0, 20, (10, ))\n",
    "print(f\"ndarray: \\n{a}\\n\")\n",
    "\n",
    "indices = np.random.randint(0, 10, size=(2, 3, 4))\n",
    "print(f\"indices : \\n{indices}\\n\")\n",
    "\n",
    "print(f\"a[indices]: \\n{a[indices]}\")"
   ]
  },
  {
   "attachments": {
    "bb.PNG": {
     "image/png": "[encoded data removed]"
    }
   },
   "cell_type": "markdown",
   "metadata": {},
   "source": [
    "![bb.PNG](attachment:bb.PNG)"
   ]
  },
  {
   "cell_type": "code",
   "execution_count": 63,
   "metadata": {},
   "outputs": [
    {
     "name": "stdout",
     "output_type": "stream",
     "text": [
      "ndarray: \n",
      "[[ 0  1  2  3]\n",
      " [ 4  5  6  7]\n",
      " [ 8  9 10 11]]\n",
      "\n",
      "indices : \n",
      "[0 2]\n",
      "\n",
      "a[indices]: \n",
      "[[ 0  1  2  3]\n",
      " [ 8  9 10 11]]\n"
     ]
    }
   ],
   "source": [
    "import numpy as np\n",
    "\n",
    "a = np.arange(12).reshape((3,4))\n",
    "print(f\"ndarray: \\n{a}\\n\")\n",
    "\n",
    "indices = np.array([0,2])\n",
    "print(f\"indices : \\n{indices}\\n\")\n",
    "\n",
    "print(f\"a[indices]: \\n{a[indices]}\")"
   ]
  },
  {
   "cell_type": "code",
   "execution_count": 64,
   "metadata": {},
   "outputs": [
    {
     "name": "stdout",
     "output_type": "stream",
     "text": [
      "ndarray: \n",
      "[[ 0  1  2  3]\n",
      " [ 4  5  6  7]\n",
      " [ 8  9 10 11]]\n",
      "\n",
      "indices : \n",
      "[0 0 1 1 2 2]\n",
      "\n",
      "a[indices]: \n",
      "[[ 0  1  2  3]\n",
      " [ 0  1  2  3]\n",
      " [ 4  5  6  7]\n",
      " [ 4  5  6  7]\n",
      " [ 8  9 10 11]\n",
      " [ 8  9 10 11]]\n"
     ]
    }
   ],
   "source": [
    "import numpy as np\n",
    "\n",
    "a = np.arange(12).reshape((3,4))\n",
    "print(f\"ndarray: \\n{a}\\n\")\n",
    "\n",
    "indices = np.array([0,0,1,1,2,2])\n",
    "print(f\"indices : \\n{indices}\\n\")\n",
    "\n",
    "print(f\"a[indices]: \\n{a[indices]}\")"
   ]
  },
  {
   "cell_type": "code",
   "execution_count": 65,
   "metadata": {},
   "outputs": [
    {
     "name": "stdout",
     "output_type": "stream",
     "text": [
      "ndarray: \n",
      "[[ 0  1  2  3]\n",
      " [ 4  5  6  7]\n",
      " [ 8  9 10 11]]\n",
      "\n",
      "indices : \n",
      "[[ 0  1  2]\n",
      " [-3 -2 -1]]\n",
      "\n",
      "a[indices]: \n",
      "[[[ 0  1  2  3]\n",
      "  [ 4  5  6  7]\n",
      "  [ 8  9 10 11]]\n",
      "\n",
      " [[ 0  1  2  3]\n",
      "  [ 4  5  6  7]\n",
      "  [ 8  9 10 11]]]\n"
     ]
    }
   ],
   "source": [
    "import numpy as np\n",
    "\n",
    "a = np.arange(12).reshape((3,4))\n",
    "print(f\"ndarray: \\n{a}\\n\")\n",
    "\n",
    "indices = np.array([[0,1,2],[-3,-2,-1]])\n",
    "print(f\"indices : \\n{indices}\\n\")\n",
    "\n",
    "print(f\"a[indices]: \\n{a[indices]}\")"
   ]
  },
  {
   "cell_type": "code",
   "execution_count": 66,
   "metadata": {},
   "outputs": [
    {
     "name": "stdout",
     "output_type": "stream",
     "text": [
      "ndarray: \n",
      "[[ 0  1  2  3]\n",
      " [ 4  5  6  7]\n",
      " [ 8  9 10 11]]\n",
      "\n",
      "[0]\n",
      "[6]\n",
      "[8]\n"
     ]
    }
   ],
   "source": [
    "import numpy as np\n",
    "\n",
    "a = np.arange(12).reshape((3,4))\n",
    "print(f\"ndarray: \\n{a}\\n\")\n",
    "\n",
    "indices0, indices1 = np.array([0]), np.array([0])\n",
    "print(a[indices0, indices1])\n",
    "\n",
    "indices0, indices1 = np.array([1]), np.array([2])\n",
    "print(a[indices0, indices1])\n",
    "\n",
    "indices0, indices1 = np.array([-1]), np.array([0])\n",
    "print(a[indices0, indices1])"
   ]
  },
  {
   "cell_type": "code",
   "execution_count": 69,
   "metadata": {},
   "outputs": [
    {
     "name": "stdout",
     "output_type": "stream",
     "text": [
      "ndarray: \n",
      "[[ 0  1  2  3]\n",
      " [ 4  5  6  7]\n",
      " [ 8  9 10 11]]\n",
      "\n",
      "paired indices\n",
      "(0, 1)\n",
      "\n",
      "(1, 2)\n",
      "\n",
      "(2, 3)\n",
      "\n",
      "a[indices0, indices1]: \n",
      " [ 1  6 11]\n"
     ]
    }
   ],
   "source": [
    "import numpy as np\n",
    "\n",
    "a = np.arange(12).reshape((3,4))\n",
    "print(f\"ndarray: \\n{a}\\n\")\n",
    "\n",
    "indices0, indices1 = np.array([0, 1, 2]), np.array([1, 2, 3])\n",
    "\n",
    "print(\"paired indices\")\n",
    "for idx0, idx1 in zip(indices0, indices1):\n",
    "    print(f\"({idx0}, {idx1})\\n\")\n",
    "\n",
    "print(\"a[indices0, indices1]: \\n\" ,a[indices0, indices1])"
   ]
  },
  {
   "cell_type": "code",
   "execution_count": 71,
   "metadata": {},
   "outputs": [
    {
     "name": "stdout",
     "output_type": "stream",
     "text": [
      "ndarray: \n",
      "[[ 0  1  2  3]\n",
      " [ 4  5  6  7]\n",
      " [ 8  9 10 11]]\n",
      "\n",
      "paired indices\n",
      "(0, 0) (1, 1) (2, 2) \n",
      "(0, 1) (1, 2) (2, 3) \n",
      "a[indices0, indices1]: \n",
      " [[ 0  5 10]\n",
      " [ 1  6 11]]\n"
     ]
    }
   ],
   "source": [
    "import numpy as np\n",
    "\n",
    "a = np.arange(12).reshape((3,4))\n",
    "print(f\"ndarray: \\n{a}\\n\")\n",
    "\n",
    "indices0 = np.array([[0, 1, 2], [0, 1, 2]])\n",
    "indices1 = np.array([[0, 1, 2], [1, 2, 3]])\n",
    "\n",
    "print(\"paired indices\")\n",
    "for row_indices0, row_indices1 in zip(indices0, indices1):\n",
    "    for idx0, idx1 in zip(row_indices0, row_indices1):\n",
    "        print(f\"({idx0}, {idx1})\", end=' ')\n",
    "    print()\n",
    "\n",
    "print(\"a[indices0, indices1]: \\n\" ,a[indices0, indices1])"
   ]
  },
  {
   "cell_type": "markdown",
   "metadata": {},
   "source": [
    "# **Indexing with bool ndarrays**"
   ]
  },
  {
   "cell_type": "markdown",
   "metadata": {},
   "source": [
    "## Indexing and Slicing Vector ndarrays"
   ]
  },
  {
   "cell_type": "code",
   "execution_count": 73,
   "metadata": {},
   "outputs": [
    {
     "name": "stdout",
     "output_type": "stream",
     "text": [
      "ndarray: \n",
      "[0 1 2 3 4]\n",
      "\n",
      "b_indices : \n",
      "[ True False  True False  True]\n",
      "\n",
      "a[b_indices]: \n",
      "[0 2 4]\n"
     ]
    }
   ],
   "source": [
    "import numpy as np\n",
    "\n",
    "a = np.arange(5)\n",
    "print(f\"ndarray: \\n{a}\\n\")\n",
    "\n",
    "# true 뽑는다 False 안뽑는다\n",
    "b_indices = np.array([True, False, True, False, True])\n",
    "print(f\"b_indices : \\n{b_indices}\\n\")\n",
    "\n",
    "print(f\"a[b_indices]: \\n{a[b_indices]}\")"
   ]
  },
  {
   "cell_type": "code",
   "execution_count": 74,
   "metadata": {},
   "outputs": [
    {
     "name": "stdout",
     "output_type": "stream",
     "text": [
      "ndarray: \n",
      "[11  0  6  2 14  4  9 11  4  6]\n",
      "\n",
      "b_indices : \n",
      "[False  True  True  True  True  True False False  True  True]\n",
      "\n",
      "a[b_indices]: \n",
      "[ 0  6  2 14  4  4  6]\n"
     ]
    }
   ],
   "source": [
    "import numpy as np\n",
    "\n",
    "a = np.random.randint(0, 20 , (10,))\n",
    "print(f\"ndarray: \\n{a}\\n\")\n",
    "\n",
    "b_indices = (a % 2 == 0)\n",
    "print(f\"b_indices : \\n{b_indices}\\n\")\n",
    "\n",
    "print(f\"a[b_indices]: \\n{a[b_indices]}\")"
   ]
  },
  {
   "cell_type": "markdown",
   "metadata": {},
   "source": [
    "## Indexing and Slicing Matrix ndarrays"
   ]
  },
  {
   "cell_type": "code",
   "execution_count": 76,
   "metadata": {},
   "outputs": [
    {
     "name": "stdout",
     "output_type": "stream",
     "text": [
      "ndarray: \n",
      "[[11  0]\n",
      " [11 15]]\n",
      "\n",
      "b_indices : \n",
      "[[ True False]\n",
      " [False  True]]\n",
      "\n",
      "a[b_indices]: \n",
      "[11 15]\n"
     ]
    }
   ],
   "source": [
    "import numpy as np\n",
    "\n",
    "a = np.random.randint(0, 20 , (2,2))\n",
    "print(f\"ndarray: \\n{a}\\n\")\n",
    "\n",
    "b_indices = np.array([[True, False],\n",
    "                     [False, True]])\n",
    "\n",
    "print(f\"b_indices : \\n{b_indices}\\n\")\n",
    "\n",
    "print(f\"a[b_indices]: \\n{a[b_indices]}\")"
   ]
  },
  {
   "cell_type": "code",
   "execution_count": 78,
   "metadata": {},
   "outputs": [
    {
     "name": "stdout",
     "output_type": "stream",
     "text": [
      "ndarray: \n",
      "[[ 3 11 15  7]\n",
      " [19  8 18 17]\n",
      " [ 0 12 11  0]]\n",
      "\n",
      "b_indices : \n",
      "[[False  True  True False]\n",
      " [ True False  True  True]\n",
      " [False  True  True False]]\n",
      "\n",
      "a[b_indices]: \n",
      "[11 15 19 18 17 12 11]\n"
     ]
    }
   ],
   "source": [
    "import numpy as np\n",
    "\n",
    "a = np.random.randint(0, 20 , (3 ,4))\n",
    "print(f\"ndarray: \\n{a}\\n\")\n",
    "\n",
    "b_indices = (a > 10)\n",
    "\n",
    "print(f\"b_indices : \\n{b_indices}\\n\")\n",
    "\n",
    "print(f\"a[b_indices]: \\n{a[b_indices]}\")"
   ]
  },
  {
   "cell_type": "markdown",
   "metadata": {},
   "source": [
    "# **Extracting Indices**"
   ]
  },
  {
   "cell_type": "code",
   "execution_count": 79,
   "metadata": {},
   "outputs": [
    {
     "name": "stdout",
     "output_type": "stream",
     "text": [
      "a: \n",
      "[ True False  True False]\n",
      "\n",
      "nonzero: \n",
      "(array([0, 2], dtype=int64),)\n",
      "where: \n",
      "(array([0, 2], dtype=int64),)\n"
     ]
    }
   ],
   "source": [
    "import numpy as np\n",
    "\n",
    "a = np.array([True, False, True, False])\n",
    "\n",
    "nonzero = np.nonzero(a)\n",
    "where = np.where(a)\n",
    "\n",
    "print(f\"a: \\n{a}\\n\")\n",
    "print(f\"nonzero: \\n{nonzero}\")\n",
    "print(f\"where: \\n{where}\")"
   ]
  },
  {
   "cell_type": "code",
   "execution_count": 80,
   "metadata": {},
   "outputs": [
    {
     "name": "stdout",
     "output_type": "stream",
     "text": [
      "a: \n",
      "[[ True False]\n",
      " [ True False]]\n",
      "\n",
      "nonzero: \n",
      "(array([0, 1], dtype=int64), array([0, 0], dtype=int64))\n",
      "where: \n",
      "(array([0, 1], dtype=int64), array([0, 0], dtype=int64))\n"
     ]
    }
   ],
   "source": [
    "import numpy as np\n",
    "\n",
    "a = np.array([[True, False], [True, False]])\n",
    "\n",
    "nonzero = np.nonzero(a)\n",
    "where = np.where(a)\n",
    "\n",
    "print(f\"a: \\n{a}\\n\")\n",
    "print(f\"nonzero: \\n{nonzero}\")\n",
    "print(f\"where: \\n{where}\")"
   ]
  },
  {
   "cell_type": "code",
   "execution_count": 82,
   "metadata": {},
   "outputs": [
    {
     "name": "stdout",
     "output_type": "stream",
     "text": [
      "a: \n",
      "[[[ True False  True]\n",
      "  [ True False False]]\n",
      "\n",
      " [[ True False  True]\n",
      "  [ True False False]]]\n",
      "\n",
      "nonzero: \n",
      "(array([0, 0, 0, 1, 1, 1], dtype=int64), array([0, 0, 1, 0, 0, 1], dtype=int64), array([0, 2, 0, 0, 2, 0], dtype=int64))\n",
      "where: \n",
      "(array([0, 0, 0, 1, 1, 1], dtype=int64), array([0, 0, 1, 0, 0, 1], dtype=int64), array([0, 2, 0, 0, 2, 0], dtype=int64))\n"
     ]
    }
   ],
   "source": [
    "import numpy as np\n",
    "\n",
    "a = np.array([[[True, False, True], \n",
    "              [True, False, False]],\n",
    "             \n",
    "             [[True, False, True], \n",
    "              [True, False, False]]])\n",
    "\n",
    "nonzero = np.nonzero(a)\n",
    "where = np.where(a)\n",
    "\n",
    "print(f\"a: \\n{a}\\n\")\n",
    "print(f\"nonzero: \\n{nonzero}\")\n",
    "print(f\"where: \\n{where}\")"
   ]
  },
  {
   "cell_type": "markdown",
   "metadata": {},
   "source": [
    "nonzero, where은 0이 아닌 값의 index만 돌려주는 것<br/>\n",
    "index가 boolean의 경우에는 true인 값 index만 돌려주는 것"
   ]
  },
  {
   "cell_type": "code",
   "execution_count": 83,
   "metadata": {},
   "outputs": [
    {
     "name": "stdout",
     "output_type": "stream",
     "text": [
      "a: \n",
      "[[-1  1  2]\n",
      " [ 0 -1  0]\n",
      " [-1  2  2]]\n",
      "\n",
      "using nonzero: \n",
      "[-1  1  2 -1 -1  2  2]\n",
      "u_where: \n",
      "[-1  1  2 -1 -1  2  2]\n",
      "u_bool: \n",
      "[-1  1  2 -1 -1  2  2]\n"
     ]
    }
   ],
   "source": [
    "import numpy as np\n",
    "\n",
    "a = np.random.randint(-2, 3, size=(3,3))\n",
    "\n",
    "u_nonzero = a[np.nonzero(a)]\n",
    "u_where = a[np.where(a)]\n",
    "u_bool = a[a != 0]\n",
    "\n",
    "print(f\"a: \\n{a}\\n\")\n",
    "print(f\"using nonzero: \\n{u_nonzero}\")\n",
    "print(f\"u_where: \\n{u_where}\")\n",
    "print(f\"u_bool: \\n{u_bool}\")"
   ]
  },
  {
   "cell_type": "code",
   "execution_count": 84,
   "metadata": {},
   "outputs": [
    {
     "name": "stdout",
     "output_type": "stream",
     "text": [
      "a: \n",
      "[[ 0 -1  0]\n",
      " [-1 -1 -1]\n",
      " [ 2 -2  0]]\n",
      "\n",
      "using nonzero: \n",
      "[2]\n",
      "u_where: \n",
      "[2]\n",
      "u_bool: \n",
      "[2]\n"
     ]
    }
   ],
   "source": [
    "import numpy as np\n",
    "\n",
    "a = np.random.randint(-2, 3, size=(3,3))\n",
    "\n",
    "u_nonzero = a[np.nonzero(a > 0)] # np.nonzero -> (3,3)\n",
    "u_where = a[np.where(a > 0)]\n",
    "u_bool = a[a > 0]\n",
    "\n",
    "print(f\"a: \\n{a}\\n\")\n",
    "print(f\"using nonzero: \\n{u_nonzero}\")\n",
    "print(f\"u_where: \\n{u_where}\")\n",
    "print(f\"u_bool: \\n{u_bool}\")"
   ]
  }
 ],
 "metadata": {
  "kernelspec": {
   "display_name": "Python 3",
   "language": "python",
   "name": "python3"
  },
  "language_info": {
   "codemirror_mode": {
    "name": "ipython",
    "version": 3
   },
   "file_extension": ".py",
   "mimetype": "text/x-python",
   "name": "python",
   "nbconvert_exporter": "python",
   "pygments_lexer": "ipython3",
   "version": "3.8.3"
  },
  "toc": {
   "base_numbering": 1,
   "nav_menu": {},
   "number_sections": true,
   "sideBar": true,
   "skip_h1_title": false,
   "title_cell": "Table of Contents",
   "title_sidebar": "Contents",
   "toc_cell": false,
   "toc_position": {
    "height": "calc(100% - 180px)",
    "left": "10px",
    "top": "150px",
    "width": "179.273px"
   },
   "toc_section_display": true,
   "toc_window_display": false
  }
 },
 "nbformat": 4,
 "nbformat_minor": 4
}
