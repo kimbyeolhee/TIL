{
 "cells": [
  {
   "cell_type": "markdown",
   "metadata": {},
   "source": [
    "# Tuple Unpacking and zip"
   ]
  },
  {
   "cell_type": "markdown",
   "metadata": {},
   "source": [
    "## Tuple"
   ]
  },
  {
   "cell_type": "markdown",
   "metadata": {},
   "source": [
    "List와 유사하지만 수정불가능한(immutable) 객체인 Tuple"
   ]
  },
  {
   "cell_type": "code",
   "execution_count": 1,
   "metadata": {},
   "outputs": [
    {
     "name": "stdout",
     "output_type": "stream",
     "text": [
      "10\n",
      "20\n"
     ]
    },
    {
     "ename": "TypeError",
     "evalue": "'tuple' object does not support item assignment",
     "output_type": "error",
     "traceback": [
      "\u001b[1;31m---------------------------------------------------------------------------\u001b[0m",
      "\u001b[1;31mTypeError\u001b[0m                                 Traceback (most recent call last)",
      "\u001b[1;32m<ipython-input-1-06df461c7a39>\u001b[0m in \u001b[0;36m<module>\u001b[1;34m\u001b[0m\n\u001b[0;32m      4\u001b[0m \u001b[0mprint\u001b[0m\u001b[1;33m(\u001b[0m\u001b[0mscores\u001b[0m\u001b[1;33m[\u001b[0m\u001b[1;36m1\u001b[0m\u001b[1;33m]\u001b[0m\u001b[1;33m)\u001b[0m\u001b[1;33m\u001b[0m\u001b[1;33m\u001b[0m\u001b[0m\n\u001b[0;32m      5\u001b[0m \u001b[1;33m\u001b[0m\u001b[0m\n\u001b[1;32m----> 6\u001b[1;33m \u001b[0mscores\u001b[0m\u001b[1;33m[\u001b[0m\u001b[1;36m2\u001b[0m\u001b[1;33m]\u001b[0m \u001b[1;33m=\u001b[0m \u001b[1;36m300\u001b[0m\u001b[1;33m\u001b[0m\u001b[1;33m\u001b[0m\u001b[0m\n\u001b[0m",
      "\u001b[1;31mTypeError\u001b[0m: 'tuple' object does not support item assignment"
     ]
    }
   ],
   "source": [
    "scores = (10, 20, 30)\n",
    "\n",
    "print(scores[0])\n",
    "print(scores[1])\n",
    "\n",
    "scores[2] = 300"
   ]
  },
  {
   "cell_type": "markdown",
   "metadata": {},
   "source": [
    "## Tuple Packing & Unpacking"
   ]
  },
  {
   "cell_type": "markdown",
   "metadata": {},
   "source": [
    "packing : 여러개의 값을 하나의 변수에 할당할 때 <BR/>\n",
    "unpacking : 하나의 tuple/list를 여러개의 변수에 할당할 때"
   ]
  },
  {
   "cell_type": "code",
   "execution_count": 5,
   "metadata": {},
   "outputs": [
    {
     "name": "stdout",
     "output_type": "stream",
     "text": [
      "(10, 20)\n",
      "10 20\n"
     ]
    }
   ],
   "source": [
    "# Tuple packing\n",
    "scores = 10, 20\n",
    "print(scores)\n",
    "\n",
    "# Tuple unpacking\n",
    "score1, score2 = (10, 20)\n",
    "print(score1, score2)"
   ]
  },
  {
   "cell_type": "markdown",
   "metadata": {},
   "source": [
    "## for + zip"
   ]
  },
  {
   "cell_type": "markdown",
   "metadata": {},
   "source": [
    "zip을 사용하면 여러개의 list에 접근할 때 indexing을 통한 접근을 대체 가능"
   ]
  },
  {
   "cell_type": "code",
   "execution_count": 9,
   "metadata": {},
   "outputs": [
    {
     "name": "stdout",
     "output_type": "stream",
     "text": [
      "10 40\n",
      "20 50\n",
      "30 60\n",
      "=====\n",
      "10 40\n",
      "20 50\n",
      "30 60\n",
      "=====\n",
      "(10, 40)\n",
      "(20, 50)\n",
      "(30, 60)\n"
     ]
    }
   ],
   "source": [
    "# for\n",
    "m_scores = [10,20,30]\n",
    "e_scores = [40,50,60]\n",
    "\n",
    "for idx in range(len(m_scores)):\n",
    "    m_score = m_scores[idx]\n",
    "    e_score = e_scores[idx]\n",
    "    print(m_score, e_score)\n",
    "    \n",
    "print(\"=====\")\n",
    "# zip 이용: unpacking\n",
    "for m_score, e_score in zip(m_scores, e_scores):\n",
    "    print(m_score, e_score)\n",
    "\n",
    "print(\"=====\")\n",
    "# zip 이용: tuple packing\n",
    "for scores in zip(m_scores, e_scores):\n",
    "    print(scores)"
   ]
  },
  {
   "cell_type": "markdown",
   "metadata": {},
   "source": [
    "## Manhatten Distance"
   ]
  },
  {
   "cell_type": "markdown",
   "metadata": {},
   "source": [
    "Manhatten Distance: 2점의 좌표를 (x1,y1), (x2,y2)로 했을 때 |x1－ x2| ＋ |y1－ y2|로 나타내어지는 거리<BR/><BR/>\n",
    "for과 zip을 이용하여 Manhatten Distance를 구하는 방법 <BR/>\n",
    "if, elif, else가 간단할 때 한 줄로 표현하는 방법"
   ]
  },
  {
   "cell_type": "code",
   "execution_count": 13,
   "metadata": {},
   "outputs": [
    {
     "name": "stdout",
     "output_type": "stream",
     "text": [
      "14\n",
      "14\n"
     ]
    }
   ],
   "source": [
    "v1 = [1,3,5,2,1,5,2]\n",
    "v2 = [2,3,1,5,2,1,3]\n",
    "\n",
    "# for만 사용\n",
    "m_distance=0\n",
    "\n",
    "for idx in range(len(v1)):\n",
    "    v1_data = v1[idx]\n",
    "    v2_data = v2[idx]\n",
    "    diff = v1_data - v2_data\n",
    "    \n",
    "    if diff < 0 : m_distance += -diff\n",
    "    else: m_distance += diff\n",
    "print(m_distance)\n",
    "    \n",
    "    \n",
    "# zip 사용\n",
    "m_distance=0\n",
    "\n",
    "for val1 , val2 in zip(v1,v2):\n",
    "    diff = val1 - val2\n",
    "    \n",
    "    if diff < 0 : m_distance += -diff\n",
    "    else: m_distance += diff\n",
    "\n",
    "print(m_distance)\n",
    "    "
   ]
  },
  {
   "cell_type": "markdown",
   "metadata": {},
   "source": [
    "## 두 과목의 평균 구하기"
   ]
  },
  {
   "cell_type": "code",
   "execution_count": 17,
   "metadata": {},
   "outputs": [
    {
     "name": "stdout",
     "output_type": "stream",
     "text": [
      "Mean of math class : 60.0\n",
      "Mean of english class : 40.0\n"
     ]
    }
   ],
   "source": [
    "m_scores = [40, 60, 80]\n",
    "e_scores = [30, 40, 50]\n",
    "class_names = ['math', 'english']\n",
    "\n",
    "n_class =2\n",
    "n_student = len(m_scores)\n",
    "\n",
    "score_sums = [0,0]\n",
    "score_means = list()\n",
    "\n",
    "for m_score, e_score in zip(m_scores, e_scores):\n",
    "    score_sums[0] += m_score\n",
    "    score_sums[1] += e_score\n",
    "\n",
    "for class_idx in range(n_class):\n",
    "    mean = score_sums[class_idx] / n_student\n",
    "    score_means.append(mean)\n",
    "    print(f\"Mean of {class_names[class_idx]} class : {mean}\")"
   ]
  },
  {
   "cell_type": "markdown",
   "metadata": {},
   "source": [
    "## Accuracy 구하기"
   ]
  },
  {
   "cell_type": "markdown",
   "metadata": {},
   "source": [
    "zip을 이용하여 2개의 vector에 대한 원소별 접근"
   ]
  },
  {
   "cell_type": "code",
   "execution_count": 19,
   "metadata": {},
   "outputs": [
    {
     "name": "stdout",
     "output_type": "stream",
     "text": [
      "accuracy : 0.5714285714285714%\n"
     ]
    }
   ],
   "source": [
    "predictions = [0, 1, 0, 2, 1, 2, 0]\n",
    "labels = [1, 1, 0, 0, 1, 2, 1]\n",
    "\n",
    "n_data = len(predictions)\n",
    "correct = 0\n",
    "\n",
    "for pred, label in zip(predictions, labels):\n",
    "    if pred == label: correct += 1\n",
    "\n",
    "accuracy = correct / n_data\n",
    "print(f\"accuracy : {accuracy}%\")"
   ]
  },
  {
   "cell_type": "markdown",
   "metadata": {},
   "source": [
    "## Accuracy 구하기 (2)"
   ]
  },
  {
   "cell_type": "markdown",
   "metadata": {},
   "source": [
    "2차원 data가 주어졌을 때 zip의 사용법<BR/>\n",
    "one-hot vector로 주어진 prediction, label에 대해 accuracy 구하는 과정"
   ]
  },
  {
   "cell_type": "code",
   "execution_count": 27,
   "metadata": {},
   "outputs": [
    {
     "name": "stdout",
     "output_type": "stream",
     "text": [
      "n_pred:6, n_class:4\n",
      "accuracy:0.6666666666666666%\n"
     ]
    }
   ],
   "source": [
    "labels = [[1, 0, 0, 0],\n",
    "          [0, 1, 0, 0],\n",
    "          [0, 0, 1, 0],\n",
    "          [0, 1, 0, 0],\n",
    "          [1, 0, 0, 0],\n",
    "          [0, 0, 0, 1]]\n",
    "predictions = [[1, 0, 0, 0],\n",
    "               [0, 0, 1, 0],\n",
    "               [0, 0, 1, 0], \n",
    "               [1, 0, 0, 0],\n",
    "               [1, 0, 0, 0],\n",
    "               [0, 0, 0, 1]]\n",
    "              \n",
    "n_pred = len(labels)\n",
    "n_class = len(labels[0])\n",
    "print(f\"n_pred:{n_pred}, n_class:{n_class}\")\n",
    "\n",
    "accuracy = 0\n",
    "for label, pred in zip(labels, predictions):\n",
    "    correct_cnt = 0\n",
    "    \n",
    "    for l,p in zip(label, pred):\n",
    "        if l == p : correct_cnt +=1\n",
    "        \n",
    "        if correct_cnt == n_class:\n",
    "            accuracy +=1\n",
    "accuracy /= n_pred\n",
    "\n",
    "print(f\"accuracy:{accuracy}%\")"
   ]
  },
  {
   "cell_type": "markdown",
   "metadata": {},
   "source": [
    "## Euclidean Distance"
   ]
  },
  {
   "cell_type": "markdown",
   "metadata": {},
   "source": [
    "zip을 이용해 matrix로 주어진 data에 대해 Euclidean distance 구하기"
   ]
  },
  {
   "cell_type": "code",
   "execution_count": 33,
   "metadata": {},
   "outputs": [
    {
     "name": "stdout",
     "output_type": "stream",
     "text": [
      "Euclidean Distance: 20.0\n"
     ]
    }
   ],
   "source": [
    "vectors = [[1, 11],\n",
    "           [2, 12],\n",
    "           [3, 13],\n",
    "           [4, 14]]\n",
    "\n",
    "e_distance = 0\n",
    "\n",
    "for v1, v2 in vectors:\n",
    "    e_distance += (v1-v2)**2\n",
    "e_distance = e_distance ** 0.5\n",
    "\n",
    "print(f\"Euclidean Distance: {e_distance}\")"
   ]
  },
  {
   "cell_type": "markdown",
   "metadata": {},
   "source": [
    "## 과목 별 평균 구하기"
   ]
  },
  {
   "cell_type": "markdown",
   "metadata": {},
   "source": [
    "Matrix로 주어진 2차원 점수 data에 대한 과목별 평균을 구한다.<BR/>\n",
    "- 각 과목별로 다른 연산을 해야하는 상황에서 zip을 사용하는 장점 파악 <BR/>\n",
    "- list에 integer을 곱하는 연산 학습"
   ]
  },
  {
   "cell_type": "code",
   "execution_count": 39,
   "metadata": {},
   "outputs": [
    {
     "name": "stdout",
     "output_type": "stream",
     "text": [
      "Mean of the class: [25.0, 30.0, 35.0]\n"
     ]
    }
   ],
   "source": [
    "# 개별 학생들의 여러 과목 점수들 데이터이므로 unpacking 방식으로 접근\n",
    "\n",
    "scores = [[10, 15, 20],\n",
    "          [20, 25, 30],\n",
    "          [30, 35, 40],\n",
    "          [40, 45, 50]]\n",
    "\n",
    "n_student = len(scores)\n",
    "n_class = len(scores[0])\n",
    "\n",
    "score_means = [0]*n_class\n",
    "\n",
    "for k_score, m_score, e_score in scores:\n",
    "    score_means[0] += k_score\n",
    "    score_means[1] += m_score\n",
    "    score_means[2] += e_score\n",
    "\n",
    "for class_idx in range(n_class):\n",
    "    score_means[class_idx] /= n_student\n",
    "\n",
    "print(\"Mean of the class:\",score_means)"
   ]
  }
 ],
 "metadata": {
  "kernelspec": {
   "display_name": "Python 3",
   "language": "python",
   "name": "python3"
  },
  "language_info": {
   "codemirror_mode": {
    "name": "ipython",
    "version": 3
   },
   "file_extension": ".py",
   "mimetype": "text/x-python",
   "name": "python",
   "nbconvert_exporter": "python",
   "pygments_lexer": "ipython3",
   "version": "3.8.3"
  },
  "toc": {
   "base_numbering": 1,
   "nav_menu": {},
   "number_sections": true,
   "sideBar": true,
   "skip_h1_title": false,
   "title_cell": "Table of Contents",
   "title_sidebar": "Contents",
   "toc_cell": false,
   "toc_position": {},
   "toc_section_display": true,
   "toc_window_display": true
  }
 },
 "nbformat": 4,
 "nbformat_minor": 4
}
