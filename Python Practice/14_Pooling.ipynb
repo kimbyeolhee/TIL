{
 "cells": [
  {
   "cell_type": "markdown",
   "metadata": {},
   "source": [
    "<br>\n",
    "<font color='darkred', size=\"6\">\n",
    "    <center>\n",
    "        <b> Pooling </b>\n",
    "    </center>\n",
    "</font>\n",
    "<br/>"
   ]
  },
  {
   "cell_type": "markdown",
   "metadata": {},
   "source": [
    "# Average Pooling with Indexing\n",
    "<br>\n",
    "<font size=\"5\">\n",
    "    $$ p[i] = \\frac{1}{2s+1}\\sum_{\\alpha=i-s}^{i+s} w_{i}[\\alpha] $$\n",
    "</font>\n",
    "\n",
    "\n",
    "<br>\n",
    "<font size=\"5\">\n",
    "    $$ L_{o} = L_{i} - L_{p} + 1 $$\n",
    "</font>\n",
    "\n",
    "<br>\n",
    "s는 양 옆으로 연산가능한 개수 <br/>\n",
    "if w=3 => s=1 <br/>\n",
    "if w=5 => s=2"
   ]
  },
  {
   "cell_type": "markdown",
   "metadata": {},
   "source": [
    "Pooling : 여러 개의 값을 하나로 바꾸는 것 <br/>\n",
    "1, 2, 3, 4, 5, 6, 7, 8, 9 <br/>\n",
    "window size = 3 <br/>\n",
    "[1,2,3] -> (1+2+3)/3 <br/>\n",
    "[2,3,4] -> (2+3+4)/3 <br/>\n",
    "...<br/>\n",
    "[7+8+9] -> (7+8+9)/3 <br/>\n",
    "\n",
    "<font size=\"3\">\n",
    "    $$ L_{o} = L_{i} - L_{p} + 1 $$ \n",
    "</font>\n",
    "공식에 따르면 9 - 3 + 1 = 7개가 만들어진다! <br/>\n",
    "<br/>\n",
    "pooling을 하면 데이터의 사이즈가 줄어드는 특징"
   ]
  },
  {
   "cell_type": "markdown",
   "metadata": {},
   "source": [
    "<font color=\"darkblue\">\n",
    "i번째에 pooling 된 값을 구하기 위해선 i번째 윈도우에 잇는 것을 봐야 함 <br/>\n",
    "alpha가 돌기 시작하는데 i를 기준으로 왼쪽으로 s개, 오른쪽으로 s개 만큼 돌아가지고 평균을 내주는 것이 average pooling이다.\n",
    "<font/>"
   ]
  },
  {
   "cell_type": "markdown",
   "metadata": {},
   "source": [
    "## 미리 구현"
   ]
  },
  {
   "cell_type": "code",
   "execution_count": 13,
   "metadata": {},
   "outputs": [
    {
     "name": "stdout",
     "output_type": "stream",
     "text": [
      "input data : [4, 6, 7, 2, 3, 2, 4, 0, 10, 7]\n",
      "length of input data:  10\n",
      "pooled data:  [5.666666666666667, 5.0, 4.0, 2.3333333333333335, 3.0, 2.0, 4.666666666666667, 5.666666666666667]\n",
      "length of pooled data:  8\n"
     ]
    }
   ],
   "source": [
    "import random\n",
    "\n",
    "pool_size = 3\n",
    "data = [random.randint(0,10) for _ in range(10)]\n",
    "\n",
    "pooled = list()\n",
    "n_data = len(data)\n",
    "n_window = n_data - pool_size + 1\n",
    "\n",
    "\n",
    "for idx in range(n_window):\n",
    "    sum = data[idx] + data[idx+1] + data[idx+2]\n",
    "    window = (sum) / pool_size\n",
    "    pooled.append(window)\n",
    "\n",
    "print(\"input data :\" ,data)\n",
    "print(\"length of input data: \" ,len(data))\n",
    "print(\"pooled data: \",pooled)\n",
    "print(\"length of pooled data: \",len(pooled))"
   ]
  },
  {
   "cell_type": "markdown",
   "metadata": {},
   "source": [
    "## 복습 구현"
   ]
  },
  {
   "cell_type": "code",
   "execution_count": 36,
   "metadata": {},
   "outputs": [
    {
     "name": "stdout",
     "output_type": "stream",
     "text": [
      "Input data :[9, 10, 5, 1, 9, 8, 9, 2, 9, 2]\n",
      "Length of Input data :10\n",
      "\n",
      "Pooled data :[8.0, 5.333333333333333, 5.0, 6.0, 8.666666666666666, 6.333333333333333, 6.666666666666667, 4.333333333333333]\n",
      "Length of Pooled data :8\n"
     ]
    }
   ],
   "source": [
    "import random\n",
    "\n",
    "# set the pool size\n",
    "pool_size = 3\n",
    "\n",
    "# generate random data\n",
    "data = [random.randint(0,10) for _ in range(10)]\n",
    "print(f\"Input data :{data}\")\n",
    "print(f\"Length of Input data :{len(data)}\\n\")\n",
    "\n",
    "# calculate the valid length\n",
    "valid_len = len(data) - (pool_size - 1)\n",
    "\n",
    "# average pooling\n",
    "pooled = list()\n",
    "for pool_loc in range(valid_len):\n",
    "    window = list()\n",
    "    for window_val_idx in range(pool_size):\n",
    "        window.append(data[pool_loc + window_val_idx])\n",
    "        \n",
    "        window_sum = 0\n",
    "        for val in window:\n",
    "            window_sum += val\n",
    "            \n",
    "    pooled.append(window_sum / pool_size)   \n",
    "\n",
    "print(f\"Pooled data :{pooled}\")\n",
    "print(f\"Length of Pooled data :{len(pooled)}\")"
   ]
  },
  {
   "cell_type": "markdown",
   "metadata": {},
   "source": [
    "# List Slicing"
   ]
  },
  {
   "cell_type": "code",
   "execution_count": 45,
   "metadata": {},
   "outputs": [
    {
     "name": "stdout",
     "output_type": "stream",
     "text": [
      "[20, 30, 40]\n",
      "[30, 40, 50] \n",
      "\n",
      "[10, 20, 30, 40, 50, 60]\n",
      "[30, 40, 50, 60] \n",
      "\n",
      "[10, 30, 50]\n",
      "[10, 40] \n",
      "\n",
      "[10, 20, 30, 40, 50]\n",
      "[10, 20, 30, 40] \n",
      "\n",
      "[60, 50, 40, 30, 20, 10]\n"
     ]
    }
   ],
   "source": [
    "numbers = [10, 20, 30, 40, 50, 60]\n",
    "\n",
    "print(numbers[1:4])\n",
    "print(numbers[2:5], '\\n')\n",
    "\n",
    "print(numbers[:6])\n",
    "print(numbers[2:],'\\n')\n",
    "\n",
    "print(numbers[0:6:2])\n",
    "print(numbers[0:6:3], '\\n')\n",
    "\n",
    "print(numbers[:-1])\n",
    "print(numbers[:-2],'\\n')\n",
    "\n",
    "print(numbers[::-1])"
   ]
  },
  {
   "cell_type": "markdown",
   "metadata": {},
   "source": [
    "# Average Pooling with Slicing\n",
    "List slicing을 이용하여 average pooling을 다시 구현"
   ]
  },
  {
   "cell_type": "code",
   "execution_count": 62,
   "metadata": {},
   "outputs": [
    {
     "name": "stdout",
     "output_type": "stream",
     "text": [
      "Input data: [2, 3, 5, 1, 4, 9, 7, 2, 2, 0]\n",
      "Length of Input data: 10\n",
      "Pooled data :[3.3333333333333335, 3.0, 3.3333333333333335, 4.666666666666667, 6.666666666666667, 6.0, 3.6666666666666665, 1.3333333333333333]\n",
      "Length of Pooled data :8\n"
     ]
    }
   ],
   "source": [
    "import random\n",
    "\n",
    "# set the pool size\n",
    "pool_size = 3\n",
    "\n",
    "# generate random data\n",
    "data = [random.randint(0,10) for _ in range(10)]\n",
    "print(f\"Input data: {data}\")\n",
    "print(f\"Length of Input data: {len(data)}\")\n",
    "\n",
    "# calculate the valid length\n",
    "valid_len = len(data) - (pool_size - 1)\n",
    "\n",
    "# average pooling\n",
    "pooled = list()\n",
    "\n",
    "for pool_loc in range(valid_len):\n",
    "    window = data[pool_loc : pool_loc + pool_size ]\n",
    "    \n",
    "    window_sum = 0\n",
    "    for val in window:\n",
    "        window_sum += val\n",
    "    pooled.append(window_sum / pool_size)\n",
    "\n",
    "print(f\"Pooled data :{pooled}\")\n",
    "print(f\"Length of Pooled data :{len(pooled)}\")"
   ]
  },
  {
   "cell_type": "markdown",
   "metadata": {},
   "source": [
    "# Max Pooling with Slicing\n",
    "<br>\n",
    "<font size=\"5\">\n",
    "    $$ p[i] = max(W_{i}) $$\n",
    "</font>\n",
    "\n",
    "\n",
    "<br>\n",
    "<font size=\"5\">\n",
    "    $$ L_{o} = L_{i} - L_{p} + 1 $$\n",
    "</font>"
   ]
  },
  {
   "cell_type": "code",
   "execution_count": 72,
   "metadata": {},
   "outputs": [
    {
     "name": "stdout",
     "output_type": "stream",
     "text": [
      "Input data: [0, 10, 7, 10, 2, 6, 4, 2, 10, 5]\n",
      "Length of Input data: 10\n",
      "Pooled data :[10, 10, 10, 10, 6, 6, 10, 10]\n",
      "Length of Pooled data :8\n"
     ]
    }
   ],
   "source": [
    "import random\n",
    "\n",
    "# pool_size\n",
    "pool_size = 3\n",
    "\n",
    "# generate random data\n",
    "data = [random.randint(0,10) for _ in range(10)]\n",
    "print(f\"Input data: {data}\")\n",
    "print(f\"Length of Input data: {len(data)}\")\n",
    "\n",
    "# calculate the valid length\n",
    "valid_len = len(data) - (pool_size - 1)\n",
    "\n",
    "# max pooling\n",
    "pooled = list()\n",
    "\n",
    "for pool_loc in range(valid_len):\n",
    "    window = data[pool_loc : pool_loc + pool_size]\n",
    "\n",
    "    Max = window[0]\n",
    "    for window_val in window:\n",
    "        if window_val > Max:\n",
    "            Max = window_val\n",
    "    pooled.append(Max)\n",
    "\n",
    "print(f\"Pooled data :{pooled}\")\n",
    "print(f\"Length of Pooled data :{len(pooled)}\")"
   ]
  }
 ],
 "metadata": {
  "kernelspec": {
   "display_name": "Python 3",
   "language": "python",
   "name": "python3"
  },
  "language_info": {
   "codemirror_mode": {
    "name": "ipython",
    "version": 3
   },
   "file_extension": ".py",
   "mimetype": "text/x-python",
   "name": "python",
   "nbconvert_exporter": "python",
   "pygments_lexer": "ipython3",
   "version": "3.8.3"
  },
  "toc": {
   "base_numbering": 1,
   "nav_menu": {},
   "number_sections": true,
   "sideBar": true,
   "skip_h1_title": false,
   "title_cell": "Table of Contents",
   "title_sidebar": "Contents",
   "toc_cell": false,
   "toc_position": {},
   "toc_section_display": true,
   "toc_window_display": false
  }
 },
 "nbformat": 4,
 "nbformat_minor": 4
}
