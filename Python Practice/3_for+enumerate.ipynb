{
 "cells": [
  {
   "cell_type": "markdown",
   "metadata": {},
   "source": [
    "# for + enumerate"
   ]
  },
  {
   "cell_type": "markdown",
   "metadata": {},
   "source": [
    "## for + enumerate\n",
    "enumerate의 기본적인 사용법과 장점"
   ]
  },
  {
   "cell_type": "code",
   "execution_count": 5,
   "metadata": {},
   "outputs": [
    {
     "name": "stdout",
     "output_type": "stream",
     "text": [
      "method1\n",
      "30 0\n",
      "50 1\n",
      "90 2\n",
      "70 3\n",
      "30 4\n",
      "95 5\n",
      "40 6\n",
      "method2\n",
      "30 0\n",
      "50 1\n",
      "90 2\n",
      "70 3\n",
      "30 4\n",
      "95 5\n",
      "40 6\n",
      "method3\n",
      "0 30\n",
      "1 50\n",
      "2 90\n",
      "3 70\n",
      "4 30\n",
      "5 95\n",
      "6 40\n"
     ]
    }
   ],
   "source": [
    "scores = [30, 50, 90, 70, 30, 95, 40]\n",
    "\n",
    "print(\"method1\")\n",
    "score_idx=0\n",
    "for score in scores:\n",
    "    print(score, score_idx)\n",
    "    score_idx +=1\n",
    "\n",
    "    \n",
    "print(\"method2\")\n",
    "for score_idx in range(len(scores)):\n",
    "    score = scores[score_idx]\n",
    "    print(score, score_idx)\n",
    "    \n",
    "    \n",
    "# enumerate 사용\n",
    "print(\"method3\")\n",
    "for score, score_idx in enumerate(scores):\n",
    "    print(score, score_idx)"
   ]
  },
  {
   "cell_type": "markdown",
   "metadata": {},
   "source": [
    "## 원하는 수만큼 for loop 돌리기\n",
    "프로그램 개발단계와 debugging 단계에서 적극적으로 사용할 수 있는 enumerate<br>"
   ]
  },
  {
   "cell_type": "code",
   "execution_count": 8,
   "metadata": {},
   "outputs": [
    {
     "name": "stdout",
     "output_type": "stream",
     "text": [
      "method1\n",
      "0 30\n",
      "1 50\n",
      "2 90\n",
      "3 70\n",
      "4 30\n",
      "method2\n",
      "0 30\n",
      "1 50\n",
      "2 90\n",
      "3 70\n",
      "4 30\n"
     ]
    }
   ],
   "source": [
    "scores = [30, 50, 90, 70, 30, 95, 40]\n",
    "\n",
    "print(\"method1\")\n",
    "for score_idx in range(len(scores)):\n",
    "    score = scores[score_idx]\n",
    "    if score_idx < 5:\n",
    "        print(score_idx, score)\n",
    "\n",
    "print(\"method2\")\n",
    "for score_idx, score in enumerate(scores):\n",
    "    if score_idx < 5:\n",
    "        print(score_idx, score)"
   ]
  },
  {
   "cell_type": "markdown",
   "metadata": {},
   "source": [
    "## 수학 장학생 선정하기\n",
    "data의 index와 data가 함께 사용될 때 enumerate을 적용하는 방법"
   ]
  },
  {
   "cell_type": "code",
   "execution_count": 13,
   "metadata": {},
   "outputs": [
    {
     "name": "stdout",
     "output_type": "stream",
     "text": [
      "Scholarship Candidate: 0\n",
      "try again\n",
      "Scholarship Candidate: 3\n",
      "pass\n",
      "Scholarship Candidate: 6\n",
      "try again\n"
     ]
    }
   ],
   "source": [
    "# 수학 90점 이상이면 후보, 장학생이 되려면 추가적으로 영어와 국어가 70점 이상이여야 함\n",
    "m_scores = [92, 60, 80, 94, 50, 60, 95]\n",
    "e_scores = [70, 40, 50, 80, 70, 40, 80]\n",
    "k_scores = [30, 20, 60, 80, 30, 60, 65]\n",
    "\n",
    "for student_idx, m_score in enumerate(m_scores):\n",
    "    if m_score >= 90:\n",
    "        print(f\"Scholarship Candidate: {student_idx}\")\n",
    "        \n",
    "        e_score = e_scores[student_idx]\n",
    "        k_score = k_scores[student_idx]\n",
    "        \n",
    "        if e_score >= 70 and k_score >=70:\n",
    "            print(\"pass\")\n",
    "        else:\n",
    "            print(\"try again\")"
   ]
  },
  {
   "cell_type": "markdown",
   "metadata": {},
   "source": [
    "## 최댓값, 최솟값, 그리고 그 위치\n",
    "index를 사용하는 대표적인 예제였던 M, M_idx, m, m_idx를 <br>\n",
    "enumerate을 이용하여 구하는 방법."
   ]
  },
  {
   "cell_type": "code",
   "execution_count": 27,
   "metadata": {},
   "outputs": [
    {
     "name": "stdout",
     "output_type": "stream",
     "text": [
      "최댓값: 95, index: 5, 최솟값:30, index: 1\n"
     ]
    }
   ],
   "source": [
    "scores = [50, 30, 90, 70, 30, 95, 40]\n",
    "\n",
    "M , m = scores[0], scores[0]\n",
    "M_idx, m_idx = 0 , 0\n",
    "\n",
    "for score_idx, score in enumerate(scores):\n",
    "    if M < score:\n",
    "        M = score\n",
    "        M_idx = score_idx\n",
    "        \n",
    "    if m > score:\n",
    "        m = score\n",
    "        m_idx = score_idx\n",
    "        \n",
    "print(f\"최댓값: {M}, index: {M_idx}, 최솟값:{m}, index: {m_idx}\")"
   ]
  }
 ],
 "metadata": {
  "kernelspec": {
   "display_name": "Python 3",
   "language": "python",
   "name": "python3"
  },
  "language_info": {
   "codemirror_mode": {
    "name": "ipython",
    "version": 3
   },
   "file_extension": ".py",
   "mimetype": "text/x-python",
   "name": "python",
   "nbconvert_exporter": "python",
   "pygments_lexer": "ipython3",
   "version": "3.8.3"
  },
  "toc": {
   "base_numbering": 1,
   "nav_menu": {},
   "number_sections": true,
   "sideBar": true,
   "skip_h1_title": false,
   "title_cell": "Table of Contents",
   "title_sidebar": "Contents",
   "toc_cell": false,
   "toc_position": {},
   "toc_section_display": true,
   "toc_window_display": false
  }
 },
 "nbformat": 4,
 "nbformat_minor": 4
}
