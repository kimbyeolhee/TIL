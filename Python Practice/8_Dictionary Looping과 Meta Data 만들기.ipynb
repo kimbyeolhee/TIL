{
 "cells": [
  {
   "cell_type": "markdown",
   "metadata": {},
   "source": [
    "<br>\n",
    "<font color='darkred', size=\"6\">\n",
    "    <center>\n",
    "        <b> Dictionary Looping과 Meta Data 만들기 </b>\n",
    "    </center>\n",
    "</font>\n",
    "<br/>"
   ]
  },
  {
   "cell_type": "markdown",
   "metadata": {},
   "source": [
    "# Dictionary Looping\n",
    "dict는 key를 기준으로 looping"
   ]
  },
  {
   "cell_type": "code",
   "execution_count": 2,
   "metadata": {},
   "outputs": [
    {
     "name": "stdout",
     "output_type": "stream",
     "text": [
      "a 3\n",
      "b 4\n",
      "c 2\n",
      "d 1\n"
     ]
    }
   ],
   "source": [
    "cnt_dict = {'a': 3, 'b': 4, 'c': 2, 'd': 1}\n",
    "\n",
    "for key in cnt_dict:\n",
    "    print(key, cnt_dict[key])"
   ]
  },
  {
   "cell_type": "markdown",
   "metadata": {},
   "source": [
    "# dict.keys, dict.values, dict.items"
   ]
  },
  {
   "cell_type": "code",
   "execution_count": 7,
   "metadata": {},
   "outputs": [
    {
     "name": "stdout",
     "output_type": "stream",
     "text": [
      "a\n",
      "b\n",
      "c\n",
      "d\n",
      "========\n",
      "3\n",
      "4\n",
      "2\n",
      "1\n",
      "========\n",
      "a 3\n",
      "b 4\n",
      "c 2\n",
      "d 1\n"
     ]
    }
   ],
   "source": [
    "cnt_dict = {'a': 3, 'b': 4, 'c': 2, 'd': 1}\n",
    "\n",
    "for key in cnt_dict.keys():\n",
    "    print(key)\n",
    "    \n",
    "print(\"========\")\n",
    "    \n",
    "for v in cnt_dict.values():\n",
    "    print(v)\n",
    "\n",
    "print(\"========\")\n",
    "\n",
    "for key, v in cnt_dict.items():\n",
    "    print(key, v)"
   ]
  },
  {
   "cell_type": "markdown",
   "metadata": {},
   "source": [
    "# 가장 많이 등장한 글자 찾기"
   ]
  },
  {
   "cell_type": "code",
   "execution_count": 14,
   "metadata": {},
   "outputs": [
    {
     "name": "stdout",
     "output_type": "stream",
     "text": [
      "e 90\n"
     ]
    }
   ],
   "source": [
    "zen_of_python = \\\n",
    "'''\n",
    "The Zen of Python, by Tim Peters\n",
    "\n",
    "Beautiful is better than ugly.\n",
    "Explicit is better than implicit.\n",
    "Simple is better than complex.\n",
    "Complex is better than complicated.\n",
    "Flat is better than nested.\n",
    "Sparse is better than dense.\n",
    "Readability counts.\n",
    "Special cases aren't special enough to break the rules.\n",
    "Although practicality beats purity.\n",
    "Errors should never pass silently.\n",
    "Unless explicitly silenced.\n",
    "In the face of ambiguity, refuse the temptation to guess.\n",
    "There should be one-- and preferably only one --obvious way to do it.\n",
    "Although that way may not be obvious at first unless you're Dutch.\n",
    "Now is better than never.\n",
    "Although never is often better than *right* now.\n",
    "If the implementation is hard to explain, it's a bad idea.\n",
    "If the implementation is easy to explain, it may be a good idea.\n",
    "Namespaces are one honking great idea -- let's do more of those!\n",
    "'''\n",
    "cnt_char = dict()\n",
    "\n",
    "# 글자 카운트 딕셔너리\n",
    "for char in zen_of_python:\n",
    "    cnt_char[char] = cnt_char.get(char,0) + 1\n",
    "\n",
    "# 가장 많이 등장한 글자\n",
    "M_char , M_freq = None, 0\n",
    "\n",
    "for char, freq in cnt_char.items():\n",
    "    if M_freq < freq and char != ' ':\n",
    "        M_char = char\n",
    "        M_freq = freq\n",
    "print(M_char, M_freq)"
   ]
  },
  {
   "cell_type": "markdown",
   "metadata": {},
   "source": [
    "# Score Meta Data Dictionary\n",
    "dict가 가장 많이 사용되는 경우 중 하나는 meta data를 만들 때 <br/>\n",
    "수학 점수들에 대해 **평균, 분산, 표준편차**를 가지고 있는 meta data를 dict로 생성"
   ]
  },
  {
   "cell_type": "code",
   "execution_count": 17,
   "metadata": {},
   "outputs": [
    {
     "name": "stdout",
     "output_type": "stream",
     "text": [
      "Mean of scores: 57.86\n",
      "Variance of scores: 641.84\n",
      "Standard deviation of scores: 25.33\n"
     ]
    }
   ],
   "source": [
    "scores = [50, 30, 90, 70, 30, 95, 40]\n",
    "\n",
    "n_student = len(scores)\n",
    "\n",
    "math_meta_data = dict()\n",
    "\n",
    "# 평균\n",
    "score_sum , score_square = 0, 0\n",
    "for score in scores:\n",
    "    score_sum += score\n",
    "    score_square += score**2\n",
    "    \n",
    "math_meta_data['mean'] = score_sum / n_student\n",
    "\n",
    "# 분산, 표준편차\n",
    "som = math_meta_data['mean']**2\n",
    "mos = score_square / n_student\n",
    "\n",
    "math_meta_data['variance'] = mos - som\n",
    "math_meta_data['std'] = math_meta_data['variance']**0.5\n",
    "\n",
    "template = 'Mean of scores: {:.2f}\\n' + \\\n",
    "    'Variance of scores: {:.2f}\\n' + \\\n",
    "    'Standard deviation of scores: {:.2f}'\n",
    "print(template.format(math_meta_data['mean'],\n",
    "                      math_meta_data['variance'],\n",
    "                      math_meta_data['std']))"
   ]
  },
  {
   "cell_type": "markdown",
   "metadata": {},
   "source": [
    "# Score Meta Data Dictionary(2)\n",
    "여러 과목이 있을 때, 각 과목들은 합, 평균, 최고점, 최고점의 idx를 가질 수 있다. <br/>\n",
    "**각 과목**이 key, value는 dict로 이루어진 meta data로 이루어진 dict를 생성"
   ]
  },
  {
   "cell_type": "code",
   "execution_count": 47,
   "metadata": {},
   "outputs": [
    {
     "name": "stdout",
     "output_type": "stream",
     "text": [
      "Subject: Korean =>  {'sum': 100, 'mean': 25.0, 'M': 40, 'M_idx': 3}\n",
      "Subject: English =>  {'sum': 125, 'mean': 31.25, 'M': 45, 'M_idx': 1}\n",
      "Subject: Math =>  {'sum': 140, 'mean': 35.0, 'M': 50, 'M_idx': 3}\n"
     ]
    }
   ],
   "source": [
    "scores = [[10, 15, 30],\n",
    "          [20, 45, 20],\n",
    "          [30, 35, 40],\n",
    "          [40, 30, 50]]\n",
    "\n",
    "class_names = ['Korean', 'English', 'Math']\n",
    "interested_data = ['sum', 'mean', 'M', 'M_idx']\n",
    "\n",
    "# setting\n",
    "n_student = len(scores)\n",
    "n_class = len(scores[0])\n",
    "\n",
    "# make meta_data dict form\n",
    "meta_data = dict()\n",
    "\n",
    "for class_name in class_names:\n",
    "    meta_data[class_name] = dict()\n",
    "    for i_data in interested_data:\n",
    "        meta_data[class_name][i_data] = 0\n",
    "\n",
    "# calculate\n",
    "for s_idx, s_scores in enumerate(scores):\n",
    "    for c_idx, c_score in enumerate(s_scores):\n",
    "        meta = meta_data[class_names[c_idx]]  # class_names[0] = Korean\n",
    "        meta['sum'] += c_score \n",
    "        \n",
    "        if c_score > meta['M']:\n",
    "            meta['M'] = c_score\n",
    "            meta['M_idx'] = s_idx\n",
    "\n",
    "# calculate mean\n",
    "for class_idx in range(n_class):\n",
    "    meta = meta_data[class_names[class_idx]]\n",
    "    meta['mean'] = meta['sum'] / n_student\n",
    "\n",
    "for k, v in meta_data.items():\n",
    "    print('Subject: {} => '.format(k), v)"
   ]
  }
 ],
 "metadata": {
  "kernelspec": {
   "display_name": "Python 3",
   "language": "python",
   "name": "python3"
  },
  "language_info": {
   "codemirror_mode": {
    "name": "ipython",
    "version": 3
   },
   "file_extension": ".py",
   "mimetype": "text/x-python",
   "name": "python",
   "nbconvert_exporter": "python",
   "pygments_lexer": "ipython3",
   "version": "3.8.3"
  },
  "toc": {
   "base_numbering": 1,
   "nav_menu": {},
   "number_sections": true,
   "sideBar": true,
   "skip_h1_title": false,
   "title_cell": "Table of Contents",
   "title_sidebar": "Contents",
   "toc_cell": false,
   "toc_position": {},
   "toc_section_display": true,
   "toc_window_display": false
  }
 },
 "nbformat": 4,
 "nbformat_minor": 4
}
