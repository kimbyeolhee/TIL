{
 "cells": [
  {
   "cell_type": "markdown",
   "metadata": {},
   "source": [
    "<br>\n",
    "<font color='darkred', size=\"6\">\n",
    "    <center>\n",
    "        <b>String Formatting </b>\n",
    "    </center>\n",
    "</font>\n",
    "<br/>"
   ]
  },
  {
   "cell_type": "markdown",
   "metadata": {},
   "source": [
    "# string.format의 기본적인 사용법\n",
    "String formatting은 log를 남길 때 많이 사용"
   ]
  },
  {
   "cell_type": "code",
   "execution_count": 4,
   "metadata": {},
   "outputs": [
    {
     "name": "stdout",
     "output_type": "stream",
     "text": [
      "Score1 :20, Score2 :30\n",
      "----------\n",
      "Score1 :20, Score2 :30\n"
     ]
    }
   ],
   "source": [
    "score1, score2 = 20, 30\n",
    "\n",
    "string_template = 'Score1 :{}, Score2 :{}'\n",
    "print(string_template.format(score1,score2))\n",
    "\n",
    "print(\"----------\")\n",
    "string_template = 'Score1 :{}, Score2 :{}'.format(score1, score2)\n",
    "print(string_template)"
   ]
  },
  {
   "cell_type": "markdown",
   "metadata": {},
   "source": [
    "# formatting location"
   ]
  },
  {
   "cell_type": "code",
   "execution_count": 8,
   "metadata": {},
   "outputs": [
    {
     "name": "stdout",
     "output_type": "stream",
     "text": [
      "score1:10, score2:20, score3:30\n",
      "score1:30, score2:20, score3:10\n"
     ]
    }
   ],
   "source": [
    "score1, score2, score3 = 10, 20, 30\n",
    "\n",
    "template = 'score1:{0}, score2:{1}, score3:{2}'\n",
    "print(template.format(score1, score2, score3))\n",
    "\n",
    "template = 'score1:{2}, score2:{1}, score3:{0}'\n",
    "print(template.format(score1, score2, score3))"
   ]
  },
  {
   "cell_type": "markdown",
   "metadata": {},
   "source": [
    "# 출력되는 소숫점 개수 정하기\n",
    "String formatting을 사용하는 이유중 하나인, 출력되는 소숫점 개수를 설정"
   ]
  },
  {
   "cell_type": "code",
   "execution_count": 13,
   "metadata": {},
   "outputs": [
    {
     "name": "stdout",
     "output_type": "stream",
     "text": [
      "mean1:42.350, mean2: 48.24\n",
      "======\n",
      "mean1: 42.350 \n",
      "mean2: 48.24\n",
      "======\n",
      "mean1: 48.240 \n",
      "mean2: 42.35\n"
     ]
    }
   ],
   "source": [
    "mean1, mean2 = 42.34952421, 48.23950123\n",
    "\n",
    "template = \"mean1:{:.3f}, mean2: {:.2f}\"\n",
    "print(template.format(mean1,mean2))\n",
    "\n",
    "print(\"======\")\n",
    "template = \"mean1: {0:.3f} \\nmean2: {1:.2f}\"\n",
    "print(template.format(mean1,mean2))\n",
    "\n",
    "print(\"======\")\n",
    "template = \"mean1: {1:.3f} \\nmean2: {0:.2f}\"\n",
    "print(template.format(mean1,mean2))"
   ]
  },
  {
   "cell_type": "markdown",
   "metadata": {},
   "source": [
    "# String Concatenation\n",
    "String의 덧셈 연산에서 고려해야될 점: srt + srt(int)"
   ]
  },
  {
   "cell_type": "code",
   "execution_count": 17,
   "metadata": {},
   "outputs": [
    {
     "name": "stdout",
     "output_type": "stream",
     "text": [
      "Hello Faker!\n",
      "\n",
      "He has won 9times in LCK\n"
     ]
    }
   ],
   "source": [
    "test_string = \"Hello \" + \"Faker!\\n\"\n",
    "print(test_string)\n",
    "\n",
    "test_string = \"He has won \" + str(9) + \"times in LCK\"\n",
    "print(test_string)"
   ]
  },
  {
   "cell_type": "markdown",
   "metadata": {},
   "source": [
    "# 여러 줄에 걸친 string template\n",
    "String concatenation을 이용하여 print template을 만드는 방법"
   ]
  },
  {
   "cell_type": "code",
   "execution_count": 18,
   "metadata": {},
   "outputs": [
    {
     "name": "stdout",
     "output_type": "stream",
     "text": [
      "mean1:23.431\n",
      "mean2:20.556\n",
      "mean3:60.236\n"
     ]
    }
   ],
   "source": [
    "mean1 = 23.4305123\n",
    "mean2 = 20.5555555\n",
    "mean3 = 60.2356123\n",
    "\n",
    "template = \"mean1:{:.3f}\\n\" + \\\n",
    "            \"mean2:{:.3f}\\n\" + \\\n",
    "            \"mean3:{:.3f}\"\n",
    "\n",
    "print(template.format(mean1, mean2, mean3))"
   ]
  },
  {
   "cell_type": "markdown",
   "metadata": {},
   "source": [
    "#  F String"
   ]
  },
  {
   "cell_type": "code",
   "execution_count": 21,
   "metadata": {},
   "outputs": [
    {
     "name": "stdout",
     "output_type": "stream",
     "text": [
      "score1 :10, score2 :20\n",
      "========\n",
      "mean1 :11.111 \n",
      "mean2 :12.222\n"
     ]
    }
   ],
   "source": [
    "score1, score2 = 10, 20\n",
    "template = f\"score1 :{score1}, score2 :{score2}\"\n",
    "print(template)\n",
    "\n",
    "print(\"========\")\n",
    "\n",
    "mean1, mean2 = 11.111111, 12.22222\n",
    "template = f\"mean1 :{mean1:.3f} \\nmean2 :{mean2:.3f}\"\n",
    "print(template)"
   ]
  },
  {
   "cell_type": "markdown",
   "metadata": {},
   "source": [
    "# 평균, 분산, 표준편차 출력하기"
   ]
  },
  {
   "cell_type": "code",
   "execution_count": 38,
   "metadata": {},
   "outputs": [
    {
     "name": "stdout",
     "output_type": "stream",
     "text": [
      "score_mean = 57.857\n",
      "score_variance = 641.837\n",
      "score_std = 25.334\n",
      "==============\n",
      "score_mean = 57.857\n",
      "score_variance = 641.837\n",
      "score_std = 25.334\n"
     ]
    }
   ],
   "source": [
    "scores = [50, 30, 90, 70, 30, 95, 40]\n",
    "n_student = len(scores)\n",
    "\n",
    "score_sum , score_square_sum = 0, 0\n",
    "\n",
    "for score in scores:\n",
    "    score_sum += score\n",
    "    score_square_sum += score**2\n",
    "\n",
    "# 평균\n",
    "score_mean = score_sum / n_student\n",
    "\n",
    "som = score_mean**2\n",
    "mos = score_square_sum / n_student\n",
    "\n",
    "# 분산, 표준편차\n",
    "score_variance = mos - som\n",
    "score_std = score_variance**0.5\n",
    "\n",
    "template1 = f\"score_mean = {score_mean:.3f}\\n\" + \\\n",
    "        f\"score_variance = {score_variance:.3f}\\n\" +\\\n",
    "        f\"score_std = {score_std:.3f}\"\n",
    "print(template1)\n",
    "\n",
    "print(\"==============\")\n",
    "\n",
    "template2 = \"score_mean = {:.3f}\\n\" +\\\n",
    "        \"score_variance = {:.3f\\n}\" +\\\n",
    "        \"score_std = {:.3f\\n}\"\n",
    "print(template.format(score_mean, score_variance, score_std))"
   ]
  }
 ],
 "metadata": {
  "kernelspec": {
   "display_name": "Python 3",
   "language": "python",
   "name": "python3"
  },
  "language_info": {
   "codemirror_mode": {
    "name": "ipython",
    "version": 3
   },
   "file_extension": ".py",
   "mimetype": "text/x-python",
   "name": "python",
   "nbconvert_exporter": "python",
   "pygments_lexer": "ipython3",
   "version": "3.8.3"
  },
  "toc": {
   "base_numbering": 1,
   "nav_menu": {},
   "number_sections": true,
   "sideBar": true,
   "skip_h1_title": false,
   "title_cell": "Table of Contents",
   "title_sidebar": "Contents",
   "toc_cell": false,
   "toc_position": {},
   "toc_section_display": true,
   "toc_window_display": true
  }
 },
 "nbformat": 4,
 "nbformat_minor": 4
}
