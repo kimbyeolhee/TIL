{
 "cells": [
  {
   "cell_type": "markdown",
   "metadata": {},
   "source": [
    "# range + step"
   ]
  },
  {
   "cell_type": "markdown",
   "metadata": {},
   "source": [
    "for loop에 range를 사용하는 방법 학습"
   ]
  },
  {
   "cell_type": "code",
   "execution_count": 5,
   "metadata": {},
   "outputs": [
    {
     "name": "stdout",
     "output_type": "stream",
     "text": [
      "0\n",
      "1\n",
      "2\n",
      "3\n",
      "4\n",
      "5\n",
      "6\n",
      "7\n",
      "8\n",
      "9\n",
      "=========\n",
      "\n",
      "3\n",
      "4\n",
      "5\n",
      "6\n",
      "7\n",
      "8\n",
      "9\n",
      "=========\n",
      "\n",
      "0\n",
      "3\n",
      "6\n",
      "9\n"
     ]
    }
   ],
   "source": [
    "for idx in range(10):\n",
    "    print(idx)\n",
    "print('=========\\n')\n",
    "\n",
    "for idx in range(3,10):\n",
    "    print(idx)\n",
    "print('=========\\n')\n",
    "\n",
    "for idx in range(0,10,3):\n",
    "    print(idx)"
   ]
  },
  {
   "cell_type": "markdown",
   "metadata": {},
   "source": [
    "# 1D strides"
   ]
  },
  {
   "cell_type": "code",
   "execution_count": 11,
   "metadata": {},
   "outputs": [
    {
     "name": "stdout",
     "output_type": "stream",
     "text": [
      "Input data: [0, 10, 20, 30, 40, 50, 60, 70, 80, 90]\n",
      "Length of Input data: 10 \n",
      "\n",
      "0 [0, 10, 20]\n",
      "2 [20, 30, 40]\n",
      "4 [40, 50, 60]\n",
      "6 [60, 70, 80]\n"
     ]
    }
   ],
   "source": [
    "import random\n",
    "\n",
    "# parameter setting\n",
    "strides = 2\n",
    "pool_size =3\n",
    "\n",
    "# generate random data\n",
    "data = [10*i for i in range(10)]\n",
    "data_len = len(data)\n",
    "print(\"Input data:\" , data)\n",
    "print(\"Length of Input data:\", data_len, '\\n')\n",
    "\n",
    "valid_len = data_len - pool_size + 1\n",
    "\n",
    "for idx in range(0, valid_len, strides):\n",
    "    print(idx, data[idx: idx+pool_size])"
   ]
  },
  {
   "cell_type": "markdown",
   "metadata": {},
   "source": [
    "# 1D Max Pooling with Strides \n",
    "<br>\n",
    "<font size=\"5\">\n",
    "    $$ p[i] = max(W_{i}) $$\n",
    "</font>\n",
    "\n",
    "<br>\n",
    "<font size=\"5\">\n",
    "    $$ L_{o} = \\frac{L_{i} - L_{f}}{s} + 1 $$\n",
    "</font>"
   ]
  },
  {
   "cell_type": "code",
   "execution_count": 32,
   "metadata": {},
   "outputs": [
    {
     "name": "stdout",
     "output_type": "stream",
     "text": [
      "Input data: [2, 2, 6, 1, 1, 6, 10, 6, 1, 9]\n",
      "Length of Input data: 10\n",
      "\n",
      "[2, 2]\n",
      "[1, 1]\n",
      "[10, 6]\n",
      "Input data: [2, 1, 10]\n",
      "Length of Input data: 3\n"
     ]
    }
   ],
   "source": [
    "import random\n",
    "\n",
    "# parameter settings\n",
    "strides = 3\n",
    "pool_size = 2\n",
    "\n",
    "# generate random data\n",
    "data = [random.randint(0,10) for _ in range(10)]\n",
    "data_len = len(data)\n",
    "\n",
    "print(f\"Input data: {data}\")\n",
    "print(f\"Length of Input data: {data_len}\\n\")\n",
    "\n",
    "# Max Pooling\n",
    "pooled = list()\n",
    "valid_len = data_len - pool_size + 1\n",
    "\n",
    "for pool_loc in range(0, valid_len, strides):\n",
    "    window = list()\n",
    "    window=data[pool_loc:pool_loc+pool_size]\n",
    "    print(window)\n",
    "    \n",
    "    M = window[0]\n",
    "    for window_val in window:\n",
    "        if M < window_val:\n",
    "            M = window_val\n",
    "    pooled.append(M)\n",
    "\n",
    "data = pooled\n",
    "data_len = len(data)\n",
    "print(f\"Input data: {data}\")\n",
    "print(f\"Length of Input data: {data_len}\")"
   ]
  },
  {
   "cell_type": "markdown",
   "metadata": {},
   "source": [
    "# 1D Correlation with Strides"
   ]
  },
  {
   "cell_type": "code",
   "execution_count": 38,
   "metadata": {},
   "outputs": [
    {
     "name": "stdout",
     "output_type": "stream",
     "text": [
      "Input data: [1, 10, 2, 1, 4, 8, 5, 10, 8, 5]\n",
      "Length of Input data: 10\n",
      "\n",
      "Correlation filter: [6, 0, 10]\n",
      "\n",
      "[1, 10, 2]\n",
      "[2, 1, 4]\n",
      "[4, 8, 5]\n",
      "[5, 10, 8]\n",
      "Input data: [26, 52, 74, 110]\n",
      "Length of Input data: 4\n",
      "\n"
     ]
    }
   ],
   "source": [
    "import random\n",
    "\n",
    "# parameter settings\n",
    "strides = 2\n",
    "filter_size = 3\n",
    "\n",
    "# generate random data\n",
    "data = [random.randint(0,10) for _ in range(10)]\n",
    "data_len = len(data)\n",
    "\n",
    "print(f\"Input data: {data}\")\n",
    "print(f\"Length of Input data: {data_len}\\n\")\n",
    "\n",
    "# generate random Correlation filter\n",
    "corr_filter = [random.randint(0,10) for _ in range(filter_size)]\n",
    "print(f\"Correlation filter: {corr_filter}\\n\")\n",
    "\n",
    "\n",
    "# Correlation\n",
    "corr_vec = list()\n",
    "valid_len = data_len - filter_size + 1\n",
    "\n",
    "for corr_loc in range(0, valid_len , strides):\n",
    "    window = data[corr_loc : corr_loc + filter_size]\n",
    "    print(window)\n",
    "    \n",
    "    corr_sum = 0\n",
    "    for window_val, filter_val in zip(window , corr_filter):\n",
    "        corr_sum += window_val * filter_val\n",
    "    corr_vec.append(corr_sum)\n",
    "\n",
    "data = corr_vec\n",
    "data_len = len(data)\n",
    "\n",
    "print(f\"Input data: {data}\")\n",
    "print(f\"Length of Input data: {data_len}\\n\")"
   ]
  }
 ],
 "metadata": {
  "kernelspec": {
   "display_name": "Python 3",
   "language": "python",
   "name": "python3"
  },
  "language_info": {
   "codemirror_mode": {
    "name": "ipython",
    "version": 3
   },
   "file_extension": ".py",
   "mimetype": "text/x-python",
   "name": "python",
   "nbconvert_exporter": "python",
   "pygments_lexer": "ipython3",
   "version": "3.8.3"
  },
  "toc": {
   "base_numbering": 1,
   "nav_menu": {},
   "number_sections": true,
   "sideBar": true,
   "skip_h1_title": false,
   "title_cell": "Table of Contents",
   "title_sidebar": "Contents",
   "toc_cell": false,
   "toc_position": {},
   "toc_section_display": true,
   "toc_window_display": false
  }
 },
 "nbformat": 4,
 "nbformat_minor": 4
}
