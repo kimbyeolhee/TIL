{
 "cells": [
  {
   "cell_type": "markdown",
   "metadata": {},
   "source": [
    "<br>\n",
    "<font color='darkred', size=\"6\">\n",
    "    <center>\n",
    "        <b> AveragePooling2D & MaxPooling2D\n",
    " </b>\n",
    "    </center>\n",
    "</font>"
   ]
  },
  {
   "cell_type": "markdown",
   "metadata": {},
   "source": [
    "# AveragePooling2D\n",
    "<br>\n",
    "<font size=\"5\">\n",
    "    $$ p[i,j] = \\frac{1}{(2s+1)(2t+1)}\n",
    "    \\sum_{\\alpha=i-s}^{i+s}\n",
    "    \\sum_{\\beta=j-t}^{j+t}\n",
    "    w[\\alpha, \\beta] $$\n",
    "</font>\n",
    "\n",
    "<br>\n",
    "<font size=\"5\">\n",
    "    $$ L_{o} = L_{i} - L_{p} + 1 $$\n",
    "</font>\n",
    "\n",
    "<br>"
   ]
  },
  {
   "cell_type": "code",
   "execution_count": 72,
   "metadata": {},
   "outputs": [
    {
     "name": "stdout",
     "output_type": "stream",
     "text": [
      "[1, 3, 2, 5, 4]\n",
      "[1, 3, 0, 5, 5]\n",
      "[4, 2, 5, 3, 4]\n",
      "[2, 4, 4, 0, 2]\n",
      "==============\n",
      "[2.3333333333333335, 3.111111111111111, 3.6666666666666665]\n",
      "[2.7777777777777777, 2.888888888888889, 3.111111111111111]\n"
     ]
    }
   ],
   "source": [
    "import random\n",
    "\n",
    "pool_size = 3\n",
    "\n",
    "H, W = 4 , 5\n",
    "data = list()\n",
    "\n",
    "# generate 2D random data\n",
    "for _ in range(H):\n",
    "    data_row = [random.randint(0,5) for _ in range(W)]\n",
    "    data.append(data_row)\n",
    "\n",
    "for row in data:\n",
    "    print(row)\n",
    "print('==============')\n",
    "\n",
    "pooled = list()\n",
    "valid_H = H - pool_size + 1\n",
    "valid_W = W - pool_size + 1\n",
    "\n",
    "for h in range(valid_H):\n",
    "    pooled_vec = list()\n",
    "    for w in range(valid_W):\n",
    "        window = list()\n",
    "        \n",
    "        for inner_h in range(pool_size):\n",
    "            window.append(data[h+inner_h][w:w+pool_size])\n",
    "            \n",
    "        # calculate the mean of the window\n",
    "        window_mean = 0\n",
    "        for inner_h in range(pool_size):\n",
    "            for inner_w in range(pool_size):\n",
    "                window_mean += window[inner_h][inner_w]\n",
    "        window_mean /= pool_size**2\n",
    "        pooled_vec.append(window_mean)\n",
    "    pooled.append(pooled_vec)\n",
    "\n",
    "for row in pooled:\n",
    "    print(row)"
   ]
  },
  {
   "cell_type": "markdown",
   "metadata": {},
   "source": [
    "# MaxPooling2D\n",
    "<br>\n",
    "<font size=\"5\">\n",
    "    $$ p[i,j] = max(W_{i,j}) $$\n",
    "</font>\n",
    "\n",
    "\n",
    "<br>\n",
    "<font size=\"5\">\n",
    "    $$ L_{o} = L_{i} - L_{p} + 1 $$\n",
    "</font>"
   ]
  },
  {
   "cell_type": "code",
   "execution_count": 75,
   "metadata": {},
   "outputs": [
    {
     "name": "stdout",
     "output_type": "stream",
     "text": [
      "[1, 27, 99, 26, 92, 72]\n",
      "[82, 51, 97, 74, 75, 75]\n",
      "[51, 37, 34, 19, 17, 66]\n",
      "[11, 55, 39, 13, 71, 96]\n",
      "[23, 98, 82, 85, 72, 32]\n",
      "=====\n",
      "[99, 99, 99, 92]\n",
      "[97, 97, 97, 96]\n",
      "[98, 98, 85, 96]\n"
     ]
    }
   ],
   "source": [
    "import random\n",
    "\n",
    "pool_size = 3\n",
    "\n",
    "H, W = 5, 6\n",
    "data = list()\n",
    "\n",
    "# generate 2D random data\n",
    "for _ in range(H):\n",
    "    row_data = [random.randint(0,100) for _ in range(W)]\n",
    "    data.append(row_data)\n",
    "    \n",
    "for row in data:\n",
    "    print(row)\n",
    "print('=====')\n",
    "\n",
    "valid_H , valid_W = H - pool_size + 1 , W - pool_size + 1\n",
    "\n",
    "# Max pooling\n",
    "pooled = list()\n",
    "\n",
    "for h in range(valid_H):\n",
    "    pooled_vec = list()\n",
    "    for w in range(valid_W):\n",
    "        window = list()\n",
    "        \n",
    "        for inner_h in range(pool_size):\n",
    "            window.append(data[h+inner_h][w:w+pool_size])\n",
    "        \n",
    "        # calculate the maximum value in the window\n",
    "        M = window[0][0]\n",
    "        \n",
    "        for inner_h in range(pool_size):\n",
    "            for inner_w in range(pool_size):\n",
    "                if window[inner_h][inner_w] > M:\n",
    "                    M = window[inner_h][inner_w]\n",
    "        pooled_vec.append(M)\n",
    "    pooled.append(pooled_vec)\n",
    "\n",
    "for row in pooled:\n",
    "    print(row)"
   ]
  },
  {
   "cell_type": "markdown",
   "metadata": {},
   "source": [
    "## differnet way to calcuate the maximum value in the window"
   ]
  },
  {
   "cell_type": "code",
   "execution_count": 76,
   "metadata": {},
   "outputs": [
    {
     "name": "stdout",
     "output_type": "stream",
     "text": [
      "[94, 38, 69, 17, 87, 41]\n",
      "[5, 56, 64, 8, 77, 14]\n",
      "[90, 56, 4, 98, 31, 30]\n",
      "[33, 74, 92, 62, 58, 61]\n",
      "[32, 78, 0, 89, 27, 46]\n",
      "=====\n",
      "[94, 98, 98, 98]\n",
      "[92, 98, 98, 98]\n",
      "[92, 98, 98, 98]\n"
     ]
    }
   ],
   "source": [
    "import random\n",
    "\n",
    "pool_size = 3\n",
    "\n",
    "H, W = 5, 6\n",
    "data = list()\n",
    "\n",
    "# generate 2D random data\n",
    "for _ in range(H):\n",
    "    row_data = [random.randint(0,100) for _ in range(W)]\n",
    "    data.append(row_data)\n",
    "    \n",
    "for row in data:\n",
    "    print(row)\n",
    "print('=====')\n",
    "\n",
    "valid_H , valid_W = H - pool_size + 1 , W - pool_size + 1\n",
    "\n",
    "# Max pooling\n",
    "pooled = list()\n",
    "\n",
    "for h in range(valid_H):\n",
    "    pooled_vec = list()\n",
    "    for w in range(valid_W):\n",
    "        window = list()\n",
    "        \n",
    "        for inner_h in range(pool_size):\n",
    "            window.append(data[h+inner_h][w:w+pool_size])\n",
    "        \n",
    "        # calculate the maximum value in the window\n",
    "        M = window[0][0]\n",
    "        \n",
    "        for window_row in window:\n",
    "            for window_val in window_row:\n",
    "                if M < window_val:\n",
    "                    M = window_val\n",
    "        pooled_vec.append(M)\n",
    "    pooled.append(pooled_vec)\n",
    "\n",
    "for row in pooled:\n",
    "    print(row)"
   ]
  }
 ],
 "metadata": {
  "kernelspec": {
   "display_name": "Python 3",
   "language": "python",
   "name": "python3"
  },
  "language_info": {
   "codemirror_mode": {
    "name": "ipython",
    "version": 3
   },
   "file_extension": ".py",
   "mimetype": "text/x-python",
   "name": "python",
   "nbconvert_exporter": "python",
   "pygments_lexer": "ipython3",
   "version": "3.8.3"
  },
  "toc": {
   "base_numbering": 1,
   "nav_menu": {},
   "number_sections": true,
   "sideBar": true,
   "skip_h1_title": false,
   "title_cell": "Table of Contents",
   "title_sidebar": "Contents",
   "toc_cell": false,
   "toc_position": {},
   "toc_section_display": true,
   "toc_window_display": false
  }
 },
 "nbformat": 4,
 "nbformat_minor": 4
}
