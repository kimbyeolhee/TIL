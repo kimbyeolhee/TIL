{
 "cells": [
  {
   "cell_type": "markdown",
   "metadata": {},
   "source": [
    "# (Mini-project) Top-5 Accuracy"
   ]
  },
  {
   "cell_type": "markdown",
   "metadata": {},
   "source": [
    "## Membership Test\n",
    "특정 값이 list에 존재하는지 확인하는 membership test \"in\"에 대해 알아봅니다."
   ]
  },
  {
   "cell_type": "code",
   "execution_count": 6,
   "metadata": {},
   "outputs": [
    {
     "name": "stdout",
     "output_type": "stream",
     "text": [
      "===== method.1 =====\n",
      "you are in Membership test\n",
      "===== method.2 =====\n",
      "Not in Membership test\n",
      "Not in Membership test\n",
      "you are in Membership test\n"
     ]
    }
   ],
   "source": [
    "element = 1\n",
    "test_list = [5, 3, 1, 3, 6, 7]\n",
    "\n",
    "print('===== method.1 =====') \n",
    "if element in test_list:\n",
    "    print(\"you are in Membership test\")\n",
    "else: print(\"Not in Membership test\")\n",
    "    \n",
    "print('===== method.2 =====') \n",
    "elements = [8, 2, 3]\n",
    "\n",
    "for element in elements:\n",
    "    if element in test_list:\n",
    "        print(\"you are in Membership test\")\n",
    "    else: print(\"Not in Membership test\")"
   ]
  },
  {
   "cell_type": "markdown",
   "metadata": {},
   "source": [
    "## Sorting with Indices\n",
    "Index도 함께 sorting해야 될 때는 어떤 문제점이 발생하고, 어떻게 해결할지?"
   ]
  },
  {
   "cell_type": "code",
   "execution_count": 26,
   "metadata": {},
   "outputs": [
    {
     "name": "stdout",
     "output_type": "stream",
     "text": [
      "Predictions:  [40, 25, 10, 80, 60, 20] \n",
      "\n",
      "[80, 60, 40, 25, 20, 10] [3, 4, 0, 1, 5, 2]\n"
     ]
    }
   ],
   "source": [
    "predictions = [40, 25, 10, 80, 60, 20]\n",
    "print(\"Predictions: \", predictions, '\\n')\n",
    "\n",
    "sorted_predictions = list()\n",
    "sorted_predictions_indices = list()\n",
    "\n",
    "for _ in range(len(predictions)):\n",
    "    M, M_idx = None, 0\n",
    "    \n",
    "    for pred_idx, pred in enumerate(predictions):\n",
    "        if pred_idx in sorted_predictions_indices:\n",
    "            pass\n",
    "        \n",
    "        elif M == None or M < pred:\n",
    "            M = pred\n",
    "            M_idx = pred_idx\n",
    "        \n",
    "    sorted_predictions.append(M)\n",
    "    sorted_predictions_indices.append(M_idx)\n",
    "            \n",
    "print(sorted_predictions, sorted_predictions_indices)"
   ]
  },
  {
   "cell_type": "markdown",
   "metadata": {},
   "source": [
    "## Top-5 Accuracy\n",
    "Classification task에서 정확한 label을 예측하지 못했더라도, <br>\n",
    "유의미한 예측일 때 측정하는 top-5 accuracy를 구해봄<br>"
   ]
  },
  {
   "cell_type": "code",
   "execution_count": 72,
   "metadata": {},
   "outputs": [],
   "source": [
    "prediction = [40, 25, 10, 80, 60, 20, 5, 30, 10, 15]\n",
    "label = 3 # 정답 클래스"
   ]
  },
  {
   "cell_type": "markdown",
   "metadata": {},
   "source": [
    "### 미리 구현해보기"
   ]
  },
  {
   "cell_type": "code",
   "execution_count": 73,
   "metadata": {
    "scrolled": true
   },
   "outputs": [
    {
     "name": "stdout",
     "output_type": "stream",
     "text": [
      "[0.136, 0.085, 0.034, 0.271, 0.203, 0.068, 0.017, 0.102, 0.034, 0.051] \n",
      "\n",
      "top5_accuracy: [0.271, 0.203, 0.136, 0.102, 0.085] \n",
      "top5_accuracy_indices: [3, 4, 0, 7, 1]\n",
      "\n",
      "정답\n"
     ]
    }
   ],
   "source": [
    "top5_accuracy = list()\n",
    "top5_accuracy_indices = list()\n",
    "\n",
    "# pred -> prob\n",
    "prob_prediction = list()\n",
    "sum_pred = sum(prediction)\n",
    "\n",
    "for i in range(len(prediction)):\n",
    "    prob_prediction.append(round(prediction[i] / sum_pred, 3))\n",
    "print(prob_prediction, \"\\n\")\n",
    "    \n",
    "# 상위 5개의 확률 값만 담기\n",
    "for _ in range(len(prob_prediction)):\n",
    "    M , M_idx = None, 0\n",
    "\n",
    "    for pred_idx, pred in enumerate(prob_prediction):\n",
    "        if pred_idx in top5_accuracy_indices:\n",
    "            pass\n",
    "        \n",
    "        elif M == None or M < pred:\n",
    "            M = pred\n",
    "            M_idx = pred_idx\\\n",
    "    \n",
    "    top5_accuracy.append(M)\n",
    "    top5_accuracy_indices.append(M_idx)\n",
    "    if len(top5_accuracy) == 5:\n",
    "        break\n",
    "\n",
    "print(f\"top5_accuracy: {top5_accuracy} \\ntop5_accuracy_indices: {top5_accuracy_indices}\\n\")\n",
    "        \n",
    "# 정답 여부 확인\n",
    "if label in top5_accuracy_indices:\n",
    "    print(\"정답\")\n",
    "else: print(\"오답\")"
   ]
  },
  {
   "cell_type": "markdown",
   "metadata": {},
   "source": [
    "### 다시 구현"
   ]
  },
  {
   "cell_type": "code",
   "execution_count": 92,
   "metadata": {},
   "outputs": [
    {
     "name": "stdout",
     "output_type": "stream",
     "text": [
      "top5_accuracy: [0.271, 0.203, 0.136, 0.102, 0.085]\n",
      "Top-5 precition and label [3, 4, 0, 7, 1] 3\n",
      "-> Correct\n"
     ]
    }
   ],
   "source": [
    "predictions = [40, 25, 10, 80, 60, 20, 5, 30, 10, 15]\n",
    "label = 3 # 정답 클래스\n",
    "\n",
    "top5_accuracy = list()\n",
    "top5_accuracy_indices = list()\n",
    "\n",
    "# pred -> prob calculation\n",
    "pred_sum = 0\n",
    "for pred in predictions:\n",
    "    pred_sum += pred\n",
    "\n",
    "for pred_idx, pred in enumerate(predictions):\n",
    "    predictions[pred_idx] = round(pred / pred_sum, 3)\n",
    "\n",
    "# top5_accuracy\n",
    "for _ in range(5):\n",
    "    M, M_idx = None, 0\n",
    "    \n",
    "    for pred_idx, pred in enumerate(predictions):\n",
    "        if pred_idx in top5_accuracy_indices:\n",
    "            pass\n",
    "        \n",
    "        elif M == None or M < pred:\n",
    "            M = pred\n",
    "            M_idx = pred_idx\n",
    "        \n",
    "    top5_accuracy.append(M)\n",
    "    top5_accuracy_indices.append(M_idx)\n",
    "\n",
    "print(f\"top5_accuracy: {top5_accuracy}\")\n",
    "\n",
    "# validation\n",
    "print(\"Top-5 precition and label\", top5_accuracy_indices, label)\n",
    "if label in top5_accuracy_indices:\n",
    "    print(\"-> Correct\")\n",
    "else:\n",
    "    print(\"-> Not correct\")"
   ]
  }
 ],
 "metadata": {
  "kernelspec": {
   "display_name": "Python 3",
   "language": "python",
   "name": "python3"
  },
  "language_info": {
   "codemirror_mode": {
    "name": "ipython",
    "version": 3
   },
   "file_extension": ".py",
   "mimetype": "text/x-python",
   "name": "python",
   "nbconvert_exporter": "python",
   "pygments_lexer": "ipython3",
   "version": "3.8.3"
  },
  "toc": {
   "base_numbering": 1,
   "nav_menu": {},
   "number_sections": true,
   "sideBar": true,
   "skip_h1_title": false,
   "title_cell": "Table of Contents",
   "title_sidebar": "Contents",
   "toc_cell": false,
   "toc_position": {},
   "toc_section_display": true,
   "toc_window_display": true
  }
 },
 "nbformat": 4,
 "nbformat_minor": 4
}
