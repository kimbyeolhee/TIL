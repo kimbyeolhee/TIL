{
 "cells": [
  {
   "cell_type": "markdown",
   "metadata": {},
   "source": [
    "<br>\n",
    "<font color='black', size=\"6\">\n",
    "    <center>\n",
    "        <b> List Comprehension </b>\n",
    "    </center>\n",
    "</font>\n",
    "</br>"
   ]
  },
  {
   "cell_type": "markdown",
   "metadata": {},
   "source": [
    "# Comprehension의 필요성"
   ]
  },
  {
   "cell_type": "code",
   "execution_count": 3,
   "metadata": {},
   "outputs": [
    {
     "name": "stdout",
     "output_type": "stream",
     "text": [
      "[0, 1, 2, 3, 4, 5, 6, 7, 8, 9, 10, 11, 12, 13, 14, 15, 16, 17, 18, 19]\n",
      "[0, 1, 2, 3, 4, 5, 6, 7, 8, 9, 10, 11, 12, 13, 14, 15, 16, 17, 18, 19]\n"
     ]
    }
   ],
   "source": [
    "# list comprehension을 사용하지 않은 경우\n",
    "numbers = list()\n",
    "for i in range(20):\n",
    "    numbers.append(i)\n",
    "print(numbers)\n",
    "\n",
    "# list comprehension을 사용한 경우\n",
    "numbers = [i for i in range(20)]\n",
    "print(numbers)"
   ]
  },
  {
   "cell_type": "markdown",
   "metadata": {},
   "source": [
    "# Comprehension + 연산"
   ]
  },
  {
   "cell_type": "code",
   "execution_count": 6,
   "metadata": {},
   "outputs": [
    {
     "name": "stdout",
     "output_type": "stream",
     "text": [
      "[0, 2, 4, 6, 8, 10, 12, 14, 16, 18, 20, 22, 24, 26, 28, 30, 32, 34, 36, 38]\n",
      "[2, 3, 4, 5, 6, 7, 8, 9, 10, 11, 12, 13, 14, 15, 16, 17, 18, 19, 20, 21]\n",
      "[0, 1, 4, 9, 16, 25, 36, 49, 64, 81, 100, 121, 144, 169, 196, 225, 256, 289, 324, 361]\n"
     ]
    }
   ],
   "source": [
    "multiple_of_two = [2*num for num in range(20)]\n",
    "print(multiple_of_two)\n",
    "\n",
    "added_by_two = [2+num for num in range(20)]\n",
    "print(added_by_two)\n",
    "\n",
    "square_num = [num**2 for num in range(20)]\n",
    "print(square_num)"
   ]
  },
  {
   "cell_type": "markdown",
   "metadata": {},
   "source": [
    "# Comprehension으로 List 접근"
   ]
  },
  {
   "cell_type": "code",
   "execution_count": 7,
   "metadata": {},
   "outputs": [
    {
     "name": "stdout",
     "output_type": "stream",
     "text": [
      "[40, 120, 40, 20, 140]\n"
     ]
    }
   ],
   "source": [
    "scores = [20, 60, 20, 10, 70]\n",
    "\n",
    "double_scores = [2*score for score in scores]\n",
    "print(double_scores)"
   ]
  },
  {
   "cell_type": "markdown",
   "metadata": {},
   "source": [
    "# comprehension에서 Index로 여러개 list 접근 , +zip"
   ]
  },
  {
   "cell_type": "code",
   "execution_count": 15,
   "metadata": {},
   "outputs": [
    {
     "name": "stdout",
     "output_type": "stream",
     "text": [
      "only using for\n",
      "[0, 30, 60, 90, 120, 150, 180, 210, 240, 270] \n",
      "\n",
      "using with comprehension\n",
      "[0, 30, 60, 90, 120, 150, 180, 210, 240, 270] \n",
      "\n",
      "only using zip\n",
      "[0, 30, 60, 90, 120, 150, 180, 210, 240, 270] \n",
      "\n",
      "using with zip and list comprehension\n",
      "[0, 30, 60, 90, 120, 150, 180, 210, 240, 270]\n"
     ]
    }
   ],
   "source": [
    "e_scores = [10*num for num in range(10)]\n",
    "m_scores = [20*num for num in range(10)]\n",
    "\n",
    "sum_scores = list()\n",
    "for score_idx in range(len(e_scores)):\n",
    "    sum_scores.append(e_scores[score_idx] + m_scores[score_idx])\n",
    "print(\"only using for\")\n",
    "print(sum_scores,'\\n')\n",
    "\n",
    "sum_scores = [e_scores[idx] + m_scores[idx] for idx in range(len(e_scores))]\n",
    "print(\"using with comprehension\")\n",
    "print(sum_scores,'\\n')\n",
    "\n",
    "sum_scores = list()\n",
    "for e_score, m_score in zip(e_scores, m_scores):\n",
    "    sum_scores.append(e_score + m_score)\n",
    "print(\"only using zip\")\n",
    "print(sum_scores,'\\n')\n",
    "\n",
    "sum_scores = [e_score + m_score for e_score, m_score in zip(e_scores, m_scores)]\n",
    "print(\"using with zip and list comprehension\")\n",
    "print(sum_scores)"
   ]
  }
 ],
 "metadata": {
  "kernelspec": {
   "display_name": "Python 3",
   "language": "python",
   "name": "python3"
  },
  "language_info": {
   "codemirror_mode": {
    "name": "ipython",
    "version": 3
   },
   "file_extension": ".py",
   "mimetype": "text/x-python",
   "name": "python",
   "nbconvert_exporter": "python",
   "pygments_lexer": "ipython3",
   "version": "3.8.3"
  },
  "toc": {
   "base_numbering": 1,
   "nav_menu": {},
   "number_sections": true,
   "sideBar": true,
   "skip_h1_title": false,
   "title_cell": "Table of Contents",
   "title_sidebar": "Contents",
   "toc_cell": false,
   "toc_position": {},
   "toc_section_display": true,
   "toc_window_display": false
  }
 },
 "nbformat": 4,
 "nbformat_minor": 4
}
