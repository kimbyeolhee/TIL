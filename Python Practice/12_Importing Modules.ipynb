{
 "cells": [
  {
   "cell_type": "markdown",
   "metadata": {},
   "source": [
    "<br>\n",
    "<font color='darkred', size=\"6\">\n",
    "    <center>\n",
    "        <b> Importing Modules </b>\n",
    "    </center>\n",
    "</font>\n",
    "<br/>"
   ]
  },
  {
   "cell_type": "markdown",
   "metadata": {},
   "source": [
    "# random.randint"
   ]
  },
  {
   "cell_type": "code",
   "execution_count": 15,
   "metadata": {},
   "outputs": [
    {
     "name": "stdout",
     "output_type": "stream",
     "text": [
      "[55, 92, 67, 63, 23, 9, 51, 17, 29, 28]\n",
      "[62, 33, 28, 43, 97, 34, 28, 18, 45, 63]\n",
      "hist : [0, 1, 2, 2, 2, 0, 2, 0, 0, 1]\n"
     ]
    }
   ],
   "source": [
    "import random\n",
    "\n",
    "# method.1\n",
    "scores = list()\n",
    "for _ in range(10):\n",
    "    random_int = random.randint(0,100)\n",
    "    scores.append(random_int)\n",
    "print(scores)\n",
    "\n",
    "# method.2\n",
    "scores = [random.randint(0,100) for _ in range(10)]\n",
    "print(scores)\n",
    "\n",
    "# calculate the histogram for check\n",
    "n_bins = 10\n",
    "hist_range = [0,100]\n",
    "\n",
    "interval = (hist_range[1] - hist_range[0]) / n_bins\n",
    "cutoffs = list()\n",
    "hist = list()\n",
    "\n",
    "for cutoff in range(n_bins):\n",
    "    cutoffs.append(cutoff*interval)\n",
    "    hist.append(0)\n",
    "\n",
    "for score in scores:\n",
    "    for cutoff_idx , cutoff in enumerate(cutoffs):\n",
    "        diff = score - cutoff  \n",
    "        if diff < interval and diff >= 0:\n",
    "            hist[cutoff_idx] += 1\n",
    "            break\n",
    "            \n",
    "print(f\"hist : {hist}\")"
   ]
  },
  {
   "cell_type": "markdown",
   "metadata": {},
   "source": [
    "# random.gauss\n",
    "가장 많이 사용되는 random data는 normal/Gauss distribution에서 부터 만들어진 data <br/>\n",
    "현실에 많은 data가 normal distribution을 따르며, noise 중 상당히 많은 비중을 차지하는<br/>\n",
    "Additive White Gaussian Noise(AWGN)을 만들어 낼 때도 사용<br/>\n",
    "(참고) TV에서 아무것도 송출되지 않을 때 나오는 지지직거리는 화면과 소리가 대표적인 AWGN의 시각적, 청각적 예시"
   ]
  },
  {
   "cell_type": "code",
   "execution_count": 17,
   "metadata": {},
   "outputs": [],
   "source": [
    "# method.1\n",
    "scores = list()\n",
    "n_students = 1000\n",
    "\n",
    "for _ in range(n_students):\n",
    "    scores.append(random.gauss(0,3))\n",
    "\n",
    "# method.2\n",
    "scores = [random.gauss(0,3) for _ in range(n_students)]\n",
    "\n",
    "# calculate the histogram for check\n"
   ]
  },
  {
   "cell_type": "code",
   "execution_count": null,
   "metadata": {},
   "outputs": [],
   "source": []
  }
 ],
 "metadata": {
  "kernelspec": {
   "display_name": "Python 3",
   "language": "python",
   "name": "python3"
  },
  "language_info": {
   "codemirror_mode": {
    "name": "ipython",
    "version": 3
   },
   "file_extension": ".py",
   "mimetype": "text/x-python",
   "name": "python",
   "nbconvert_exporter": "python",
   "pygments_lexer": "ipython3",
   "version": "3.8.3"
  },
  "toc": {
   "base_numbering": 1,
   "nav_menu": {},
   "number_sections": true,
   "sideBar": true,
   "skip_h1_title": false,
   "title_cell": "Table of Contents",
   "title_sidebar": "Contents",
   "toc_cell": false,
   "toc_position": {},
   "toc_section_display": true,
   "toc_window_display": false
  }
 },
 "nbformat": 4,
 "nbformat_minor": 4
}
