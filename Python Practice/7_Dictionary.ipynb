{
 "cells": [
  {
   "cell_type": "markdown",
   "metadata": {},
   "source": [
    "<br>\n",
    "<font color='darkred', size=\"6\">\n",
    "    <center>\n",
    "        <b> Dictionary </b>\n",
    "    </center>\n",
    "</font>\n",
    "<br/>"
   ]
  },
  {
   "cell_type": "markdown",
   "metadata": {},
   "source": [
    "# 글자수 세기_ Dictionary의 필요성 파악"
   ]
  },
  {
   "cell_type": "code",
   "execution_count": 2,
   "metadata": {},
   "outputs": [
    {
     "name": "stdout",
     "output_type": "stream",
     "text": [
      "[4, 4, 2, 2]\n"
     ]
    }
   ],
   "source": [
    "test_string = 'aabbccdbabda'\n",
    "char_cnts = [0, 0, 0, 0]\n",
    "\n",
    "for char in test_string:\n",
    "    if char == 'a': char_cnts[0] +=1\n",
    "    elif char == 'b': char_cnts[1] +=1\n",
    "    elif char == 'c': char_cnts[2] +=1\n",
    "    elif char == 'd': char_cnts[3] +=1\n",
    "    else: pass\n",
    "\n",
    "print(char_cnts)"
   ]
  },
  {
   "cell_type": "markdown",
   "metadata": {},
   "source": [
    "# Dictionary 생성 & key로 value 접근"
   ]
  },
  {
   "cell_type": "code",
   "execution_count": 6,
   "metadata": {},
   "outputs": [
    {
     "name": "stdout",
     "output_type": "stream",
     "text": [
      "{'worlds': 3, 'msi': 1, 'lck': 9}\n",
      "9\n"
     ]
    }
   ],
   "source": [
    "faker_cnt_dict = {'worlds':3, \"msi\":1, 'lck':9}\n",
    "\n",
    "print(faker_cnt_dict)\n",
    "print(faker_cnt_dict[\"lck\"])"
   ]
  },
  {
   "cell_type": "markdown",
   "metadata": {},
   "source": [
    "# Key, Value 추가\n",
    "빈 dict를 만들고, key-value pair를 추가하는 방법\n",
    "list와 마찬가지로 값을 할당할 때와 값을 참조할 때 같은 방법인 것을 확인"
   ]
  },
  {
   "cell_type": "code",
   "execution_count": 7,
   "metadata": {
    "scrolled": true
   },
   "outputs": [
    {
     "name": "stdout",
     "output_type": "stream",
     "text": [
      "{}\n",
      "{'a': 3, 'b': 6, 'c': 9}\n"
     ]
    }
   ],
   "source": [
    "char_cnt_dict = dict()\n",
    "print(char_cnt_dict)\n",
    "\n",
    "char_cnt_dict['a'] = 3\n",
    "char_cnt_dict['b'] = 6\n",
    "char_cnt_dict['c'] = 9\n",
    "print(char_cnt_dict)"
   ]
  },
  {
   "cell_type": "markdown",
   "metadata": {},
   "source": [
    "# KeyError와 dict.get\n",
    "참조하려는 key가 없을 때 발생하는 KeyError와\n",
    "이를 초깃값 설정으로 해결해주는 dict.get"
   ]
  },
  {
   "cell_type": "code",
   "execution_count": 11,
   "metadata": {},
   "outputs": [
    {
     "name": "stdout",
     "output_type": "stream",
     "text": [
      "No\n",
      "No\n",
      "3\n"
     ]
    }
   ],
   "source": [
    "test_dict = dict()\n",
    "\n",
    "print(test_dict.get('a', 'No'))\n",
    "\n",
    "test_dict2 = {'b':3}\n",
    "print(test_dict2.get('a', 'No'))\n",
    "print(test_dict2.get('b', 'No'))"
   ]
  },
  {
   "cell_type": "markdown",
   "metadata": {},
   "source": [
    "# Dict로 글자수 세기"
   ]
  },
  {
   "cell_type": "code",
   "execution_count": 14,
   "metadata": {},
   "outputs": [
    {
     "name": "stdout",
     "output_type": "stream",
     "text": [
      "{'h': 2, 't': 6, 'p': 3, ':': 2, '/': 7, 'l': 2, 'o': 7, 'c': 2, 'a': 2, 's': 3, '8': 6, 'n': 3, 'e': 2, 'b': 2, 'k': 2, 'D': 5, '%': 9, 'E': 3, 'A': 2, 'B': 3, '9': 2, '0': 1, '3': 1, '4': 1, 'C': 1, 'L': 1, 'P': 1, '7': 1, '_': 1, 'i': 3, 'r': 1, 'y': 2, '.': 1}\n"
     ]
    }
   ],
   "source": [
    "test_string = \"http://localhost:8888/notebooks/Desktop/%EA%B9%80%EB%B3%84%ED%9D%AC/DLP/7_Dictionary.ipynb\"\n",
    "\n",
    "cnt_dict = dict()\n",
    "for char in test_string:\n",
    "    cnt_dict[char] = cnt_dict.get(char, 0) + 1\n",
    "\n",
    "print(cnt_dict)"
   ]
  },
  {
   "cell_type": "markdown",
   "metadata": {},
   "source": [
    "# One-hot Encoding(2)"
   ]
  },
  {
   "cell_type": "code",
   "execution_count": 20,
   "metadata": {},
   "outputs": [
    {
     "name": "stdout",
     "output_type": "stream",
     "text": [
      "[1, 0, 0, 0, 0, 0]\n",
      "[0, 1, 0, 0, 0, 0]\n",
      "[0, 0, 0, 1, 0, 0]\n",
      "[0, 0, 1, 0, 0, 0]\n",
      "[1, 0, 0, 0, 0, 0]\n",
      "[0, 1, 0, 0, 0, 0]\n",
      "[0, 0, 0, 0, 0, 1]\n"
     ]
    }
   ],
   "source": [
    "labels = ['dog', 'cat', 'dolphin', 'tiger', 'dog', 'cat', 'cow']\n",
    "\n",
    "# class name => class idx mapping\n",
    "one_hot_enc_dict = {'dog':0, 'cat':1, 'tiger':2, 'dolphin':3, 'rabbit':4, 'cow':5}\n",
    "\n",
    "n_label = len(labels)\n",
    "n_class = len(one_hot_enc_dict)\n",
    "\n",
    "one_hot_mat = list()\n",
    "for _ in range(n_label):\n",
    "    one_hot_vec = [0]*n_class\n",
    "    one_hot_mat.append(one_hot_vec)\n",
    "\n",
    "for label_idx, label in enumerate(labels):\n",
    "    one_hot_vec = one_hot_mat[label_idx]\n",
    "    \n",
    "    # 해당 label의 class 키 값을 찾는다\n",
    "    class_idx = one_hot_enc_dict[label]\n",
    "    one_hot_vec[class_idx] = 1\n",
    "\n",
    "# 확인\n",
    "for one_hot_vec in one_hot_mat:\n",
    "    print(one_hot_vec)"
   ]
  }
 ],
 "metadata": {
  "kernelspec": {
   "display_name": "Python 3",
   "language": "python",
   "name": "python3"
  },
  "language_info": {
   "codemirror_mode": {
    "name": "ipython",
    "version": 3
   },
   "file_extension": ".py",
   "mimetype": "text/x-python",
   "name": "python",
   "nbconvert_exporter": "python",
   "pygments_lexer": "ipython3",
   "version": "3.8.3"
  },
  "toc": {
   "base_numbering": 1,
   "nav_menu": {},
   "number_sections": true,
   "sideBar": true,
   "skip_h1_title": false,
   "title_cell": "Table of Contents",
   "title_sidebar": "Contents",
   "toc_cell": false,
   "toc_position": {},
   "toc_section_display": true,
   "toc_window_display": false
  }
 },
 "nbformat": 4,
 "nbformat_minor": 4
}
