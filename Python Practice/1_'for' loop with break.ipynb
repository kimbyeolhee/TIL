{
 "cells": [
  {
   "cell_type": "markdown",
   "metadata": {},
   "source": [
    "# For Loop 확장"
   ]
  },
  {
   "cell_type": "markdown",
   "metadata": {},
   "source": [
    "## for + break"
   ]
  },
  {
   "cell_type": "markdown",
   "metadata": {},
   "source": [
    "break를 통해 for문을 원하는 횟수만큼 반복시키는 방법  "
   ]
  },
  {
   "cell_type": "code",
   "execution_count": 4,
   "metadata": {},
   "outputs": [
    {
     "name": "stdout",
     "output_type": "stream",
     "text": [
      "10 10\n",
      "20 30\n",
      "30 60\n",
      "40 100\n"
     ]
    }
   ],
   "source": [
    "scores = [10, 20, 30, 40, 50, 30, 40, 50]\n",
    "\n",
    "score_sum = 0\n",
    "for score in scores:\n",
    "    score_sum += score\n",
    "    \n",
    "    print(score, score_sum)\n",
    "    if score_sum >= 100:\n",
    "        break"
   ]
  },
  {
   "cell_type": "code",
   "execution_count": 7,
   "metadata": {},
   "outputs": [
    {
     "name": "stdout",
     "output_type": "stream",
     "text": [
      "10\n",
      "20\n",
      "30\n"
     ]
    }
   ],
   "source": [
    "for score_idx in range(len(scores)):\n",
    "    score = scores[score_idx]\n",
    "    print(score)\n",
    "    \n",
    "    if score_idx ==2: break # test 코드를 확인할 때 break 를 사용함"
   ]
  },
  {
   "cell_type": "markdown",
   "metadata": {},
   "source": [
    "## 최초 합격자 구하기"
   ]
  },
  {
   "cell_type": "markdown",
   "metadata": {},
   "source": [
    "for문에 사용되는 break는 원하는 결과가 나오면 for문의 실행을 중지한다.\n",
    "\n",
    "프로그램의 불필요한 연산을 줄일 수 있다."
   ]
  },
  {
   "cell_type": "code",
   "execution_count": 14,
   "metadata": {},
   "outputs": [
    {
     "name": "stdout",
     "output_type": "stream",
     "text": [
      "first_pass_idx: 4 / score: 99\n"
     ]
    }
   ],
   "source": [
    "scores = [30, 53, 28, 13, 99, 59, 25, 60, 70]\n",
    "cut = 70\n",
    "\n",
    "# 최초 합격자 인덱스 번호와 점수 출력\n",
    "first_pass_idx = None\n",
    "\n",
    "for idx in range(len(scores)):\n",
    "    score = scores[idx]\n",
    "    \n",
    "    if scores[idx] >= cut and first_pass_idx== None:\n",
    "        first_pass_idx = idx\n",
    "        break\n",
    "        \n",
    "print(\"first_pass_idx: {0} / score: {1}\".format(first_pass_idx, score))"
   ]
  },
  {
   "cell_type": "markdown",
   "metadata": {},
   "source": [
    "## Histogram"
   ]
  },
  {
   "cell_type": "code",
   "execution_count": 43,
   "metadata": {},
   "outputs": [
    {
     "name": "stdout",
     "output_type": "stream",
     "text": [
      "score: 30 , cutoff: 20.0 , diff: 10.0 , hist: [0, 1, 0, 0, 0]\n",
      "score: 53 , cutoff: 40.0 , diff: 13.0 , hist: [0, 1, 1, 0, 0]\n",
      "score: 28 , cutoff: 20.0 , diff: 8.0 , hist: [0, 2, 1, 0, 0]\n",
      "score: 13 , cutoff: 0.0 , diff: 13.0 , hist: [1, 2, 1, 0, 0]\n",
      "score: 99 , cutoff: 80.0 , diff: 19.0 , hist: [1, 2, 1, 0, 1]\n",
      "score: 59 , cutoff: 40.0 , diff: 19.0 , hist: [1, 2, 2, 0, 1]\n",
      "score: 25 , cutoff: 20.0 , diff: 5.0 , hist: [1, 3, 2, 0, 1]\n",
      "score: 60 , cutoff: 60.0 , diff: 0.0 , hist: [1, 3, 2, 1, 1]\n",
      "score: 70 , cutoff: 60.0 , diff: 10.0 , hist: [1, 3, 2, 2, 1]\n",
      "최종 히스토그램 분포 \n",
      " [1, 3, 2, 2, 1]\n"
     ]
    }
   ],
   "source": [
    "scores = [30, 53, 28, 13, 99, 59, 25, 60, 70]\n",
    "\n",
    "# histogram parameter setting\n",
    "n_bins = 5\n",
    "hist_range = [0,100]\n",
    "\n",
    "# hist initialization\n",
    "interval = (hist_range[1] - hist_range[0]) / n_bins\n",
    "cutoffs = list()\n",
    "hist = list()\n",
    "\n",
    "for cutoff in range(n_bins):\n",
    "    cutoff = cutoff * interval\n",
    "    cutoffs.append(cutoff)\n",
    "    hist.append(0)\n",
    "\n",
    "# calculation\n",
    "for score in scores:\n",
    "    for cutoff_idx in range(len(cutoffs)):\n",
    "        cutoff = cutoffs[cutoff_idx]\n",
    "        diff = score - cutoff \n",
    "\n",
    "        if diff >= 0 and diff < interval: # diff>=0 , diff<interval 이여야 해당 구간에 해당됨\n",
    "            hist[cutoff_idx] += 1\n",
    "            print(f\"score: {score} , cutoff: {cutoff} , diff: {diff} , hist: {hist}\")\n",
    "            break\n",
    "\n",
    "print(\"최종 히스토그램 분포 \\n\",hist )"
   ]
  }
 ],
 "metadata": {
  "kernelspec": {
   "display_name": "Python 3",
   "language": "python",
   "name": "python3"
  },
  "language_info": {
   "codemirror_mode": {
    "name": "ipython",
    "version": 3
   },
   "file_extension": ".py",
   "mimetype": "text/x-python",
   "name": "python",
   "nbconvert_exporter": "python",
   "pygments_lexer": "ipython3",
   "version": "3.8.3"
  },
  "toc": {
   "base_numbering": 1,
   "nav_menu": {},
   "number_sections": true,
   "sideBar": true,
   "skip_h1_title": false,
   "title_cell": "Table of Contents",
   "title_sidebar": "Contents",
   "toc_cell": false,
   "toc_position": {},
   "toc_section_display": true,
   "toc_window_display": false
  }
 },
 "nbformat": 4,
 "nbformat_minor": 4
}
