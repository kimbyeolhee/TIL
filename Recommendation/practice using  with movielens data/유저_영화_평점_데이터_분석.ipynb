{
  "nbformat": 4,
  "nbformat_minor": 0,
  "metadata": {
    "colab": {
      "name": "유저/영화/평점 데이터 분석.ipynb",
      "provenance": [],
      "collapsed_sections": []
    },
    "kernelspec": {
      "name": "python3",
      "display_name": "Python 3"
    },
    "language_info": {
      "name": "python"
    },
    "accelerator": "GPU"
  },
  "cells": [
    {
      "cell_type": "markdown",
      "metadata": {
        "id": "JFmvXIhucJDH"
      },
      "source": [
        "[data link](https://grouplens.org/datasets/movielens/)"
      ]
    },
    {
      "cell_type": "code",
      "metadata": {
        "id": "QgT-bGMAcIwl"
      },
      "source": [
        "import os\n",
        "import pandas as pd\n",
        "from matplotlib import pyplot as plt\n",
        "%matplotlib inline"
      ],
      "execution_count": 4,
      "outputs": []
    },
    {
      "cell_type": "code",
      "metadata": {
        "colab": {
          "base_uri": "https://localhost:8080/"
        },
        "id": "XquFPXLMcYy8",
        "outputId": "023e84d4-44bc-4941-bc72-de5bd515ed5c"
      },
      "source": [
        "from google.colab import drive\n",
        "drive.mount('/content/drive')"
      ],
      "execution_count": 5,
      "outputs": [
        {
          "output_type": "stream",
          "text": [
            "Mounted at /content/drive\n"
          ],
          "name": "stdout"
        }
      ]
    },
    {
      "cell_type": "code",
      "metadata": {
        "id": "vOXVGFyhcfr8"
      },
      "source": [
        "path = '/content/drive/My Drive/data/movielens/'"
      ],
      "execution_count": 6,
      "outputs": []
    },
    {
      "cell_type": "code",
      "metadata": {
        "colab": {
          "base_uri": "https://localhost:8080/"
        },
        "id": "dhpEe6V6cs8U",
        "outputId": "91d7d86c-adac-460b-e132-f647e1ce1471"
      },
      "source": [
        "os.listdir(path)"
      ],
      "execution_count": 7,
      "outputs": [
        {
          "output_type": "execute_result",
          "data": {
            "text/plain": [
              "['ratings.csv', 'tags.csv', 'movies.csv', 'links.csv', 'README.txt']"
            ]
          },
          "metadata": {
            "tags": []
          },
          "execution_count": 7
        }
      ]
    },
    {
      "cell_type": "markdown",
      "metadata": {
        "id": "FwH-1KuLVMX5"
      },
      "source": [
        "# **Data road**"
      ]
    },
    {
      "cell_type": "code",
      "metadata": {
        "id": "4VpWZz68cuP9"
      },
      "source": [
        "ratings_df = pd.read_csv(os.path.join(path + 'ratings.csv'), encoding='utf=8')\n",
        "tags_df = pd.read_csv(os.path.join(path + 'tags.csv'), encoding='utf=8')\n",
        "movies_df = pd.read_csv(os.path.join(path + 'movies.csv'), index_col = 'movieId', encoding='utf=8')"
      ],
      "execution_count": 8,
      "outputs": []
    },
    {
      "cell_type": "markdown",
      "metadata": {
        "id": "raNt3Bw4WP0O"
      },
      "source": [
        "timestamp : 영화 평점 기록 시점"
      ]
    },
    {
      "cell_type": "code",
      "metadata": {
        "colab": {
          "base_uri": "https://localhost:8080/"
        },
        "id": "kA2_869JVyHI",
        "outputId": "27e27598-0965-4abd-feff-0db7a10f0328"
      },
      "source": [
        "print(ratings_df.shape)\n",
        "print(ratings_df.head())"
      ],
      "execution_count": 9,
      "outputs": [
        {
          "output_type": "stream",
          "text": [
            "(100836, 4)\n",
            "   userId  movieId  rating  timestamp\n",
            "0       1        1     4.0  964982703\n",
            "1       1        3     4.0  964981247\n",
            "2       1        6     4.0  964982224\n",
            "3       1       47     5.0  964983815\n",
            "4       1       50     5.0  964982931\n"
          ],
          "name": "stdout"
        }
      ]
    },
    {
      "cell_type": "code",
      "metadata": {
        "colab": {
          "base_uri": "https://localhost:8080/"
        },
        "id": "yuOEOzHOWNV-",
        "outputId": "3948887d-8cf3-4a35-d0ca-48cbcc8667a6"
      },
      "source": [
        "print(tags_df.shape)\n",
        "print(tags_df.head())"
      ],
      "execution_count": 10,
      "outputs": [
        {
          "output_type": "stream",
          "text": [
            "(3683, 4)\n",
            "   userId  movieId              tag   timestamp\n",
            "0       2    60756            funny  1445714994\n",
            "1       2    60756  Highly quotable  1445714996\n",
            "2       2    60756     will ferrell  1445714992\n",
            "3       2    89774     Boxing story  1445715207\n",
            "4       2    89774              MMA  1445715200\n"
          ],
          "name": "stdout"
        }
      ]
    },
    {
      "cell_type": "code",
      "metadata": {
        "colab": {
          "base_uri": "https://localhost:8080/"
        },
        "id": "G60Nf1gAWiSu",
        "outputId": "8045d9ef-2db8-47a3-fb78-cfb4fa2a7f43"
      },
      "source": [
        "print(movies_df.shape)\n",
        "print(movies_df.head())"
      ],
      "execution_count": 11,
      "outputs": [
        {
          "output_type": "stream",
          "text": [
            "(9742, 2)\n",
            "                                      title                                       genres\n",
            "movieId                                                                                 \n",
            "1                          Toy Story (1995)  Adventure|Animation|Children|Comedy|Fantasy\n",
            "2                            Jumanji (1995)                   Adventure|Children|Fantasy\n",
            "3                   Grumpier Old Men (1995)                               Comedy|Romance\n",
            "4                  Waiting to Exhale (1995)                         Comedy|Drama|Romance\n",
            "5        Father of the Bride Part II (1995)                                       Comedy\n"
          ],
          "name": "stdout"
        }
      ]
    },
    {
      "cell_type": "markdown",
      "metadata": {
        "id": "RwFBsjBgXGf1"
      },
      "source": [
        "# **Descriptive statics of rating data**\n"
      ]
    },
    {
      "cell_type": "code",
      "metadata": {
        "colab": {
          "base_uri": "https://localhost:8080/"
        },
        "id": "UjY-niZbXLAd",
        "outputId": "eeb2b34b-edd1-43f7-89ea-91d272db618c"
      },
      "source": [
        "# user 수\n",
        "n_unique_users = len(ratings_df['userId'].unique())\n",
        "print(n_unique_users)"
      ],
      "execution_count": 12,
      "outputs": [
        {
          "output_type": "stream",
          "text": [
            "610\n"
          ],
          "name": "stdout"
        }
      ]
    },
    {
      "cell_type": "code",
      "metadata": {
        "colab": {
          "base_uri": "https://localhost:8080/"
        },
        "id": "J1PjI_99Xtk0",
        "outputId": "89ae1910-cbb3-4128-b1e9-65bad4f1e2b5"
      },
      "source": [
        "# 영화 갯수\n",
        "n_unique_movies = len(ratings_df['movieId'].unique())\n",
        "print(n_unique_movies)"
      ],
      "execution_count": 15,
      "outputs": [
        {
          "output_type": "stream",
          "text": [
            "9724\n"
          ],
          "name": "stdout"
        }
      ]
    },
    {
      "cell_type": "code",
      "metadata": {
        "colab": {
          "base_uri": "https://localhost:8080/"
        },
        "id": "Ik2dn3zNYCI9",
        "outputId": "c22d0429-3a3e-4bd7-9df3-bbbdfb6e2c56"
      },
      "source": [
        "# 평점의 평균, 표준편차\n",
        "print(\"평점의 평균: \", ratings_df['rating'].mean() )\n",
        "print(\"평점의 표준편차: \", ratings_df['rating'].std())"
      ],
      "execution_count": 16,
      "outputs": [
        {
          "output_type": "stream",
          "text": [
            "평점의 평균:  3.501556983616962\n",
            "평점의 표준편차:  1.0425292390605359\n"
          ],
          "name": "stdout"
        }
      ]
    },
    {
      "cell_type": "code",
      "metadata": {
        "colab": {
          "base_uri": "https://localhost:8080/"
        },
        "id": "pF_ky4lLYZ30",
        "outputId": "4bf68a42-99ec-4fb0-b49a-d0a82a720ad7"
      },
      "source": [
        "ratings_df.info()"
      ],
      "execution_count": 17,
      "outputs": [
        {
          "output_type": "stream",
          "text": [
            "<class 'pandas.core.frame.DataFrame'>\n",
            "RangeIndex: 100836 entries, 0 to 100835\n",
            "Data columns (total 4 columns):\n",
            " #   Column     Non-Null Count   Dtype  \n",
            "---  ------     --------------   -----  \n",
            " 0   userId     100836 non-null  int64  \n",
            " 1   movieId    100836 non-null  int64  \n",
            " 2   rating     100836 non-null  float64\n",
            " 3   timestamp  100836 non-null  int64  \n",
            "dtypes: float64(1), int64(3)\n",
            "memory usage: 3.1 MB\n"
          ],
          "name": "stdout"
        }
      ]
    },
    {
      "cell_type": "code",
      "metadata": {
        "colab": {
          "base_uri": "https://localhost:8080/",
          "height": 297
        },
        "id": "s1T3rATKYcf0",
        "outputId": "5be60df6-ec75-40d3-8bfb-0afea3128b1b"
      },
      "source": [
        "ratings_df.describe()"
      ],
      "execution_count": 18,
      "outputs": [
        {
          "output_type": "execute_result",
          "data": {
            "text/html": [
              "<div>\n",
              "<style scoped>\n",
              "    .dataframe tbody tr th:only-of-type {\n",
              "        vertical-align: middle;\n",
              "    }\n",
              "\n",
              "    .dataframe tbody tr th {\n",
              "        vertical-align: top;\n",
              "    }\n",
              "\n",
              "    .dataframe thead th {\n",
              "        text-align: right;\n",
              "    }\n",
              "</style>\n",
              "<table border=\"1\" class=\"dataframe\">\n",
              "  <thead>\n",
              "    <tr style=\"text-align: right;\">\n",
              "      <th></th>\n",
              "      <th>userId</th>\n",
              "      <th>movieId</th>\n",
              "      <th>rating</th>\n",
              "      <th>timestamp</th>\n",
              "    </tr>\n",
              "  </thead>\n",
              "  <tbody>\n",
              "    <tr>\n",
              "      <th>count</th>\n",
              "      <td>100836.000000</td>\n",
              "      <td>100836.000000</td>\n",
              "      <td>100836.000000</td>\n",
              "      <td>1.008360e+05</td>\n",
              "    </tr>\n",
              "    <tr>\n",
              "      <th>mean</th>\n",
              "      <td>326.127564</td>\n",
              "      <td>19435.295718</td>\n",
              "      <td>3.501557</td>\n",
              "      <td>1.205946e+09</td>\n",
              "    </tr>\n",
              "    <tr>\n",
              "      <th>std</th>\n",
              "      <td>182.618491</td>\n",
              "      <td>35530.987199</td>\n",
              "      <td>1.042529</td>\n",
              "      <td>2.162610e+08</td>\n",
              "    </tr>\n",
              "    <tr>\n",
              "      <th>min</th>\n",
              "      <td>1.000000</td>\n",
              "      <td>1.000000</td>\n",
              "      <td>0.500000</td>\n",
              "      <td>8.281246e+08</td>\n",
              "    </tr>\n",
              "    <tr>\n",
              "      <th>25%</th>\n",
              "      <td>177.000000</td>\n",
              "      <td>1199.000000</td>\n",
              "      <td>3.000000</td>\n",
              "      <td>1.019124e+09</td>\n",
              "    </tr>\n",
              "    <tr>\n",
              "      <th>50%</th>\n",
              "      <td>325.000000</td>\n",
              "      <td>2991.000000</td>\n",
              "      <td>3.500000</td>\n",
              "      <td>1.186087e+09</td>\n",
              "    </tr>\n",
              "    <tr>\n",
              "      <th>75%</th>\n",
              "      <td>477.000000</td>\n",
              "      <td>8122.000000</td>\n",
              "      <td>4.000000</td>\n",
              "      <td>1.435994e+09</td>\n",
              "    </tr>\n",
              "    <tr>\n",
              "      <th>max</th>\n",
              "      <td>610.000000</td>\n",
              "      <td>193609.000000</td>\n",
              "      <td>5.000000</td>\n",
              "      <td>1.537799e+09</td>\n",
              "    </tr>\n",
              "  </tbody>\n",
              "</table>\n",
              "</div>"
            ],
            "text/plain": [
              "              userId        movieId         rating     timestamp\n",
              "count  100836.000000  100836.000000  100836.000000  1.008360e+05\n",
              "mean      326.127564   19435.295718       3.501557  1.205946e+09\n",
              "std       182.618491   35530.987199       1.042529  2.162610e+08\n",
              "min         1.000000       1.000000       0.500000  8.281246e+08\n",
              "25%       177.000000    1199.000000       3.000000  1.019124e+09\n",
              "50%       325.000000    2991.000000       3.500000  1.186087e+09\n",
              "75%       477.000000    8122.000000       4.000000  1.435994e+09\n",
              "max       610.000000  193609.000000       5.000000  1.537799e+09"
            ]
          },
          "metadata": {
            "tags": []
          },
          "execution_count": 18
        }
      ]
    },
    {
      "cell_type": "code",
      "metadata": {
        "colab": {
          "base_uri": "https://localhost:8080/"
        },
        "id": "pJAwtgiSYfjs",
        "outputId": "5cb31042-eb47-494c-e345-791ceac15e2e"
      },
      "source": [
        "# nan값 확인\n",
        "ratings_df.isnull().sum()"
      ],
      "execution_count": 19,
      "outputs": [
        {
          "output_type": "execute_result",
          "data": {
            "text/plain": [
              "userId       0\n",
              "movieId      0\n",
              "rating       0\n",
              "timestamp    0\n",
              "dtype: int64"
            ]
          },
          "metadata": {
            "tags": []
          },
          "execution_count": 19
        }
      ]
    },
    {
      "cell_type": "markdown",
      "metadata": {
        "id": "VXTh82IlZAGP"
      },
      "source": [
        "rating 히스토그램"
      ]
    },
    {
      "cell_type": "code",
      "metadata": {
        "colab": {
          "base_uri": "https://localhost:8080/",
          "height": 283
        },
        "id": "m40rgkh0YyYr",
        "outputId": "59f79486-9642-4251-fc77-aec2286cdd83"
      },
      "source": [
        "ratings_df['rating'].hist()"
      ],
      "execution_count": 23,
      "outputs": [
        {
          "output_type": "execute_result",
          "data": {
            "text/plain": [
              "<matplotlib.axes._subplots.AxesSubplot at 0x7f77db14f410>"
            ]
          },
          "metadata": {
            "tags": []
          },
          "execution_count": 23
        },
        {
          "output_type": "display_data",
          "data": {
            "image/png": "[encoded data removed]",
            "text/plain": [
              "<Figure size 432x288 with 1 Axes>"
            ]
          },
          "metadata": {
            "tags": [],
            "needs_background": "light"
          }
        }
      ]
    },
    {
      "cell_type": "markdown",
      "metadata": {
        "id": "uYZPpsq3ZnXj"
      },
      "source": [
        "## Descriptive statistics based on userId and rating"
      ]
    },
    {
      "cell_type": "code",
      "metadata": {
        "colab": {
          "base_uri": "https://localhost:8080/"
        },
        "id": "An-vTIHzY92M",
        "outputId": "552687af-aeb3-4fbf-d76f-e70003647f44"
      },
      "source": [
        "ratings_df.groupby(['userId', 'rating']).size()"
      ],
      "execution_count": 22,
      "outputs": [
        {
          "output_type": "execute_result",
          "data": {
            "text/plain": [
              "userId  rating\n",
              "1       1.0         1\n",
              "        2.0         5\n",
              "        3.0        26\n",
              "        4.0        76\n",
              "        5.0       124\n",
              "                 ... \n",
              "610     3.0       230\n",
              "        3.5       315\n",
              "        4.0       286\n",
              "        4.5       148\n",
              "        5.0       180\n",
              "Length: 3976, dtype: int64"
            ]
          },
          "metadata": {
            "tags": []
          },
          "execution_count": 22
        }
      ]
    },
    {
      "cell_type": "code",
      "metadata": {
        "colab": {
          "base_uri": "https://localhost:8080/",
          "height": 450
        },
        "id": "eqcsGOatZZqi",
        "outputId": "647b8e12-f758-479b-c975-d0fe489ab7de"
      },
      "source": [
        "# 유저 별 rating 평균 확인\n",
        "ratings_df.groupby(['userId']).mean()"
      ],
      "execution_count": 25,
      "outputs": [
        {
          "output_type": "execute_result",
          "data": {
            "text/html": [
              "<div>\n",
              "<style scoped>\n",
              "    .dataframe tbody tr th:only-of-type {\n",
              "        vertical-align: middle;\n",
              "    }\n",
              "\n",
              "    .dataframe tbody tr th {\n",
              "        vertical-align: top;\n",
              "    }\n",
              "\n",
              "    .dataframe thead th {\n",
              "        text-align: right;\n",
              "    }\n",
              "</style>\n",
              "<table border=\"1\" class=\"dataframe\">\n",
              "  <thead>\n",
              "    <tr style=\"text-align: right;\">\n",
              "      <th></th>\n",
              "      <th>movieId</th>\n",
              "      <th>rating</th>\n",
              "      <th>timestamp</th>\n",
              "    </tr>\n",
              "    <tr>\n",
              "      <th>userId</th>\n",
              "      <th></th>\n",
              "      <th></th>\n",
              "      <th></th>\n",
              "    </tr>\n",
              "  </thead>\n",
              "  <tbody>\n",
              "    <tr>\n",
              "      <th>1</th>\n",
              "      <td>1854.603448</td>\n",
              "      <td>4.366379</td>\n",
              "      <td>9.649856e+08</td>\n",
              "    </tr>\n",
              "    <tr>\n",
              "      <th>2</th>\n",
              "      <td>70350.275862</td>\n",
              "      <td>3.948276</td>\n",
              "      <td>1.445715e+09</td>\n",
              "    </tr>\n",
              "    <tr>\n",
              "      <th>3</th>\n",
              "      <td>7058.384615</td>\n",
              "      <td>2.435897</td>\n",
              "      <td>1.306464e+09</td>\n",
              "    </tr>\n",
              "    <tr>\n",
              "      <th>4</th>\n",
              "      <td>1982.129630</td>\n",
              "      <td>3.555556</td>\n",
              "      <td>9.658643e+08</td>\n",
              "    </tr>\n",
              "    <tr>\n",
              "      <th>5</th>\n",
              "      <td>343.840909</td>\n",
              "      <td>3.636364</td>\n",
              "      <td>8.474351e+08</td>\n",
              "    </tr>\n",
              "    <tr>\n",
              "      <th>...</th>\n",
              "      <td>...</td>\n",
              "      <td>...</td>\n",
              "      <td>...</td>\n",
              "    </tr>\n",
              "    <tr>\n",
              "      <th>606</th>\n",
              "      <td>9692.197309</td>\n",
              "      <td>3.657399</td>\n",
              "      <td>1.179512e+09</td>\n",
              "    </tr>\n",
              "    <tr>\n",
              "      <th>607</th>\n",
              "      <td>1860.636364</td>\n",
              "      <td>3.786096</td>\n",
              "      <td>9.647841e+08</td>\n",
              "    </tr>\n",
              "    <tr>\n",
              "      <th>608</th>\n",
              "      <td>4502.605295</td>\n",
              "      <td>3.134176</td>\n",
              "      <td>1.122668e+09</td>\n",
              "    </tr>\n",
              "    <tr>\n",
              "      <th>609</th>\n",
              "      <td>483.162162</td>\n",
              "      <td>3.270270</td>\n",
              "      <td>8.472210e+08</td>\n",
              "    </tr>\n",
              "    <tr>\n",
              "      <th>610</th>\n",
              "      <td>49590.231183</td>\n",
              "      <td>3.688556</td>\n",
              "      <td>1.489454e+09</td>\n",
              "    </tr>\n",
              "  </tbody>\n",
              "</table>\n",
              "<p>610 rows × 3 columns</p>\n",
              "</div>"
            ],
            "text/plain": [
              "             movieId    rating     timestamp\n",
              "userId                                      \n",
              "1        1854.603448  4.366379  9.649856e+08\n",
              "2       70350.275862  3.948276  1.445715e+09\n",
              "3        7058.384615  2.435897  1.306464e+09\n",
              "4        1982.129630  3.555556  9.658643e+08\n",
              "5         343.840909  3.636364  8.474351e+08\n",
              "...              ...       ...           ...\n",
              "606      9692.197309  3.657399  1.179512e+09\n",
              "607      1860.636364  3.786096  9.647841e+08\n",
              "608      4502.605295  3.134176  1.122668e+09\n",
              "609       483.162162  3.270270  8.472210e+08\n",
              "610     49590.231183  3.688556  1.489454e+09\n",
              "\n",
              "[610 rows x 3 columns]"
            ]
          },
          "metadata": {
            "tags": []
          },
          "execution_count": 25
        }
      ]
    },
    {
      "cell_type": "code",
      "metadata": {
        "colab": {
          "base_uri": "https://localhost:8080/",
          "height": 359
        },
        "id": "gXztmNWWaE6q",
        "outputId": "15953a9f-7f98-4be3-c872-b071cc609d2c"
      },
      "source": [
        "# user 별 rating 개수 데이터프레임 \n",
        "userid_rating_df = pd.DataFrame({'count': ratings_df.groupby(['userId', 'rating']).size()})\n",
        "userid_rating_df = userid_rating_df.reset_index()\n",
        "userid_rating_df.head(10)"
      ],
      "execution_count": 27,
      "outputs": [
        {
          "output_type": "execute_result",
          "data": {
            "text/html": [
              "<div>\n",
              "<style scoped>\n",
              "    .dataframe tbody tr th:only-of-type {\n",
              "        vertical-align: middle;\n",
              "    }\n",
              "\n",
              "    .dataframe tbody tr th {\n",
              "        vertical-align: top;\n",
              "    }\n",
              "\n",
              "    .dataframe thead th {\n",
              "        text-align: right;\n",
              "    }\n",
              "</style>\n",
              "<table border=\"1\" class=\"dataframe\">\n",
              "  <thead>\n",
              "    <tr style=\"text-align: right;\">\n",
              "      <th></th>\n",
              "      <th>userId</th>\n",
              "      <th>rating</th>\n",
              "      <th>count</th>\n",
              "    </tr>\n",
              "  </thead>\n",
              "  <tbody>\n",
              "    <tr>\n",
              "      <th>0</th>\n",
              "      <td>1</td>\n",
              "      <td>1.0</td>\n",
              "      <td>1</td>\n",
              "    </tr>\n",
              "    <tr>\n",
              "      <th>1</th>\n",
              "      <td>1</td>\n",
              "      <td>2.0</td>\n",
              "      <td>5</td>\n",
              "    </tr>\n",
              "    <tr>\n",
              "      <th>2</th>\n",
              "      <td>1</td>\n",
              "      <td>3.0</td>\n",
              "      <td>26</td>\n",
              "    </tr>\n",
              "    <tr>\n",
              "      <th>3</th>\n",
              "      <td>1</td>\n",
              "      <td>4.0</td>\n",
              "      <td>76</td>\n",
              "    </tr>\n",
              "    <tr>\n",
              "      <th>4</th>\n",
              "      <td>1</td>\n",
              "      <td>5.0</td>\n",
              "      <td>124</td>\n",
              "    </tr>\n",
              "    <tr>\n",
              "      <th>5</th>\n",
              "      <td>2</td>\n",
              "      <td>2.0</td>\n",
              "      <td>1</td>\n",
              "    </tr>\n",
              "    <tr>\n",
              "      <th>6</th>\n",
              "      <td>2</td>\n",
              "      <td>2.5</td>\n",
              "      <td>1</td>\n",
              "    </tr>\n",
              "    <tr>\n",
              "      <th>7</th>\n",
              "      <td>2</td>\n",
              "      <td>3.0</td>\n",
              "      <td>4</td>\n",
              "    </tr>\n",
              "    <tr>\n",
              "      <th>8</th>\n",
              "      <td>2</td>\n",
              "      <td>3.5</td>\n",
              "      <td>4</td>\n",
              "    </tr>\n",
              "    <tr>\n",
              "      <th>9</th>\n",
              "      <td>2</td>\n",
              "      <td>4.0</td>\n",
              "      <td>9</td>\n",
              "    </tr>\n",
              "  </tbody>\n",
              "</table>\n",
              "</div>"
            ],
            "text/plain": [
              "   userId  rating  count\n",
              "0       1     1.0      1\n",
              "1       1     2.0      5\n",
              "2       1     3.0     26\n",
              "3       1     4.0     76\n",
              "4       1     5.0    124\n",
              "5       2     2.0      1\n",
              "6       2     2.5      1\n",
              "7       2     3.0      4\n",
              "8       2     3.5      4\n",
              "9       2     4.0      9"
            ]
          },
          "metadata": {
            "tags": []
          },
          "execution_count": 27
        }
      ]
    },
    {
      "cell_type": "code",
      "metadata": {
        "colab": {
          "base_uri": "https://localhost:8080/"
        },
        "id": "9D3zDM72bBuR",
        "outputId": "f46d331f-70ca-4f04-e059-e682507daae8"
      },
      "source": [
        "user_info = ratings_df.groupby('userId')['movieId'].count()\n",
        "user_info"
      ],
      "execution_count": 30,
      "outputs": [
        {
          "output_type": "execute_result",
          "data": {
            "text/plain": [
              "userId\n",
              "1       232\n",
              "2        29\n",
              "3        39\n",
              "4       216\n",
              "5        44\n",
              "       ... \n",
              "606    1115\n",
              "607     187\n",
              "608     831\n",
              "609      37\n",
              "610    1302\n",
              "Name: movieId, Length: 610, dtype: int64"
            ]
          },
          "metadata": {
            "tags": []
          },
          "execution_count": 30
        }
      ]
    },
    {
      "cell_type": "code",
      "metadata": {
        "colab": {
          "base_uri": "https://localhost:8080/"
        },
        "id": "Dh52i6neb3iS",
        "outputId": "50c93ce0-de84-4c7f-dc42-3e83f9e82480"
      },
      "source": [
        "user_info.describe()"
      ],
      "execution_count": 29,
      "outputs": [
        {
          "output_type": "execute_result",
          "data": {
            "text/plain": [
              "count     610.000000\n",
              "mean      165.304918\n",
              "std       269.480584\n",
              "min        20.000000\n",
              "25%        35.000000\n",
              "50%        70.500000\n",
              "75%       168.000000\n",
              "max      2698.000000\n",
              "Name: movieId, dtype: float64"
            ]
          },
          "metadata": {
            "tags": []
          },
          "execution_count": 29
        }
      ]
    },
    {
      "cell_type": "code",
      "metadata": {
        "colab": {
          "base_uri": "https://localhost:8080/",
          "height": 339
        },
        "id": "ADrD906Yb6_A",
        "outputId": "8bd8dee8-896a-4f53-cd18-5e89027f05f1"
      },
      "source": [
        "# 시각화\n",
        "import seaborn as sns\n",
        "sns.distplot(user_info.values)"
      ],
      "execution_count": 31,
      "outputs": [
        {
          "output_type": "stream",
          "text": [
            "/usr/local/lib/python3.7/dist-packages/seaborn/distributions.py:2557: FutureWarning: `distplot` is a deprecated function and will be removed in a future version. Please adapt your code to use either `displot` (a figure-level function with similar flexibility) or `histplot` (an axes-level function for histograms).\n",
            "  warnings.warn(msg, FutureWarning)\n"
          ],
          "name": "stderr"
        },
        {
          "output_type": "execute_result",
          "data": {
            "text/plain": [
              "<matplotlib.axes._subplots.AxesSubplot at 0x7f77cc250ad0>"
            ]
          },
          "metadata": {
            "tags": []
          },
          "execution_count": 31
        },
        {
          "output_type": "display_data",
          "data": {
            "image/png": "[encoded data removed]",
            "text/plain": [
              "<Figure size 432x288 with 1 Axes>"
            ]
          },
          "metadata": {
            "tags": [],
            "needs_background": "light"
          }
        }
      ]
    },
    {
      "cell_type": "markdown",
      "metadata": {
        "id": "cMx0Sqnzcii8"
      },
      "source": [
        "특정 유저들이 평점을 많이 매긴 것을 알 수 있음 -> bias 위험성 존재"
      ]
    },
    {
      "cell_type": "code",
      "metadata": {
        "colab": {
          "base_uri": "https://localhost:8080/"
        },
        "id": "hAHlP2N1ckof",
        "outputId": "65ed0fb1-c1b2-40fa-f318-5d371a735b4a"
      },
      "source": [
        "# user가 평균적으로 준 평점과 평점을 준 영화 수 \n",
        "stats_df = pd.DataFrame({\n",
        "      'movie_count' : ratings_df.groupby('userId')['movieId'].count(),\n",
        "      'rating_avg' : ratings_df.groupby('userId')['rating'].mean(),\n",
        "      'rating_std' : ratings_df.groupby('userId')['rating'].std()})\n",
        "\n",
        "print(stats_df.shape)\n",
        "print(stats_df.head())"
      ],
      "execution_count": 32,
      "outputs": [
        {
          "output_type": "stream",
          "text": [
            "(610, 3)\n",
            "        movie_count  rating_avg  rating_std\n",
            "userId                                     \n",
            "1               232    4.366379    0.800048\n",
            "2                29    3.948276    0.805615\n",
            "3                39    2.435897    2.090642\n",
            "4               216    3.555556    1.314204\n",
            "5                44    3.636364    0.990441\n"
          ],
          "name": "stdout"
        }
      ]
    },
    {
      "cell_type": "markdown",
      "metadata": {
        "id": "qZFxrQFrd4Rh"
      },
      "source": [
        "userid 3번은 분포가 높으므로 다양하게 점수를 매겼다는 것을 확인"
      ]
    },
    {
      "cell_type": "code",
      "metadata": {
        "colab": {
          "base_uri": "https://localhost:8080/"
        },
        "id": "jeMtmISudtDI",
        "outputId": "25599fd5-cfec-4fcb-8734-7e971e47f55e"
      },
      "source": [
        "# rating이 많은 영화 (사람들이 관심 많은 영화)\n",
        "movieid_user_df = pd.DataFrame({\n",
        "    'num_users_watch' : ratings_df.groupby('movieId')['userId'].count(),\n",
        "    'avg_ratings' : ratings_df.groupby('movieId')['rating'].mean(),\n",
        "    'std_ratings' : ratings_df.groupby('movieId')['rating'].std()})\n",
        "\n",
        "movieid_user_df = movieid_user_df.reset_index()\n",
        "print(movieid_user_df.shape)\n",
        "print(movieid_user_df.head())"
      ],
      "execution_count": 34,
      "outputs": [
        {
          "output_type": "stream",
          "text": [
            "(9724, 4)\n",
            "   movieId  num_users_watch  avg_ratings  std_ratings\n",
            "0        1              215     3.920930     0.834859\n",
            "1        2              110     3.431818     0.881713\n",
            "2        3               52     3.259615     1.054823\n",
            "3        4                7     2.357143     0.852168\n",
            "4        5               49     3.071429     0.907148\n"
          ],
          "name": "stdout"
        }
      ]
    },
    {
      "cell_type": "code",
      "metadata": {
        "colab": {
          "base_uri": "https://localhost:8080/",
          "height": 535
        },
        "id": "QM_1KYVeeizI",
        "outputId": "3113abd6-267f-47e7-9fdc-fe9407455aaa"
      },
      "source": [
        "print(movieid_user_df.sort_values(by='num_users_watch', ascending=False))\n",
        "\n",
        "movieid_user_df['num_users_watch'].hist()"
      ],
      "execution_count": 36,
      "outputs": [
        {
          "output_type": "stream",
          "text": [
            "      movieId  num_users_watch  avg_ratings  std_ratings\n",
            "314       356              329     4.164134     0.831244\n",
            "277       318              317     4.429022     0.713019\n",
            "257       296              307     4.197068     0.951997\n",
            "510       593              279     4.161290     0.853983\n",
            "1938     2571              278     4.192446     0.975243\n",
            "...       ...              ...          ...          ...\n",
            "3053     4093                1     1.500000          NaN\n",
            "3049     4089                1     2.000000          NaN\n",
            "6687    58351                1     4.000000          NaN\n",
            "3045     4083                1     4.000000          NaN\n",
            "9723   193609                1     4.000000          NaN\n",
            "\n",
            "[9724 rows x 4 columns]\n"
          ],
          "name": "stdout"
        },
        {
          "output_type": "execute_result",
          "data": {
            "text/plain": [
              "<matplotlib.axes._subplots.AxesSubplot at 0x7f77c8dde990>"
            ]
          },
          "metadata": {
            "tags": []
          },
          "execution_count": 36
        },
        {
          "output_type": "display_data",
          "data": {
            "image/png": "[encoded data removed]",
            "text/plain": [
              "<Figure size 432x288 with 1 Axes>"
            ]
          },
          "metadata": {
            "tags": [],
            "needs_background": "light"
          }
        }
      ]
    },
    {
      "cell_type": "markdown",
      "metadata": {
        "id": "ZPL4Ue8Af2hf"
      },
      "source": [
        "평점이 높은 영화, 평점을 많이 받은 영화"
      ]
    },
    {
      "cell_type": "code",
      "metadata": {
        "colab": {
          "base_uri": "https://localhost:8080/",
          "height": 235
        },
        "id": "ZErp2-8ze4im",
        "outputId": "600a383d-8428-4132-c75f-ed4d865b4b7e"
      },
      "source": [
        "movies_df.head()"
      ],
      "execution_count": 37,
      "outputs": [
        {
          "output_type": "execute_result",
          "data": {
            "text/html": [
              "<div>\n",
              "<style scoped>\n",
              "    .dataframe tbody tr th:only-of-type {\n",
              "        vertical-align: middle;\n",
              "    }\n",
              "\n",
              "    .dataframe tbody tr th {\n",
              "        vertical-align: top;\n",
              "    }\n",
              "\n",
              "    .dataframe thead th {\n",
              "        text-align: right;\n",
              "    }\n",
              "</style>\n",
              "<table border=\"1\" class=\"dataframe\">\n",
              "  <thead>\n",
              "    <tr style=\"text-align: right;\">\n",
              "      <th></th>\n",
              "      <th>title</th>\n",
              "      <th>genres</th>\n",
              "    </tr>\n",
              "    <tr>\n",
              "      <th>movieId</th>\n",
              "      <th></th>\n",
              "      <th></th>\n",
              "    </tr>\n",
              "  </thead>\n",
              "  <tbody>\n",
              "    <tr>\n",
              "      <th>1</th>\n",
              "      <td>Toy Story (1995)</td>\n",
              "      <td>Adventure|Animation|Children|Comedy|Fantasy</td>\n",
              "    </tr>\n",
              "    <tr>\n",
              "      <th>2</th>\n",
              "      <td>Jumanji (1995)</td>\n",
              "      <td>Adventure|Children|Fantasy</td>\n",
              "    </tr>\n",
              "    <tr>\n",
              "      <th>3</th>\n",
              "      <td>Grumpier Old Men (1995)</td>\n",
              "      <td>Comedy|Romance</td>\n",
              "    </tr>\n",
              "    <tr>\n",
              "      <th>4</th>\n",
              "      <td>Waiting to Exhale (1995)</td>\n",
              "      <td>Comedy|Drama|Romance</td>\n",
              "    </tr>\n",
              "    <tr>\n",
              "      <th>5</th>\n",
              "      <td>Father of the Bride Part II (1995)</td>\n",
              "      <td>Comedy</td>\n",
              "    </tr>\n",
              "  </tbody>\n",
              "</table>\n",
              "</div>"
            ],
            "text/plain": [
              "                                      title                                       genres\n",
              "movieId                                                                                 \n",
              "1                          Toy Story (1995)  Adventure|Animation|Children|Comedy|Fantasy\n",
              "2                            Jumanji (1995)                   Adventure|Children|Fantasy\n",
              "3                   Grumpier Old Men (1995)                               Comedy|Romance\n",
              "4                  Waiting to Exhale (1995)                         Comedy|Drama|Romance\n",
              "5        Father of the Bride Part II (1995)                                       Comedy"
            ]
          },
          "metadata": {
            "tags": []
          },
          "execution_count": 37
        }
      ]
    },
    {
      "cell_type": "code",
      "metadata": {
        "colab": {
          "base_uri": "https://localhost:8080/"
        },
        "id": "pTpcbKIUf8bd",
        "outputId": "290f75ab-51a5-4da9-89b0-547df64b1d99"
      },
      "source": [
        "# 평점을 많이 받은 영화\n",
        "ratings_count_df = ratings_df.groupby('movieId')['userId'].count()\n",
        "ratings_count_df.head()"
      ],
      "execution_count": 38,
      "outputs": [
        {
          "output_type": "execute_result",
          "data": {
            "text/plain": [
              "movieId\n",
              "1    215\n",
              "2    110\n",
              "3     52\n",
              "4      7\n",
              "5     49\n",
              "Name: userId, dtype: int64"
            ]
          },
          "metadata": {
            "tags": []
          },
          "execution_count": 38
        }
      ]
    },
    {
      "cell_type": "code",
      "metadata": {
        "id": "bYkVcpipgHHL"
      },
      "source": [
        "df = pd.DataFrame({\n",
        "    'ratings_count' : ratings_df.groupby('movieId')['userId'].count()\n",
        "})"
      ],
      "execution_count": 39,
      "outputs": []
    },
    {
      "cell_type": "code",
      "metadata": {
        "colab": {
          "base_uri": "https://localhost:8080/",
          "height": 235
        },
        "id": "ICkr32higWib",
        "outputId": "61681dd8-ce4e-46ac-efa2-14d4964d5e47"
      },
      "source": [
        "df['movie_name'] = df.apply(lambda x : movies_df['title'].loc[x.index])\n",
        "df.head()"
      ],
      "execution_count": 41,
      "outputs": [
        {
          "output_type": "execute_result",
          "data": {
            "text/html": [
              "<div>\n",
              "<style scoped>\n",
              "    .dataframe tbody tr th:only-of-type {\n",
              "        vertical-align: middle;\n",
              "    }\n",
              "\n",
              "    .dataframe tbody tr th {\n",
              "        vertical-align: top;\n",
              "    }\n",
              "\n",
              "    .dataframe thead th {\n",
              "        text-align: right;\n",
              "    }\n",
              "</style>\n",
              "<table border=\"1\" class=\"dataframe\">\n",
              "  <thead>\n",
              "    <tr style=\"text-align: right;\">\n",
              "      <th></th>\n",
              "      <th>ratings_count</th>\n",
              "      <th>movie_name</th>\n",
              "    </tr>\n",
              "    <tr>\n",
              "      <th>movieId</th>\n",
              "      <th></th>\n",
              "      <th></th>\n",
              "    </tr>\n",
              "  </thead>\n",
              "  <tbody>\n",
              "    <tr>\n",
              "      <th>1</th>\n",
              "      <td>215</td>\n",
              "      <td>Toy Story (1995)</td>\n",
              "    </tr>\n",
              "    <tr>\n",
              "      <th>2</th>\n",
              "      <td>110</td>\n",
              "      <td>Jumanji (1995)</td>\n",
              "    </tr>\n",
              "    <tr>\n",
              "      <th>3</th>\n",
              "      <td>52</td>\n",
              "      <td>Grumpier Old Men (1995)</td>\n",
              "    </tr>\n",
              "    <tr>\n",
              "      <th>4</th>\n",
              "      <td>7</td>\n",
              "      <td>Waiting to Exhale (1995)</td>\n",
              "    </tr>\n",
              "    <tr>\n",
              "      <th>5</th>\n",
              "      <td>49</td>\n",
              "      <td>Father of the Bride Part II (1995)</td>\n",
              "    </tr>\n",
              "  </tbody>\n",
              "</table>\n",
              "</div>"
            ],
            "text/plain": [
              "         ratings_count                          movie_name\n",
              "movieId                                                   \n",
              "1                  215                    Toy Story (1995)\n",
              "2                  110                      Jumanji (1995)\n",
              "3                   52             Grumpier Old Men (1995)\n",
              "4                    7            Waiting to Exhale (1995)\n",
              "5                   49  Father of the Bride Part II (1995)"
            ]
          },
          "metadata": {
            "tags": []
          },
          "execution_count": 41
        }
      ]
    },
    {
      "cell_type": "code",
      "metadata": {
        "colab": {
          "base_uri": "https://localhost:8080/",
          "height": 450
        },
        "id": "z3OIP9ltg8p7",
        "outputId": "b86e55ff-35af-4a8f-8f60-c645c9e88296"
      },
      "source": [
        "df.sort_values(by='ratings_count', ascending=False)"
      ],
      "execution_count": 42,
      "outputs": [
        {
          "output_type": "execute_result",
          "data": {
            "text/html": [
              "<div>\n",
              "<style scoped>\n",
              "    .dataframe tbody tr th:only-of-type {\n",
              "        vertical-align: middle;\n",
              "    }\n",
              "\n",
              "    .dataframe tbody tr th {\n",
              "        vertical-align: top;\n",
              "    }\n",
              "\n",
              "    .dataframe thead th {\n",
              "        text-align: right;\n",
              "    }\n",
              "</style>\n",
              "<table border=\"1\" class=\"dataframe\">\n",
              "  <thead>\n",
              "    <tr style=\"text-align: right;\">\n",
              "      <th></th>\n",
              "      <th>ratings_count</th>\n",
              "      <th>movie_name</th>\n",
              "    </tr>\n",
              "    <tr>\n",
              "      <th>movieId</th>\n",
              "      <th></th>\n",
              "      <th></th>\n",
              "    </tr>\n",
              "  </thead>\n",
              "  <tbody>\n",
              "    <tr>\n",
              "      <th>356</th>\n",
              "      <td>329</td>\n",
              "      <td>Forrest Gump (1994)</td>\n",
              "    </tr>\n",
              "    <tr>\n",
              "      <th>318</th>\n",
              "      <td>317</td>\n",
              "      <td>Shawshank Redemption, The (1994)</td>\n",
              "    </tr>\n",
              "    <tr>\n",
              "      <th>296</th>\n",
              "      <td>307</td>\n",
              "      <td>Pulp Fiction (1994)</td>\n",
              "    </tr>\n",
              "    <tr>\n",
              "      <th>593</th>\n",
              "      <td>279</td>\n",
              "      <td>Silence of the Lambs, The (1991)</td>\n",
              "    </tr>\n",
              "    <tr>\n",
              "      <th>2571</th>\n",
              "      <td>278</td>\n",
              "      <td>Matrix, The (1999)</td>\n",
              "    </tr>\n",
              "    <tr>\n",
              "      <th>...</th>\n",
              "      <td>...</td>\n",
              "      <td>...</td>\n",
              "    </tr>\n",
              "    <tr>\n",
              "      <th>4093</th>\n",
              "      <td>1</td>\n",
              "      <td>Cop (1988)</td>\n",
              "    </tr>\n",
              "    <tr>\n",
              "      <th>4089</th>\n",
              "      <td>1</td>\n",
              "      <td>Born in East L.A. (1987)</td>\n",
              "    </tr>\n",
              "    <tr>\n",
              "      <th>58351</th>\n",
              "      <td>1</td>\n",
              "      <td>City of Men (Cidade dos Homens) (2007)</td>\n",
              "    </tr>\n",
              "    <tr>\n",
              "      <th>4083</th>\n",
              "      <td>1</td>\n",
              "      <td>Best Seller (1987)</td>\n",
              "    </tr>\n",
              "    <tr>\n",
              "      <th>193609</th>\n",
              "      <td>1</td>\n",
              "      <td>Andrew Dice Clay: Dice Rules (1991)</td>\n",
              "    </tr>\n",
              "  </tbody>\n",
              "</table>\n",
              "<p>9724 rows × 2 columns</p>\n",
              "</div>"
            ],
            "text/plain": [
              "         ratings_count                              movie_name\n",
              "movieId                                                       \n",
              "356                329                     Forrest Gump (1994)\n",
              "318                317        Shawshank Redemption, The (1994)\n",
              "296                307                     Pulp Fiction (1994)\n",
              "593                279        Silence of the Lambs, The (1991)\n",
              "2571               278                      Matrix, The (1999)\n",
              "...                ...                                     ...\n",
              "4093                 1                              Cop (1988)\n",
              "4089                 1                Born in East L.A. (1987)\n",
              "58351                1  City of Men (Cidade dos Homens) (2007)\n",
              "4083                 1                      Best Seller (1987)\n",
              "193609               1     Andrew Dice Clay: Dice Rules (1991)\n",
              "\n",
              "[9724 rows x 2 columns]"
            ]
          },
          "metadata": {
            "tags": []
          },
          "execution_count": 42
        }
      ]
    },
    {
      "cell_type": "markdown",
      "metadata": {
        "id": "FWyB9hn7hVLg"
      },
      "source": [
        "**특정 영화 평점 분포 확인**<br/>\n",
        "356\t329\tForrest Gump (1994)<br/>\n",
        "318\t317\tShawshank Redemption, The (1994)<br/>"
      ]
    },
    {
      "cell_type": "code",
      "metadata": {
        "colab": {
          "base_uri": "https://localhost:8080/",
          "height": 284
        },
        "id": "nzed3U8zhKWy",
        "outputId": "9746da3a-825f-4369-ee2d-257a41c108e1"
      },
      "source": [
        "ratings_df[ratings_df.movieId == 356]['rating'].hist()"
      ],
      "execution_count": 43,
      "outputs": [
        {
          "output_type": "execute_result",
          "data": {
            "text/plain": [
              "<matplotlib.axes._subplots.AxesSubplot at 0x7f77c8ccd510>"
            ]
          },
          "metadata": {
            "tags": []
          },
          "execution_count": 43
        },
        {
          "output_type": "display_data",
          "data": {
            "image/png": "[encoded data removed]",
            "text/plain": [
              "<Figure size 432x288 with 1 Axes>"
            ]
          },
          "metadata": {
            "tags": [],
            "needs_background": "light"
          }
        }
      ]
    },
    {
      "cell_type": "code",
      "metadata": {
        "colab": {
          "base_uri": "https://localhost:8080/",
          "height": 286
        },
        "id": "VJz0kPFThjxy",
        "outputId": "56358f0f-cb00-4645-f814-10a4b0ebe6ad"
      },
      "source": [
        "ratings_df[ratings_df.movieId == 318]['rating'].hist()"
      ],
      "execution_count": 44,
      "outputs": [
        {
          "output_type": "execute_result",
          "data": {
            "text/plain": [
              "<matplotlib.axes._subplots.AxesSubplot at 0x7f77c8bf1ed0>"
            ]
          },
          "metadata": {
            "tags": []
          },
          "execution_count": 44
        },
        {
          "output_type": "display_data",
          "data": {
            "image/png": "[encoded data removed]",
            "text/plain": [
              "<Figure size 432x288 with 1 Axes>"
            ]
          },
          "metadata": {
            "tags": [],
            "needs_background": "light"
          }
        }
      ]
    },
    {
      "cell_type": "markdown",
      "metadata": {
        "id": "M7HrDTiehxjg"
      },
      "source": [
        "특정 유저가 주는 평점과 실제 영화에 대한 평점 분포 비교"
      ]
    },
    {
      "cell_type": "code",
      "metadata": {
        "colab": {
          "base_uri": "https://localhost:8080/",
          "height": 111
        },
        "id": "I-NNvzUKhwVE",
        "outputId": "f4672435-8c87-4873-ecd8-ada938eb0fe6"
      },
      "source": [
        "# 포레스트 검프 2점 이하 준 사람\n",
        "ratings_df[(ratings_df.movieId == 356) & (ratings_df.rating < 2)]"
      ],
      "execution_count": 45,
      "outputs": [
        {
          "output_type": "execute_result",
          "data": {
            "text/html": [
              "<div>\n",
              "<style scoped>\n",
              "    .dataframe tbody tr th:only-of-type {\n",
              "        vertical-align: middle;\n",
              "    }\n",
              "\n",
              "    .dataframe tbody tr th {\n",
              "        vertical-align: top;\n",
              "    }\n",
              "\n",
              "    .dataframe thead th {\n",
              "        text-align: right;\n",
              "    }\n",
              "</style>\n",
              "<table border=\"1\" class=\"dataframe\">\n",
              "  <thead>\n",
              "    <tr style=\"text-align: right;\">\n",
              "      <th></th>\n",
              "      <th>userId</th>\n",
              "      <th>movieId</th>\n",
              "      <th>rating</th>\n",
              "      <th>timestamp</th>\n",
              "    </tr>\n",
              "  </thead>\n",
              "  <tbody>\n",
              "    <tr>\n",
              "      <th>12274</th>\n",
              "      <td>76</td>\n",
              "      <td>356</td>\n",
              "      <td>1.0</td>\n",
              "      <td>1439165536</td>\n",
              "    </tr>\n",
              "    <tr>\n",
              "      <th>13553</th>\n",
              "      <td>89</td>\n",
              "      <td>356</td>\n",
              "      <td>0.5</td>\n",
              "      <td>1520408275</td>\n",
              "    </tr>\n",
              "  </tbody>\n",
              "</table>\n",
              "</div>"
            ],
            "text/plain": [
              "       userId  movieId  rating   timestamp\n",
              "12274      76      356     1.0  1439165536\n",
              "13553      89      356     0.5  1520408275"
            ]
          },
          "metadata": {
            "tags": []
          },
          "execution_count": 45
        }
      ]
    },
    {
      "cell_type": "code",
      "metadata": {
        "colab": {
          "base_uri": "https://localhost:8080/",
          "height": 111
        },
        "id": "mOkzHz1uh80J",
        "outputId": "1838b659-95bd-46c0-bdd5-e14c34a37f56"
      },
      "source": [
        "# 쇼생크 탈출 2점 이하 준 사람\n",
        "ratings_df[(ratings_df.movieId == 318) & (ratings_df.rating < 2)]"
      ],
      "execution_count": 46,
      "outputs": [
        {
          "output_type": "execute_result",
          "data": {
            "text/html": [
              "<div>\n",
              "<style scoped>\n",
              "    .dataframe tbody tr th:only-of-type {\n",
              "        vertical-align: middle;\n",
              "    }\n",
              "\n",
              "    .dataframe tbody tr th {\n",
              "        vertical-align: top;\n",
              "    }\n",
              "\n",
              "    .dataframe thead th {\n",
              "        text-align: right;\n",
              "    }\n",
              "</style>\n",
              "<table border=\"1\" class=\"dataframe\">\n",
              "  <thead>\n",
              "    <tr style=\"text-align: right;\">\n",
              "      <th></th>\n",
              "      <th>userId</th>\n",
              "      <th>movieId</th>\n",
              "      <th>rating</th>\n",
              "      <th>timestamp</th>\n",
              "    </tr>\n",
              "  </thead>\n",
              "  <tbody>\n",
              "    <tr>\n",
              "      <th>47727</th>\n",
              "      <td>308</td>\n",
              "      <td>318</td>\n",
              "      <td>1.0</td>\n",
              "      <td>1421373686</td>\n",
              "    </tr>\n",
              "    <tr>\n",
              "      <th>82517</th>\n",
              "      <td>524</td>\n",
              "      <td>318</td>\n",
              "      <td>1.0</td>\n",
              "      <td>851608745</td>\n",
              "    </tr>\n",
              "  </tbody>\n",
              "</table>\n",
              "</div>"
            ],
            "text/plain": [
              "       userId  movieId  rating   timestamp\n",
              "47727     308      318     1.0  1421373686\n",
              "82517     524      318     1.0   851608745"
            ]
          },
          "metadata": {
            "tags": []
          },
          "execution_count": 46
        }
      ]
    },
    {
      "cell_type": "code",
      "metadata": {
        "colab": {
          "base_uri": "https://localhost:8080/",
          "height": 286
        },
        "id": "ImdXbj1OiJpZ",
        "outputId": "a62250da-d3a1-4774-fb68-8176615d7aa3"
      },
      "source": [
        "# 포레스트 검프 2점 이하로 준 사람의 영화 평가 분포\n",
        "ratings_df[(ratings_df.userId == 76)]['rating'].hist()"
      ],
      "execution_count": 47,
      "outputs": [
        {
          "output_type": "execute_result",
          "data": {
            "text/plain": [
              "<matplotlib.axes._subplots.AxesSubplot at 0x7f77c8cde910>"
            ]
          },
          "metadata": {
            "tags": []
          },
          "execution_count": 47
        },
        {
          "output_type": "display_data",
          "data": {
            "image/png": "[encoded data removed]",
            "text/plain": [
              "<Figure size 432x288 with 1 Axes>"
            ]
          },
          "metadata": {
            "tags": [],
            "needs_background": "light"
          }
        }
      ]
    },
    {
      "cell_type": "markdown",
      "metadata": {
        "id": "j6mGgNnDixVj"
      },
      "source": [
        "76번 유저에게 어떤 영화를 추천해줘야할까? <br/>\n",
        "356번 영화와 같은 비슷한 분포의 점수 영화를 추천해주면 좋은 반응이 나오지 않을 것"
      ]
    }
  ]
}